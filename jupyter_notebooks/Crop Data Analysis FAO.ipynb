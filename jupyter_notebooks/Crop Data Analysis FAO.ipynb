{
 "cells": [
  {
   "cell_type": "code",
   "execution_count": 1,
   "metadata": {},
   "outputs": [],
   "source": [
    "import pandas as pd\n",
    "import os\n",
    "\n",
    "from matplotlib import pyplot as plt"
   ]
  },
  {
   "cell_type": "code",
   "execution_count": 2,
   "metadata": {},
   "outputs": [],
   "source": [
    "file_name = \"FAOSTAT_data_1-27-2021.csv\"\n",
    "folder_path = \"../data\"\n",
    "full_file_path = os.path.join(folder_path, file_name)"
   ]
  },
  {
   "cell_type": "code",
   "execution_count": 3,
   "metadata": {},
   "outputs": [],
   "source": [
    "df = pd.read_csv(full_file_path)"
   ]
  },
  {
   "cell_type": "code",
   "execution_count": 53,
   "metadata": {},
   "outputs": [
    {
     "data": {
      "text/html": [
       "<div>\n",
       "<style scoped>\n",
       "    .dataframe tbody tr th:only-of-type {\n",
       "        vertical-align: middle;\n",
       "    }\n",
       "\n",
       "    .dataframe tbody tr th {\n",
       "        vertical-align: top;\n",
       "    }\n",
       "\n",
       "    .dataframe thead th {\n",
       "        text-align: right;\n",
       "    }\n",
       "</style>\n",
       "<table border=\"1\" class=\"dataframe\">\n",
       "  <thead>\n",
       "    <tr style=\"text-align: right;\">\n",
       "      <th></th>\n",
       "      <th>Domain Code</th>\n",
       "      <th>Domain</th>\n",
       "      <th>Area Code</th>\n",
       "      <th>Area</th>\n",
       "      <th>Element Code</th>\n",
       "      <th>Element</th>\n",
       "      <th>Item Code</th>\n",
       "      <th>Item</th>\n",
       "      <th>Year Code</th>\n",
       "      <th>Year</th>\n",
       "      <th>Unit</th>\n",
       "      <th>Value</th>\n",
       "      <th>Flag</th>\n",
       "      <th>Flag Description</th>\n",
       "    </tr>\n",
       "  </thead>\n",
       "  <tbody>\n",
       "    <tr>\n",
       "      <th>0</th>\n",
       "      <td>QC</td>\n",
       "      <td>Crops</td>\n",
       "      <td>21</td>\n",
       "      <td>Brazil</td>\n",
       "      <td>5510</td>\n",
       "      <td>Production</td>\n",
       "      <td>221</td>\n",
       "      <td>Almonds, with shell</td>\n",
       "      <td>1991</td>\n",
       "      <td>1991</td>\n",
       "      <td>tonnes</td>\n",
       "      <td>NaN</td>\n",
       "      <td>M</td>\n",
       "      <td>Data not available</td>\n",
       "    </tr>\n",
       "    <tr>\n",
       "      <th>1</th>\n",
       "      <td>QC</td>\n",
       "      <td>Crops</td>\n",
       "      <td>21</td>\n",
       "      <td>Brazil</td>\n",
       "      <td>5510</td>\n",
       "      <td>Production</td>\n",
       "      <td>221</td>\n",
       "      <td>Almonds, with shell</td>\n",
       "      <td>1992</td>\n",
       "      <td>1992</td>\n",
       "      <td>tonnes</td>\n",
       "      <td>NaN</td>\n",
       "      <td>M</td>\n",
       "      <td>Data not available</td>\n",
       "    </tr>\n",
       "    <tr>\n",
       "      <th>2</th>\n",
       "      <td>QC</td>\n",
       "      <td>Crops</td>\n",
       "      <td>21</td>\n",
       "      <td>Brazil</td>\n",
       "      <td>5510</td>\n",
       "      <td>Production</td>\n",
       "      <td>221</td>\n",
       "      <td>Almonds, with shell</td>\n",
       "      <td>1993</td>\n",
       "      <td>1993</td>\n",
       "      <td>tonnes</td>\n",
       "      <td>NaN</td>\n",
       "      <td>M</td>\n",
       "      <td>Data not available</td>\n",
       "    </tr>\n",
       "    <tr>\n",
       "      <th>3</th>\n",
       "      <td>QC</td>\n",
       "      <td>Crops</td>\n",
       "      <td>21</td>\n",
       "      <td>Brazil</td>\n",
       "      <td>5510</td>\n",
       "      <td>Production</td>\n",
       "      <td>221</td>\n",
       "      <td>Almonds, with shell</td>\n",
       "      <td>1994</td>\n",
       "      <td>1994</td>\n",
       "      <td>tonnes</td>\n",
       "      <td>NaN</td>\n",
       "      <td>M</td>\n",
       "      <td>Data not available</td>\n",
       "    </tr>\n",
       "    <tr>\n",
       "      <th>4</th>\n",
       "      <td>QC</td>\n",
       "      <td>Crops</td>\n",
       "      <td>21</td>\n",
       "      <td>Brazil</td>\n",
       "      <td>5510</td>\n",
       "      <td>Production</td>\n",
       "      <td>221</td>\n",
       "      <td>Almonds, with shell</td>\n",
       "      <td>1995</td>\n",
       "      <td>1995</td>\n",
       "      <td>tonnes</td>\n",
       "      <td>NaN</td>\n",
       "      <td>M</td>\n",
       "      <td>Data not available</td>\n",
       "    </tr>\n",
       "  </tbody>\n",
       "</table>\n",
       "</div>"
      ],
      "text/plain": [
       "  Domain Code Domain  Area Code    Area  Element Code     Element  Item Code  \\\n",
       "0          QC  Crops         21  Brazil          5510  Production        221   \n",
       "1          QC  Crops         21  Brazil          5510  Production        221   \n",
       "2          QC  Crops         21  Brazil          5510  Production        221   \n",
       "3          QC  Crops         21  Brazil          5510  Production        221   \n",
       "4          QC  Crops         21  Brazil          5510  Production        221   \n",
       "\n",
       "                  Item  Year Code  Year    Unit  Value Flag  \\\n",
       "0  Almonds, with shell       1991  1991  tonnes    NaN    M   \n",
       "1  Almonds, with shell       1992  1992  tonnes    NaN    M   \n",
       "2  Almonds, with shell       1993  1993  tonnes    NaN    M   \n",
       "3  Almonds, with shell       1994  1994  tonnes    NaN    M   \n",
       "4  Almonds, with shell       1995  1995  tonnes    NaN    M   \n",
       "\n",
       "     Flag Description  \n",
       "0  Data not available  \n",
       "1  Data not available  \n",
       "2  Data not available  \n",
       "3  Data not available  \n",
       "4  Data not available  "
      ]
     },
     "execution_count": 53,
     "metadata": {},
     "output_type": "execute_result"
    }
   ],
   "source": [
    "df.head()"
   ]
  },
  {
   "cell_type": "code",
   "execution_count": 54,
   "metadata": {},
   "outputs": [
    {
     "data": {
      "text/plain": [
       "array(['Brazil', 'China', 'India', 'United States of America'],\n",
       "      dtype=object)"
      ]
     },
     "execution_count": 54,
     "metadata": {},
     "output_type": "execute_result"
    }
   ],
   "source": [
    "df['Area'].unique()"
   ]
  },
  {
   "cell_type": "code",
   "execution_count": 55,
   "metadata": {},
   "outputs": [
    {
     "name": "stdout",
     "output_type": "stream",
     "text": [
      "<class 'pandas.core.frame.DataFrame'>\n",
      "RangeIndex: 22052 entries, 0 to 22051\n",
      "Data columns (total 14 columns):\n",
      " #   Column            Non-Null Count  Dtype  \n",
      "---  ------            --------------  -----  \n",
      " 0   Domain Code       22052 non-null  object \n",
      " 1   Domain            22052 non-null  object \n",
      " 2   Area Code         22052 non-null  int64  \n",
      " 3   Area              22052 non-null  object \n",
      " 4   Element Code      22052 non-null  int64  \n",
      " 5   Element           22052 non-null  object \n",
      " 6   Item Code         22052 non-null  int64  \n",
      " 7   Item              22052 non-null  object \n",
      " 8   Year Code         22052 non-null  int64  \n",
      " 9   Year              22052 non-null  int64  \n",
      " 10  Unit              22052 non-null  object \n",
      " 11  Value             21024 non-null  float64\n",
      " 12  Flag              10801 non-null  object \n",
      " 13  Flag Description  22052 non-null  object \n",
      "dtypes: float64(1), int64(5), object(8)\n",
      "memory usage: 2.4+ MB\n"
     ]
    }
   ],
   "source": [
    "df.info()"
   ]
  },
  {
   "cell_type": "code",
   "execution_count": 56,
   "metadata": {
    "scrolled": true
   },
   "outputs": [
    {
     "data": {
      "text/html": [
       "<div>\n",
       "<style scoped>\n",
       "    .dataframe tbody tr th:only-of-type {\n",
       "        vertical-align: middle;\n",
       "    }\n",
       "\n",
       "    .dataframe tbody tr th {\n",
       "        vertical-align: top;\n",
       "    }\n",
       "\n",
       "    .dataframe thead th {\n",
       "        text-align: right;\n",
       "    }\n",
       "</style>\n",
       "<table border=\"1\" class=\"dataframe\">\n",
       "  <thead>\n",
       "    <tr style=\"text-align: right;\">\n",
       "      <th></th>\n",
       "      <th>Area Code</th>\n",
       "      <th>Element Code</th>\n",
       "      <th>Item Code</th>\n",
       "      <th>Year Code</th>\n",
       "      <th>Year</th>\n",
       "      <th>Value</th>\n",
       "    </tr>\n",
       "  </thead>\n",
       "  <tbody>\n",
       "    <tr>\n",
       "      <th>count</th>\n",
       "      <td>22052.000000</td>\n",
       "      <td>22052.0</td>\n",
       "      <td>22052.000000</td>\n",
       "      <td>22052.000000</td>\n",
       "      <td>22052.000000</td>\n",
       "      <td>2.102400e+04</td>\n",
       "    </tr>\n",
       "    <tr>\n",
       "      <th>mean</th>\n",
       "      <td>199.569790</td>\n",
       "      <td>5510.0</td>\n",
       "      <td>399.314937</td>\n",
       "      <td>1990.414792</td>\n",
       "      <td>1990.414792</td>\n",
       "      <td>7.544590e+06</td>\n",
       "    </tr>\n",
       "    <tr>\n",
       "      <th>std</th>\n",
       "      <td>128.197095</td>\n",
       "      <td>0.0</td>\n",
       "      <td>213.881161</td>\n",
       "      <td>17.003990</td>\n",
       "      <td>17.003990</td>\n",
       "      <td>3.295158e+07</td>\n",
       "    </tr>\n",
       "    <tr>\n",
       "      <th>min</th>\n",
       "      <td>21.000000</td>\n",
       "      <td>5510.0</td>\n",
       "      <td>15.000000</td>\n",
       "      <td>1961.000000</td>\n",
       "      <td>1961.000000</td>\n",
       "      <td>0.000000e+00</td>\n",
       "    </tr>\n",
       "    <tr>\n",
       "      <th>25%</th>\n",
       "      <td>100.000000</td>\n",
       "      <td>5510.0</td>\n",
       "      <td>223.000000</td>\n",
       "      <td>1976.000000</td>\n",
       "      <td>1976.000000</td>\n",
       "      <td>4.800000e+04</td>\n",
       "    </tr>\n",
       "    <tr>\n",
       "      <th>50%</th>\n",
       "      <td>231.000000</td>\n",
       "      <td>5510.0</td>\n",
       "      <td>402.000000</td>\n",
       "      <td>1991.000000</td>\n",
       "      <td>1991.000000</td>\n",
       "      <td>4.190010e+05</td>\n",
       "    </tr>\n",
       "    <tr>\n",
       "      <th>75%</th>\n",
       "      <td>351.000000</td>\n",
       "      <td>5510.0</td>\n",
       "      <td>560.000000</td>\n",
       "      <td>2005.000000</td>\n",
       "      <td>2005.000000</td>\n",
       "      <td>2.353705e+06</td>\n",
       "    </tr>\n",
       "    <tr>\n",
       "      <th>max</th>\n",
       "      <td>351.000000</td>\n",
       "      <td>5510.0</td>\n",
       "      <td>839.000000</td>\n",
       "      <td>2019.000000</td>\n",
       "      <td>2019.000000</td>\n",
       "      <td>7.685942e+08</td>\n",
       "    </tr>\n",
       "  </tbody>\n",
       "</table>\n",
       "</div>"
      ],
      "text/plain": [
       "          Area Code  Element Code     Item Code     Year Code          Year  \\\n",
       "count  22052.000000       22052.0  22052.000000  22052.000000  22052.000000   \n",
       "mean     199.569790        5510.0    399.314937   1990.414792   1990.414792   \n",
       "std      128.197095           0.0    213.881161     17.003990     17.003990   \n",
       "min       21.000000        5510.0     15.000000   1961.000000   1961.000000   \n",
       "25%      100.000000        5510.0    223.000000   1976.000000   1976.000000   \n",
       "50%      231.000000        5510.0    402.000000   1991.000000   1991.000000   \n",
       "75%      351.000000        5510.0    560.000000   2005.000000   2005.000000   \n",
       "max      351.000000        5510.0    839.000000   2019.000000   2019.000000   \n",
       "\n",
       "              Value  \n",
       "count  2.102400e+04  \n",
       "mean   7.544590e+06  \n",
       "std    3.295158e+07  \n",
       "min    0.000000e+00  \n",
       "25%    4.800000e+04  \n",
       "50%    4.190010e+05  \n",
       "75%    2.353705e+06  \n",
       "max    7.685942e+08  "
      ]
     },
     "execution_count": 56,
     "metadata": {},
     "output_type": "execute_result"
    }
   ],
   "source": [
    "df.describe()"
   ]
  },
  {
   "cell_type": "code",
   "execution_count": 57,
   "metadata": {},
   "outputs": [],
   "source": [
    "df_temp = df[['Area', 'Domain', 'Item', 'Value', 'Unit', 'Year']]"
   ]
  },
  {
   "cell_type": "code",
   "execution_count": 58,
   "metadata": {},
   "outputs": [
    {
     "data": {
      "text/html": [
       "<div>\n",
       "<style scoped>\n",
       "    .dataframe tbody tr th:only-of-type {\n",
       "        vertical-align: middle;\n",
       "    }\n",
       "\n",
       "    .dataframe tbody tr th {\n",
       "        vertical-align: top;\n",
       "    }\n",
       "\n",
       "    .dataframe thead th {\n",
       "        text-align: right;\n",
       "    }\n",
       "</style>\n",
       "<table border=\"1\" class=\"dataframe\">\n",
       "  <thead>\n",
       "    <tr style=\"text-align: right;\">\n",
       "      <th></th>\n",
       "      <th>Area</th>\n",
       "      <th>Domain</th>\n",
       "      <th>Item</th>\n",
       "      <th>Value</th>\n",
       "      <th>Unit</th>\n",
       "      <th>Year</th>\n",
       "    </tr>\n",
       "  </thead>\n",
       "  <tbody>\n",
       "    <tr>\n",
       "      <th>0</th>\n",
       "      <td>Brazil</td>\n",
       "      <td>Crops</td>\n",
       "      <td>Almonds, with shell</td>\n",
       "      <td>NaN</td>\n",
       "      <td>tonnes</td>\n",
       "      <td>1991</td>\n",
       "    </tr>\n",
       "    <tr>\n",
       "      <th>1</th>\n",
       "      <td>Brazil</td>\n",
       "      <td>Crops</td>\n",
       "      <td>Almonds, with shell</td>\n",
       "      <td>NaN</td>\n",
       "      <td>tonnes</td>\n",
       "      <td>1992</td>\n",
       "    </tr>\n",
       "    <tr>\n",
       "      <th>2</th>\n",
       "      <td>Brazil</td>\n",
       "      <td>Crops</td>\n",
       "      <td>Almonds, with shell</td>\n",
       "      <td>NaN</td>\n",
       "      <td>tonnes</td>\n",
       "      <td>1993</td>\n",
       "    </tr>\n",
       "    <tr>\n",
       "      <th>3</th>\n",
       "      <td>Brazil</td>\n",
       "      <td>Crops</td>\n",
       "      <td>Almonds, with shell</td>\n",
       "      <td>NaN</td>\n",
       "      <td>tonnes</td>\n",
       "      <td>1994</td>\n",
       "    </tr>\n",
       "    <tr>\n",
       "      <th>4</th>\n",
       "      <td>Brazil</td>\n",
       "      <td>Crops</td>\n",
       "      <td>Almonds, with shell</td>\n",
       "      <td>NaN</td>\n",
       "      <td>tonnes</td>\n",
       "      <td>1995</td>\n",
       "    </tr>\n",
       "  </tbody>\n",
       "</table>\n",
       "</div>"
      ],
      "text/plain": [
       "     Area Domain                 Item  Value    Unit  Year\n",
       "0  Brazil  Crops  Almonds, with shell    NaN  tonnes  1991\n",
       "1  Brazil  Crops  Almonds, with shell    NaN  tonnes  1992\n",
       "2  Brazil  Crops  Almonds, with shell    NaN  tonnes  1993\n",
       "3  Brazil  Crops  Almonds, with shell    NaN  tonnes  1994\n",
       "4  Brazil  Crops  Almonds, with shell    NaN  tonnes  1995"
      ]
     },
     "execution_count": 58,
     "metadata": {},
     "output_type": "execute_result"
    }
   ],
   "source": [
    "df_temp.head()"
   ]
  },
  {
   "cell_type": "code",
   "execution_count": 59,
   "metadata": {},
   "outputs": [
    {
     "data": {
      "text/html": [
       "<div>\n",
       "<style scoped>\n",
       "    .dataframe tbody tr th:only-of-type {\n",
       "        vertical-align: middle;\n",
       "    }\n",
       "\n",
       "    .dataframe tbody tr th {\n",
       "        vertical-align: top;\n",
       "    }\n",
       "\n",
       "    .dataframe thead th {\n",
       "        text-align: right;\n",
       "    }\n",
       "</style>\n",
       "<table border=\"1\" class=\"dataframe\">\n",
       "  <thead>\n",
       "    <tr style=\"text-align: right;\">\n",
       "      <th></th>\n",
       "      <th>Area</th>\n",
       "      <th>Domain</th>\n",
       "      <th>Item</th>\n",
       "      <th>Value</th>\n",
       "      <th>Unit</th>\n",
       "      <th>Year</th>\n",
       "    </tr>\n",
       "  </thead>\n",
       "  <tbody>\n",
       "    <tr>\n",
       "      <th>22047</th>\n",
       "      <td>United States of America</td>\n",
       "      <td>Crops</td>\n",
       "      <td>Wheat</td>\n",
       "      <td>55839540.0</td>\n",
       "      <td>tonnes</td>\n",
       "      <td>2015</td>\n",
       "    </tr>\n",
       "    <tr>\n",
       "      <th>22048</th>\n",
       "      <td>United States of America</td>\n",
       "      <td>Crops</td>\n",
       "      <td>Wheat</td>\n",
       "      <td>62831507.0</td>\n",
       "      <td>tonnes</td>\n",
       "      <td>2016</td>\n",
       "    </tr>\n",
       "    <tr>\n",
       "      <th>22049</th>\n",
       "      <td>United States of America</td>\n",
       "      <td>Crops</td>\n",
       "      <td>Wheat</td>\n",
       "      <td>47379810.0</td>\n",
       "      <td>tonnes</td>\n",
       "      <td>2017</td>\n",
       "    </tr>\n",
       "    <tr>\n",
       "      <th>22050</th>\n",
       "      <td>United States of America</td>\n",
       "      <td>Crops</td>\n",
       "      <td>Wheat</td>\n",
       "      <td>51305540.0</td>\n",
       "      <td>tonnes</td>\n",
       "      <td>2018</td>\n",
       "    </tr>\n",
       "    <tr>\n",
       "      <th>22051</th>\n",
       "      <td>United States of America</td>\n",
       "      <td>Crops</td>\n",
       "      <td>Wheat</td>\n",
       "      <td>52257620.0</td>\n",
       "      <td>tonnes</td>\n",
       "      <td>2019</td>\n",
       "    </tr>\n",
       "  </tbody>\n",
       "</table>\n",
       "</div>"
      ],
      "text/plain": [
       "                           Area Domain   Item       Value    Unit  Year\n",
       "22047  United States of America  Crops  Wheat  55839540.0  tonnes  2015\n",
       "22048  United States of America  Crops  Wheat  62831507.0  tonnes  2016\n",
       "22049  United States of America  Crops  Wheat  47379810.0  tonnes  2017\n",
       "22050  United States of America  Crops  Wheat  51305540.0  tonnes  2018\n",
       "22051  United States of America  Crops  Wheat  52257620.0  tonnes  2019"
      ]
     },
     "execution_count": 59,
     "metadata": {},
     "output_type": "execute_result"
    }
   ],
   "source": [
    "df_temp.tail()"
   ]
  },
  {
   "cell_type": "markdown",
   "metadata": {},
   "source": [
    "##  Brazil Yearly Data Analysis"
   ]
  },
  {
   "cell_type": "code",
   "execution_count": 60,
   "metadata": {},
   "outputs": [
    {
     "data": {
      "text/html": [
       "<div>\n",
       "<style scoped>\n",
       "    .dataframe tbody tr th:only-of-type {\n",
       "        vertical-align: middle;\n",
       "    }\n",
       "\n",
       "    .dataframe tbody tr th {\n",
       "        vertical-align: top;\n",
       "    }\n",
       "\n",
       "    .dataframe thead th {\n",
       "        text-align: right;\n",
       "    }\n",
       "</style>\n",
       "<table border=\"1\" class=\"dataframe\">\n",
       "  <thead>\n",
       "    <tr style=\"text-align: right;\">\n",
       "      <th></th>\n",
       "      <th>Area</th>\n",
       "      <th>Domain</th>\n",
       "      <th>Item</th>\n",
       "      <th>Value</th>\n",
       "      <th>Unit</th>\n",
       "      <th>Year</th>\n",
       "    </tr>\n",
       "  </thead>\n",
       "  <tbody>\n",
       "    <tr>\n",
       "      <th>0</th>\n",
       "      <td>Brazil</td>\n",
       "      <td>Crops</td>\n",
       "      <td>Almonds, with shell</td>\n",
       "      <td>NaN</td>\n",
       "      <td>tonnes</td>\n",
       "      <td>1991</td>\n",
       "    </tr>\n",
       "    <tr>\n",
       "      <th>1</th>\n",
       "      <td>Brazil</td>\n",
       "      <td>Crops</td>\n",
       "      <td>Almonds, with shell</td>\n",
       "      <td>NaN</td>\n",
       "      <td>tonnes</td>\n",
       "      <td>1992</td>\n",
       "    </tr>\n",
       "    <tr>\n",
       "      <th>2</th>\n",
       "      <td>Brazil</td>\n",
       "      <td>Crops</td>\n",
       "      <td>Almonds, with shell</td>\n",
       "      <td>NaN</td>\n",
       "      <td>tonnes</td>\n",
       "      <td>1993</td>\n",
       "    </tr>\n",
       "    <tr>\n",
       "      <th>3</th>\n",
       "      <td>Brazil</td>\n",
       "      <td>Crops</td>\n",
       "      <td>Almonds, with shell</td>\n",
       "      <td>NaN</td>\n",
       "      <td>tonnes</td>\n",
       "      <td>1994</td>\n",
       "    </tr>\n",
       "    <tr>\n",
       "      <th>4</th>\n",
       "      <td>Brazil</td>\n",
       "      <td>Crops</td>\n",
       "      <td>Almonds, with shell</td>\n",
       "      <td>NaN</td>\n",
       "      <td>tonnes</td>\n",
       "      <td>1995</td>\n",
       "    </tr>\n",
       "  </tbody>\n",
       "</table>\n",
       "</div>"
      ],
      "text/plain": [
       "     Area Domain                 Item  Value    Unit  Year\n",
       "0  Brazil  Crops  Almonds, with shell    NaN  tonnes  1991\n",
       "1  Brazil  Crops  Almonds, with shell    NaN  tonnes  1992\n",
       "2  Brazil  Crops  Almonds, with shell    NaN  tonnes  1993\n",
       "3  Brazil  Crops  Almonds, with shell    NaN  tonnes  1994\n",
       "4  Brazil  Crops  Almonds, with shell    NaN  tonnes  1995"
      ]
     },
     "execution_count": 60,
     "metadata": {},
     "output_type": "execute_result"
    }
   ],
   "source": [
    "df_brazil = df_temp[(df_temp['Area'] == 'Brazil')]\n",
    "df_brazil.head()"
   ]
  },
  {
   "cell_type": "code",
   "execution_count": 63,
   "metadata": {},
   "outputs": [
    {
     "data": {
      "image/png": "[encoded data removed]",
      "text/plain": [
       "<Figure size 1080x360 with 1 Axes>"
      ]
     },
     "metadata": {
      "needs_background": "light"
     },
     "output_type": "display_data"
    }
   ],
   "source": [
    "x_brazil = df_brazil['Year']\n",
    "y_brazil = df_brazil['Value']\n",
    "\n",
    "plt.figure(figsize=(15,5))\n",
    "plt.scatter(x_brazil, y_brazil)\n",
    "\n",
    "plt.show()"
   ]
  },
  {
   "cell_type": "markdown",
   "metadata": {},
   "source": [
    "### Brazil Rice & Potatoes Data Analysis"
   ]
  },
  {
   "cell_type": "code",
   "execution_count": 49,
   "metadata": {},
   "outputs": [
    {
     "data": {
      "text/plain": [
       "array(['Almonds, with shell', 'Apples', 'Avocados', 'Bananas', 'Barley',\n",
       "       'Bastfibres, other', 'Beans, dry', 'Brazil nuts, with shell',\n",
       "       'Broad beans, horse beans, dry', 'Buckwheat',\n",
       "       'Cashew nuts, with shell', 'Cashewapple', 'Cassava',\n",
       "       'Castor oil seed', 'Chestnut', 'Cocoa, beans', 'Coconuts',\n",
       "       'Coffee, green', 'Fibre crops nes', 'Figs', 'Fruit, stone nes',\n",
       "       'Fruit, tropical fresh nes', 'Garlic', 'Grapefruit (inc. pomelos)',\n",
       "       'Grapes', 'Groundnuts, with shell', 'Gums, natural', 'Jute',\n",
       "       'Lemons and limes', 'Linseed', 'Maize',\n",
       "       'Mangoes, mangosteens, guavas', 'Maté',\n",
       "       'Melons, other (inc.cantaloupes)', 'Nuts nes', 'Oats',\n",
       "       'Oil palm fruit', 'Oilseeds nes', 'Olives', 'Onions, dry',\n",
       "       'Oranges', 'Papayas', 'Peaches and nectarines', 'Pears',\n",
       "       'Peas, dry', 'Pepper (piper spp.)', 'Persimmons', 'Pineapples',\n",
       "       'Potatoes', 'Pyrethrum, dried', 'Quinces', 'Ramie', 'Rapeseed',\n",
       "       'Rice, paddy', 'Rice, paddy (rice milled equivalent)',\n",
       "       'Rubber, natural', 'Rye', 'Seed cotton', 'Sesame seed', 'Sisal',\n",
       "       'Sorghum', 'Soybeans', 'Strawberries', 'Sugar cane',\n",
       "       'Sunflower seed', 'Sweet potatoes',\n",
       "       'Tangerines, mandarins, clementines, satsumas', 'Tea',\n",
       "       'Tobacco, unmanufactured', 'Tomatoes', 'Triticale', 'Tung nuts',\n",
       "       'Vegetables, fresh nes', 'Walnuts, with shell', 'Watermelons',\n",
       "       'Wheat', 'Yams'], dtype=object)"
      ]
     },
     "execution_count": 49,
     "metadata": {},
     "output_type": "execute_result"
    }
   ],
   "source": [
    "df_brazil['Item'].unique()"
   ]
  },
  {
   "cell_type": "code",
   "execution_count": 50,
   "metadata": {},
   "outputs": [
    {
     "data": {
      "text/html": [
       "<div>\n",
       "<style scoped>\n",
       "    .dataframe tbody tr th:only-of-type {\n",
       "        vertical-align: middle;\n",
       "    }\n",
       "\n",
       "    .dataframe tbody tr th {\n",
       "        vertical-align: top;\n",
       "    }\n",
       "\n",
       "    .dataframe thead th {\n",
       "        text-align: right;\n",
       "    }\n",
       "</style>\n",
       "<table border=\"1\" class=\"dataframe\">\n",
       "  <thead>\n",
       "    <tr style=\"text-align: right;\">\n",
       "      <th></th>\n",
       "      <th>Area</th>\n",
       "      <th>Domain</th>\n",
       "      <th>Item</th>\n",
       "      <th>Value</th>\n",
       "      <th>Unit</th>\n",
       "      <th>Year</th>\n",
       "    </tr>\n",
       "  </thead>\n",
       "  <tbody>\n",
       "    <tr>\n",
       "      <th>2982</th>\n",
       "      <td>Brazil</td>\n",
       "      <td>Crops</td>\n",
       "      <td>Rice, paddy</td>\n",
       "      <td>5392477.0</td>\n",
       "      <td>tonnes</td>\n",
       "      <td>1961</td>\n",
       "    </tr>\n",
       "    <tr>\n",
       "      <th>2983</th>\n",
       "      <td>Brazil</td>\n",
       "      <td>Crops</td>\n",
       "      <td>Rice, paddy</td>\n",
       "      <td>5556834.0</td>\n",
       "      <td>tonnes</td>\n",
       "      <td>1962</td>\n",
       "    </tr>\n",
       "    <tr>\n",
       "      <th>2984</th>\n",
       "      <td>Brazil</td>\n",
       "      <td>Crops</td>\n",
       "      <td>Rice, paddy</td>\n",
       "      <td>5740065.0</td>\n",
       "      <td>tonnes</td>\n",
       "      <td>1963</td>\n",
       "    </tr>\n",
       "    <tr>\n",
       "      <th>2985</th>\n",
       "      <td>Brazil</td>\n",
       "      <td>Crops</td>\n",
       "      <td>Rice, paddy</td>\n",
       "      <td>6344931.0</td>\n",
       "      <td>tonnes</td>\n",
       "      <td>1964</td>\n",
       "    </tr>\n",
       "    <tr>\n",
       "      <th>2986</th>\n",
       "      <td>Brazil</td>\n",
       "      <td>Crops</td>\n",
       "      <td>Rice, paddy</td>\n",
       "      <td>7579649.0</td>\n",
       "      <td>tonnes</td>\n",
       "      <td>1965</td>\n",
       "    </tr>\n",
       "  </tbody>\n",
       "</table>\n",
       "</div>"
      ],
      "text/plain": [
       "        Area Domain         Item      Value    Unit  Year\n",
       "2982  Brazil  Crops  Rice, paddy  5392477.0  tonnes  1961\n",
       "2983  Brazil  Crops  Rice, paddy  5556834.0  tonnes  1962\n",
       "2984  Brazil  Crops  Rice, paddy  5740065.0  tonnes  1963\n",
       "2985  Brazil  Crops  Rice, paddy  6344931.0  tonnes  1964\n",
       "2986  Brazil  Crops  Rice, paddy  7579649.0  tonnes  1965"
      ]
     },
     "execution_count": 50,
     "metadata": {},
     "output_type": "execute_result"
    }
   ],
   "source": [
    "df_brazil_rice = df_brazil[(df_brazil['Item'] == 'Rice, paddy')]\n",
    "df_brazil_rice.head()"
   ]
  },
  {
   "cell_type": "code",
   "execution_count": 68,
   "metadata": {},
   "outputs": [
    {
     "data": {
      "image/png": "[encoded data removed]",
      "text/plain": [
       "<Figure size 1080x360 with 1 Axes>"
      ]
     },
     "metadata": {
      "needs_background": "light"
     },
     "output_type": "display_data"
    }
   ],
   "source": [
    "x_brazil_rice = df_brazil['Year']\n",
    "y_brazil_rice = df_brazil['Value']\n",
    "\n",
    "plt.figure(figsize=(15,5))\n",
    "plt.scatter(x_brazil_rice, y_brazil_rice)\n",
    "\n",
    "plt.show()"
   ]
  },
  {
   "cell_type": "code",
   "execution_count": 73,
   "metadata": {},
   "outputs": [
    {
     "data": {
      "text/html": [
       "<div>\n",
       "<style scoped>\n",
       "    .dataframe tbody tr th:only-of-type {\n",
       "        vertical-align: middle;\n",
       "    }\n",
       "\n",
       "    .dataframe tbody tr th {\n",
       "        vertical-align: top;\n",
       "    }\n",
       "\n",
       "    .dataframe thead th {\n",
       "        text-align: right;\n",
       "    }\n",
       "</style>\n",
       "<table border=\"1\" class=\"dataframe\">\n",
       "  <thead>\n",
       "    <tr style=\"text-align: right;\">\n",
       "      <th></th>\n",
       "      <th>Area</th>\n",
       "      <th>Domain</th>\n",
       "      <th>Item</th>\n",
       "      <th>Value</th>\n",
       "      <th>Unit</th>\n",
       "      <th>Year</th>\n",
       "    </tr>\n",
       "  </thead>\n",
       "  <tbody>\n",
       "    <tr>\n",
       "      <th>2718</th>\n",
       "      <td>Brazil</td>\n",
       "      <td>Crops</td>\n",
       "      <td>Potatoes</td>\n",
       "      <td>1080310.0</td>\n",
       "      <td>tonnes</td>\n",
       "      <td>1961</td>\n",
       "    </tr>\n",
       "    <tr>\n",
       "      <th>2719</th>\n",
       "      <td>Brazil</td>\n",
       "      <td>Crops</td>\n",
       "      <td>Potatoes</td>\n",
       "      <td>1133860.0</td>\n",
       "      <td>tonnes</td>\n",
       "      <td>1962</td>\n",
       "    </tr>\n",
       "    <tr>\n",
       "      <th>2720</th>\n",
       "      <td>Brazil</td>\n",
       "      <td>Crops</td>\n",
       "      <td>Potatoes</td>\n",
       "      <td>1167774.0</td>\n",
       "      <td>tonnes</td>\n",
       "      <td>1963</td>\n",
       "    </tr>\n",
       "    <tr>\n",
       "      <th>2721</th>\n",
       "      <td>Brazil</td>\n",
       "      <td>Crops</td>\n",
       "      <td>Potatoes</td>\n",
       "      <td>1263812.0</td>\n",
       "      <td>tonnes</td>\n",
       "      <td>1964</td>\n",
       "    </tr>\n",
       "    <tr>\n",
       "      <th>2722</th>\n",
       "      <td>Brazil</td>\n",
       "      <td>Crops</td>\n",
       "      <td>Potatoes</td>\n",
       "      <td>1245857.0</td>\n",
       "      <td>tonnes</td>\n",
       "      <td>1965</td>\n",
       "    </tr>\n",
       "  </tbody>\n",
       "</table>\n",
       "</div>"
      ],
      "text/plain": [
       "        Area Domain      Item      Value    Unit  Year\n",
       "2718  Brazil  Crops  Potatoes  1080310.0  tonnes  1961\n",
       "2719  Brazil  Crops  Potatoes  1133860.0  tonnes  1962\n",
       "2720  Brazil  Crops  Potatoes  1167774.0  tonnes  1963\n",
       "2721  Brazil  Crops  Potatoes  1263812.0  tonnes  1964\n",
       "2722  Brazil  Crops  Potatoes  1245857.0  tonnes  1965"
      ]
     },
     "execution_count": 73,
     "metadata": {},
     "output_type": "execute_result"
    }
   ],
   "source": [
    "df_brazil_potatoes = df_brazil[(df_brazil['Item'] == 'Potatoes')]\n",
    "df_brazil_potatoes.head()"
   ]
  },
  {
   "cell_type": "code",
   "execution_count": 74,
   "metadata": {},
   "outputs": [
    {
     "data": {
      "image/png": "[encoded data removed]",
      "text/plain": [
       "<Figure size 1080x360 with 1 Axes>"
      ]
     },
     "metadata": {
      "needs_background": "light"
     },
     "output_type": "display_data"
    }
   ],
   "source": [
    "x_brazil_potatoes = df_brazil_potatoes['Year']\n",
    "y_brazil_potatoes = df_brazil_potatoes['Value']\n",
    "\n",
    "plt.figure(figsize=(15,5))\n",
    "plt.scatter(x_brazil_potatoes, y_brazil_potatoes)\n",
    "\n",
    "plt.show()"
   ]
  },
  {
   "cell_type": "markdown",
   "metadata": {},
   "source": [
    "## United States Yearly Data Analysis"
   ]
  },
  {
   "cell_type": "code",
   "execution_count": 36,
   "metadata": {},
   "outputs": [
    {
     "data": {
      "text/html": [
       "<div>\n",
       "<style scoped>\n",
       "    .dataframe tbody tr th:only-of-type {\n",
       "        vertical-align: middle;\n",
       "    }\n",
       "\n",
       "    .dataframe tbody tr th {\n",
       "        vertical-align: top;\n",
       "    }\n",
       "\n",
       "    .dataframe thead th {\n",
       "        text-align: right;\n",
       "    }\n",
       "</style>\n",
       "<table border=\"1\" class=\"dataframe\">\n",
       "  <thead>\n",
       "    <tr style=\"text-align: right;\">\n",
       "      <th></th>\n",
       "      <th>Area</th>\n",
       "      <th>Domain</th>\n",
       "      <th>Item</th>\n",
       "      <th>Value</th>\n",
       "      <th>Unit</th>\n",
       "      <th>Year</th>\n",
       "    </tr>\n",
       "  </thead>\n",
       "  <tbody>\n",
       "    <tr>\n",
       "      <th>16672</th>\n",
       "      <td>United States of America</td>\n",
       "      <td>Crops</td>\n",
       "      <td>Almonds, with shell</td>\n",
       "      <td>60237.0</td>\n",
       "      <td>tonnes</td>\n",
       "      <td>1961</td>\n",
       "    </tr>\n",
       "    <tr>\n",
       "      <th>16673</th>\n",
       "      <td>United States of America</td>\n",
       "      <td>Crops</td>\n",
       "      <td>Almonds, with shell</td>\n",
       "      <td>43545.0</td>\n",
       "      <td>tonnes</td>\n",
       "      <td>1962</td>\n",
       "    </tr>\n",
       "    <tr>\n",
       "      <th>16674</th>\n",
       "      <td>United States of America</td>\n",
       "      <td>Crops</td>\n",
       "      <td>Almonds, with shell</td>\n",
       "      <td>54159.0</td>\n",
       "      <td>tonnes</td>\n",
       "      <td>1963</td>\n",
       "    </tr>\n",
       "    <tr>\n",
       "      <th>16675</th>\n",
       "      <td>United States of America</td>\n",
       "      <td>Crops</td>\n",
       "      <td>Almonds, with shell</td>\n",
       "      <td>68042.0</td>\n",
       "      <td>tonnes</td>\n",
       "      <td>1964</td>\n",
       "    </tr>\n",
       "    <tr>\n",
       "      <th>16676</th>\n",
       "      <td>United States of America</td>\n",
       "      <td>Crops</td>\n",
       "      <td>Almonds, with shell</td>\n",
       "      <td>66133.0</td>\n",
       "      <td>tonnes</td>\n",
       "      <td>1965</td>\n",
       "    </tr>\n",
       "  </tbody>\n",
       "</table>\n",
       "</div>"
      ],
      "text/plain": [
       "                           Area Domain                 Item    Value    Unit  \\\n",
       "16672  United States of America  Crops  Almonds, with shell  60237.0  tonnes   \n",
       "16673  United States of America  Crops  Almonds, with shell  43545.0  tonnes   \n",
       "16674  United States of America  Crops  Almonds, with shell  54159.0  tonnes   \n",
       "16675  United States of America  Crops  Almonds, with shell  68042.0  tonnes   \n",
       "16676  United States of America  Crops  Almonds, with shell  66133.0  tonnes   \n",
       "\n",
       "       Year  \n",
       "16672  1961  \n",
       "16673  1962  \n",
       "16674  1963  \n",
       "16675  1964  \n",
       "16676  1965  "
      ]
     },
     "execution_count": 36,
     "metadata": {},
     "output_type": "execute_result"
    }
   ],
   "source": [
    "df_usa = df_temp[(df_temp['Area'] == 'United States of America')]\n",
    "df_usa.head()"
   ]
  },
  {
   "cell_type": "code",
   "execution_count": 79,
   "metadata": {},
   "outputs": [
    {
     "data": {
      "image/png": "[encoded data removed]",
      "text/plain": [
       "<Figure size 1080x360 with 1 Axes>"
      ]
     },
     "metadata": {
      "needs_background": "light"
     },
     "output_type": "display_data"
    }
   ],
   "source": [
    "x_usa = df_usa['Year']\n",
    "y_usa = df_usa['Value']\n",
    "\n",
    "plt.figure(figsize=(15,5))\n",
    "plt.scatter(x_usa, y_usa)\n",
    "\n",
    "plt.show()"
   ]
  },
  {
   "cell_type": "markdown",
   "metadata": {},
   "source": [
    "### USA Rice & Potatoes Data Analysis "
   ]
  },
  {
   "cell_type": "code",
   "execution_count": 70,
   "metadata": {},
   "outputs": [
    {
     "data": {
      "text/plain": [
       "array(['Almonds, with shell', 'Apples', 'Apricots', 'Artichokes',\n",
       "       'Asparagus', 'Avocados', 'Bananas', 'Barley', 'Beans, dry',\n",
       "       'Beans, green', 'Berries nes', 'Blueberries', 'Buckwheat',\n",
       "       'Cabbages and other brassicas', 'Carrots and turnips',\n",
       "       'Castor oil seed', 'Cauliflowers and broccoli', 'Cereals nes',\n",
       "       'Cherries', 'Cherries, sour', 'Chick peas',\n",
       "       'Chillies and peppers, dry', 'Chillies and peppers, green',\n",
       "       'Coffee, green', 'Cow peas, dry', 'Cranberries',\n",
       "       'Cucumbers and gherkins', 'Currants', 'Dates',\n",
       "       'Eggplants (aubergines)', 'Figs', 'Fruit, citrus nes',\n",
       "       'Fruit, fresh nes', 'Garlic', 'Ginger',\n",
       "       'Grapefruit (inc. pomelos)', 'Grapes', 'Groundnuts, with shell',\n",
       "       'Hazelnuts, with shell', 'Hops', 'Kiwi fruit', 'Lemons and limes',\n",
       "       'Lentils', 'Lettuce and chicory', 'Linseed', 'Maize',\n",
       "       'Maize, green', 'Mangoes, mangosteens, guavas',\n",
       "       'Melons, other (inc.cantaloupes)', 'Millet',\n",
       "       'Mushrooms and truffles', 'Mustard seed', 'Nuts nes', 'Oats',\n",
       "       'Okra', 'Olives', 'Onions, dry', 'Oranges', 'Papayas',\n",
       "       'Peaches and nectarines', 'Pears', 'Peas, dry', 'Peas, green',\n",
       "       'Pineapples', 'Pistachios', 'Plums and sloes', 'Potatoes',\n",
       "       'Pumpkins, squash and gourds', 'Rapeseed', 'Raspberries',\n",
       "       'Rice, paddy', 'Rice, paddy (rice milled equivalent)', 'Rye',\n",
       "       'Safflower seed', 'Seed cotton', 'Sesame seed', 'Sorghum',\n",
       "       'Soybeans', 'Spinach', 'Strawberries', 'String beans',\n",
       "       'Sugar beet', 'Sugar cane', 'Sunflower seed', 'Sweet potatoes',\n",
       "       'Tangerines, mandarins, clementines, satsumas', 'Taro (cocoyam)',\n",
       "       'Tobacco, unmanufactured', 'Tomatoes', 'Tung nuts',\n",
       "       'Vegetables, fresh nes', 'Vegetables, leguminous nes',\n",
       "       'Walnuts, with shell', 'Watermelons', 'Wheat'], dtype=object)"
      ]
     },
     "execution_count": 70,
     "metadata": {},
     "output_type": "execute_result"
    }
   ],
   "source": [
    "df_usa['Item'].unique()"
   ]
  },
  {
   "cell_type": "code",
   "execution_count": 71,
   "metadata": {},
   "outputs": [
    {
     "data": {
      "text/html": [
       "<div>\n",
       "<style scoped>\n",
       "    .dataframe tbody tr th:only-of-type {\n",
       "        vertical-align: middle;\n",
       "    }\n",
       "\n",
       "    .dataframe tbody tr th {\n",
       "        vertical-align: top;\n",
       "    }\n",
       "\n",
       "    .dataframe thead th {\n",
       "        text-align: right;\n",
       "    }\n",
       "</style>\n",
       "<table border=\"1\" class=\"dataframe\">\n",
       "  <thead>\n",
       "    <tr style=\"text-align: right;\">\n",
       "      <th></th>\n",
       "      <th>Area</th>\n",
       "      <th>Domain</th>\n",
       "      <th>Item</th>\n",
       "      <th>Value</th>\n",
       "      <th>Unit</th>\n",
       "      <th>Year</th>\n",
       "    </tr>\n",
       "  </thead>\n",
       "  <tbody>\n",
       "    <tr>\n",
       "      <th>20618</th>\n",
       "      <td>United States of America</td>\n",
       "      <td>Crops</td>\n",
       "      <td>Rice, paddy</td>\n",
       "      <td>2458000.0</td>\n",
       "      <td>tonnes</td>\n",
       "      <td>1961</td>\n",
       "    </tr>\n",
       "    <tr>\n",
       "      <th>20619</th>\n",
       "      <td>United States of America</td>\n",
       "      <td>Crops</td>\n",
       "      <td>Rice, paddy</td>\n",
       "      <td>2996000.0</td>\n",
       "      <td>tonnes</td>\n",
       "      <td>1962</td>\n",
       "    </tr>\n",
       "    <tr>\n",
       "      <th>20620</th>\n",
       "      <td>United States of America</td>\n",
       "      <td>Crops</td>\n",
       "      <td>Rice, paddy</td>\n",
       "      <td>3187000.0</td>\n",
       "      <td>tonnes</td>\n",
       "      <td>1963</td>\n",
       "    </tr>\n",
       "    <tr>\n",
       "      <th>20621</th>\n",
       "      <td>United States of America</td>\n",
       "      <td>Crops</td>\n",
       "      <td>Rice, paddy</td>\n",
       "      <td>3319000.0</td>\n",
       "      <td>tonnes</td>\n",
       "      <td>1964</td>\n",
       "    </tr>\n",
       "    <tr>\n",
       "      <th>20622</th>\n",
       "      <td>United States of America</td>\n",
       "      <td>Crops</td>\n",
       "      <td>Rice, paddy</td>\n",
       "      <td>3460000.0</td>\n",
       "      <td>tonnes</td>\n",
       "      <td>1965</td>\n",
       "    </tr>\n",
       "  </tbody>\n",
       "</table>\n",
       "</div>"
      ],
      "text/plain": [
       "                           Area Domain         Item      Value    Unit  Year\n",
       "20618  United States of America  Crops  Rice, paddy  2458000.0  tonnes  1961\n",
       "20619  United States of America  Crops  Rice, paddy  2996000.0  tonnes  1962\n",
       "20620  United States of America  Crops  Rice, paddy  3187000.0  tonnes  1963\n",
       "20621  United States of America  Crops  Rice, paddy  3319000.0  tonnes  1964\n",
       "20622  United States of America  Crops  Rice, paddy  3460000.0  tonnes  1965"
      ]
     },
     "execution_count": 71,
     "metadata": {},
     "output_type": "execute_result"
    }
   ],
   "source": [
    "df_usa_rice = df_usa[(df_usa['Item'] == 'Rice, paddy')]\n",
    "df_usa_rice.head()"
   ]
  },
  {
   "cell_type": "code",
   "execution_count": 72,
   "metadata": {},
   "outputs": [
    {
     "data": {
      "image/png": "[encoded data removed]",
      "text/plain": [
       "<Figure size 1080x360 with 1 Axes>"
      ]
     },
     "metadata": {
      "needs_background": "light"
     },
     "output_type": "display_data"
    }
   ],
   "source": [
    "x_usa_rice = df_usa['Year']\n",
    "y_usa_rice = df_usa['Value']\n",
    "\n",
    "plt.figure(figsize=(15,5))\n",
    "plt.scatter(x_usa_rice, y_usa_rice)\n",
    "\n",
    "plt.show()"
   ]
  },
  {
   "cell_type": "code",
   "execution_count": 75,
   "metadata": {},
   "outputs": [
    {
     "data": {
      "text/html": [
       "<div>\n",
       "<style scoped>\n",
       "    .dataframe tbody tr th:only-of-type {\n",
       "        vertical-align: middle;\n",
       "    }\n",
       "\n",
       "    .dataframe tbody tr th {\n",
       "        vertical-align: top;\n",
       "    }\n",
       "\n",
       "    .dataframe thead th {\n",
       "        text-align: right;\n",
       "    }\n",
       "</style>\n",
       "<table border=\"1\" class=\"dataframe\">\n",
       "  <thead>\n",
       "    <tr style=\"text-align: right;\">\n",
       "      <th></th>\n",
       "      <th>Area</th>\n",
       "      <th>Domain</th>\n",
       "      <th>Item</th>\n",
       "      <th>Value</th>\n",
       "      <th>Unit</th>\n",
       "      <th>Year</th>\n",
       "    </tr>\n",
       "  </thead>\n",
       "  <tbody>\n",
       "    <tr>\n",
       "      <th>20408</th>\n",
       "      <td>United States of America</td>\n",
       "      <td>Crops</td>\n",
       "      <td>Potatoes</td>\n",
       "      <td>13305000.0</td>\n",
       "      <td>tonnes</td>\n",
       "      <td>1961</td>\n",
       "    </tr>\n",
       "    <tr>\n",
       "      <th>20409</th>\n",
       "      <td>United States of America</td>\n",
       "      <td>Crops</td>\n",
       "      <td>Potatoes</td>\n",
       "      <td>12018000.0</td>\n",
       "      <td>tonnes</td>\n",
       "      <td>1962</td>\n",
       "    </tr>\n",
       "    <tr>\n",
       "      <th>20410</th>\n",
       "      <td>United States of America</td>\n",
       "      <td>Crops</td>\n",
       "      <td>Potatoes</td>\n",
       "      <td>12305931.0</td>\n",
       "      <td>tonnes</td>\n",
       "      <td>1963</td>\n",
       "    </tr>\n",
       "    <tr>\n",
       "      <th>20411</th>\n",
       "      <td>United States of America</td>\n",
       "      <td>Crops</td>\n",
       "      <td>Potatoes</td>\n",
       "      <td>10941455.0</td>\n",
       "      <td>tonnes</td>\n",
       "      <td>1964</td>\n",
       "    </tr>\n",
       "    <tr>\n",
       "      <th>20412</th>\n",
       "      <td>United States of America</td>\n",
       "      <td>Crops</td>\n",
       "      <td>Potatoes</td>\n",
       "      <td>13210568.0</td>\n",
       "      <td>tonnes</td>\n",
       "      <td>1965</td>\n",
       "    </tr>\n",
       "  </tbody>\n",
       "</table>\n",
       "</div>"
      ],
      "text/plain": [
       "                           Area Domain      Item       Value    Unit  Year\n",
       "20408  United States of America  Crops  Potatoes  13305000.0  tonnes  1961\n",
       "20409  United States of America  Crops  Potatoes  12018000.0  tonnes  1962\n",
       "20410  United States of America  Crops  Potatoes  12305931.0  tonnes  1963\n",
       "20411  United States of America  Crops  Potatoes  10941455.0  tonnes  1964\n",
       "20412  United States of America  Crops  Potatoes  13210568.0  tonnes  1965"
      ]
     },
     "execution_count": 75,
     "metadata": {},
     "output_type": "execute_result"
    }
   ],
   "source": [
    "df_usa_potatoes = df_usa[(df_usa['Item'] == 'Potatoes')]\n",
    "df_usa_potatoes.head()"
   ]
  },
  {
   "cell_type": "code",
   "execution_count": 76,
   "metadata": {},
   "outputs": [
    {
     "data": {
      "image/png": "[encoded data removed]",
      "text/plain": [
       "<Figure size 1080x360 with 1 Axes>"
      ]
     },
     "metadata": {
      "needs_background": "light"
     },
     "output_type": "display_data"
    }
   ],
   "source": [
    "x_usa_potatoes = df_usa_potatoes['Year']\n",
    "y_usa_potatoes = df_usa_potatoes['Value']\n",
    "\n",
    "plt.figure(figsize=(15,5))\n",
    "plt.scatter(x_usa_potatoes, y_usa_potatoes)\n",
    "\n",
    "plt.show()"
   ]
  },
  {
   "cell_type": "markdown",
   "metadata": {},
   "source": [
    "## China Yearly Data Analysis"
   ]
  },
  {
   "cell_type": "code",
   "execution_count": 77,
   "metadata": {},
   "outputs": [
    {
     "data": {
      "text/html": [
       "<div>\n",
       "<style scoped>\n",
       "    .dataframe tbody tr th:only-of-type {\n",
       "        vertical-align: middle;\n",
       "    }\n",
       "\n",
       "    .dataframe tbody tr th {\n",
       "        vertical-align: top;\n",
       "    }\n",
       "\n",
       "    .dataframe thead th {\n",
       "        text-align: right;\n",
       "    }\n",
       "</style>\n",
       "<table border=\"1\" class=\"dataframe\">\n",
       "  <thead>\n",
       "    <tr style=\"text-align: right;\">\n",
       "      <th></th>\n",
       "      <th>Area</th>\n",
       "      <th>Domain</th>\n",
       "      <th>Item</th>\n",
       "      <th>Value</th>\n",
       "      <th>Unit</th>\n",
       "      <th>Year</th>\n",
       "    </tr>\n",
       "  </thead>\n",
       "  <tbody>\n",
       "    <tr>\n",
       "      <th>4391</th>\n",
       "      <td>China</td>\n",
       "      <td>Crops</td>\n",
       "      <td>Almonds, with shell</td>\n",
       "      <td>5000.0</td>\n",
       "      <td>tonnes</td>\n",
       "      <td>1961</td>\n",
       "    </tr>\n",
       "    <tr>\n",
       "      <th>4392</th>\n",
       "      <td>China</td>\n",
       "      <td>Crops</td>\n",
       "      <td>Almonds, with shell</td>\n",
       "      <td>5500.0</td>\n",
       "      <td>tonnes</td>\n",
       "      <td>1962</td>\n",
       "    </tr>\n",
       "    <tr>\n",
       "      <th>4393</th>\n",
       "      <td>China</td>\n",
       "      <td>Crops</td>\n",
       "      <td>Almonds, with shell</td>\n",
       "      <td>5800.0</td>\n",
       "      <td>tonnes</td>\n",
       "      <td>1963</td>\n",
       "    </tr>\n",
       "    <tr>\n",
       "      <th>4394</th>\n",
       "      <td>China</td>\n",
       "      <td>Crops</td>\n",
       "      <td>Almonds, with shell</td>\n",
       "      <td>6500.0</td>\n",
       "      <td>tonnes</td>\n",
       "      <td>1964</td>\n",
       "    </tr>\n",
       "    <tr>\n",
       "      <th>4395</th>\n",
       "      <td>China</td>\n",
       "      <td>Crops</td>\n",
       "      <td>Almonds, with shell</td>\n",
       "      <td>7500.0</td>\n",
       "      <td>tonnes</td>\n",
       "      <td>1965</td>\n",
       "    </tr>\n",
       "  </tbody>\n",
       "</table>\n",
       "</div>"
      ],
      "text/plain": [
       "       Area Domain                 Item   Value    Unit  Year\n",
       "4391  China  Crops  Almonds, with shell  5000.0  tonnes  1961\n",
       "4392  China  Crops  Almonds, with shell  5500.0  tonnes  1962\n",
       "4393  China  Crops  Almonds, with shell  5800.0  tonnes  1963\n",
       "4394  China  Crops  Almonds, with shell  6500.0  tonnes  1964\n",
       "4395  China  Crops  Almonds, with shell  7500.0  tonnes  1965"
      ]
     },
     "execution_count": 77,
     "metadata": {},
     "output_type": "execute_result"
    }
   ],
   "source": [
    "df_china = df_temp[(df_temp['Area'] == 'China')]\n",
    "df_china.head()"
   ]
  },
  {
   "cell_type": "code",
   "execution_count": 80,
   "metadata": {},
   "outputs": [
    {
     "data": {
      "image/png": "[encoded data removed]",
      "text/plain": [
       "<Figure size 1080x360 with 1 Axes>"
      ]
     },
     "metadata": {
      "needs_background": "light"
     },
     "output_type": "display_data"
    }
   ],
   "source": [
    "x_china = df_china['Year']\n",
    "y_china = df_china['Value']\n",
    "\n",
    "plt.figure(figsize=(15,5))\n",
    "plt.scatter(x_china, y_china)\n",
    "\n",
    "plt.show()"
   ]
  },
  {
   "cell_type": "markdown",
   "metadata": {},
   "source": [
    "### China Rice & Potatoes Data Analysis"
   ]
  },
  {
   "cell_type": "code",
   "execution_count": 81,
   "metadata": {},
   "outputs": [
    {
     "data": {
      "text/plain": [
       "array(['Almonds, with shell', 'Anise, badian, fennel, coriander',\n",
       "       'Apples', 'Apricots', 'Areca nuts', 'Artichokes', 'Asparagus',\n",
       "       'Avocados', 'Bananas', 'Barley', 'Bastfibres, other', 'Beans, dry',\n",
       "       'Beans, green', 'Berries nes', 'Blueberries',\n",
       "       'Broad beans, horse beans, dry', 'Buckwheat',\n",
       "       'Cabbages and other brassicas', 'Carrots and turnips',\n",
       "       'Cashew nuts, with shell', 'Cassava', 'Castor oil seed',\n",
       "       'Cauliflowers and broccoli', 'Cereals nes', 'Cherries', 'Chestnut',\n",
       "       'Chick peas', 'Chillies and peppers, dry',\n",
       "       'Chillies and peppers, green', 'Cinnamon (cannella)', 'Cloves',\n",
       "       'Cocoa, beans', 'Coconuts', 'Coffee, green', 'Cow peas, dry',\n",
       "       'Cucumbers and gherkins', 'Dates', 'Eggplants (aubergines)',\n",
       "       'Fibre crops nes', 'Figs', 'Flax fibre and tow',\n",
       "       'Fruit, citrus nes', 'Fruit, fresh nes', 'Fruit, stone nes',\n",
       "       'Fruit, tropical fresh nes', 'Garlic', 'Ginger',\n",
       "       'Grapefruit (inc. pomelos)', 'Grapes', 'Groundnuts, with shell',\n",
       "       'Hazelnuts, with shell', 'Hemp tow waste', 'Hempseed', 'Hops',\n",
       "       'Jute', 'Karite nuts (sheanuts)', 'Kiwi fruit',\n",
       "       'Leeks, other alliaceous vegetables', 'Lemons and limes',\n",
       "       'Lentils', 'Lettuce and chicory', 'Linseed', 'Maize',\n",
       "       'Maize, green', 'Mangoes, mangosteens, guavas',\n",
       "       'Melons, other (inc.cantaloupes)', 'Melonseed', 'Millet',\n",
       "       'Mushrooms and truffles', 'Mustard seed', 'Nuts nes', 'Oats',\n",
       "       'Oil palm fruit', 'Oilseeds nes', 'Olives', 'Onions, dry',\n",
       "       'Onions, shallots, green', 'Oranges', 'Papayas',\n",
       "       'Peaches and nectarines', 'Pears', 'Peas, dry', 'Peas, green',\n",
       "       'Pepper (piper spp.)', 'Peppermint', 'Persimmons', 'Pineapples',\n",
       "       'Pistachios', 'Plums and sloes', 'Potatoes', 'Pulses nes',\n",
       "       'Pumpkins, squash and gourds', 'Quinces', 'Ramie', 'Rapeseed',\n",
       "       'Rice, paddy', 'Rice, paddy (rice milled equivalent)',\n",
       "       'Roots and tubers nes', 'Rubber, natural', 'Rye', 'Safflower seed',\n",
       "       'Seed cotton', 'Sesame seed', 'Sisal', 'Sorghum', 'Soybeans',\n",
       "       'Spices nes', 'Spinach', 'Strawberries', 'String beans',\n",
       "       'Sugar beet', 'Sugar cane', 'Sunflower seed', 'Sweet potatoes',\n",
       "       'Tallowtree seed', 'Tangerines, mandarins, clementines, satsumas',\n",
       "       'Taro (cocoyam)', 'Tea', 'Tobacco, unmanufactured', 'Tomatoes',\n",
       "       'Triticale', 'Tung nuts', 'Vanilla', 'Vegetables, fresh nes',\n",
       "       'Vegetables, leguminous nes', 'Walnuts, with shell', 'Watermelons',\n",
       "       'Wheat'], dtype=object)"
      ]
     },
     "execution_count": 81,
     "metadata": {},
     "output_type": "execute_result"
    }
   ],
   "source": [
    "df_china['Item'].unique()"
   ]
  },
  {
   "cell_type": "code",
   "execution_count": 82,
   "metadata": {},
   "outputs": [
    {
     "data": {
      "text/html": [
       "<div>\n",
       "<style scoped>\n",
       "    .dataframe tbody tr th:only-of-type {\n",
       "        vertical-align: middle;\n",
       "    }\n",
       "\n",
       "    .dataframe tbody tr th {\n",
       "        vertical-align: top;\n",
       "    }\n",
       "\n",
       "    .dataframe thead th {\n",
       "        text-align: right;\n",
       "    }\n",
       "</style>\n",
       "<table border=\"1\" class=\"dataframe\">\n",
       "  <thead>\n",
       "    <tr style=\"text-align: right;\">\n",
       "      <th></th>\n",
       "      <th>Area</th>\n",
       "      <th>Domain</th>\n",
       "      <th>Item</th>\n",
       "      <th>Value</th>\n",
       "      <th>Unit</th>\n",
       "      <th>Year</th>\n",
       "    </tr>\n",
       "  </thead>\n",
       "  <tbody>\n",
       "    <tr>\n",
       "      <th>9774</th>\n",
       "      <td>China</td>\n",
       "      <td>Crops</td>\n",
       "      <td>Rice, paddy</td>\n",
       "      <td>56217596.0</td>\n",
       "      <td>tonnes</td>\n",
       "      <td>1961</td>\n",
       "    </tr>\n",
       "    <tr>\n",
       "      <th>9775</th>\n",
       "      <td>China</td>\n",
       "      <td>Crops</td>\n",
       "      <td>Rice, paddy</td>\n",
       "      <td>65675296.0</td>\n",
       "      <td>tonnes</td>\n",
       "      <td>1962</td>\n",
       "    </tr>\n",
       "    <tr>\n",
       "      <th>9776</th>\n",
       "      <td>China</td>\n",
       "      <td>Crops</td>\n",
       "      <td>Rice, paddy</td>\n",
       "      <td>76439287.0</td>\n",
       "      <td>tonnes</td>\n",
       "      <td>1963</td>\n",
       "    </tr>\n",
       "    <tr>\n",
       "      <th>9777</th>\n",
       "      <td>China</td>\n",
       "      <td>Crops</td>\n",
       "      <td>Rice, paddy</td>\n",
       "      <td>85853775.0</td>\n",
       "      <td>tonnes</td>\n",
       "      <td>1964</td>\n",
       "    </tr>\n",
       "    <tr>\n",
       "      <th>9778</th>\n",
       "      <td>China</td>\n",
       "      <td>Crops</td>\n",
       "      <td>Rice, paddy</td>\n",
       "      <td>90705628.0</td>\n",
       "      <td>tonnes</td>\n",
       "      <td>1965</td>\n",
       "    </tr>\n",
       "  </tbody>\n",
       "</table>\n",
       "</div>"
      ],
      "text/plain": [
       "       Area Domain         Item       Value    Unit  Year\n",
       "9774  China  Crops  Rice, paddy  56217596.0  tonnes  1961\n",
       "9775  China  Crops  Rice, paddy  65675296.0  tonnes  1962\n",
       "9776  China  Crops  Rice, paddy  76439287.0  tonnes  1963\n",
       "9777  China  Crops  Rice, paddy  85853775.0  tonnes  1964\n",
       "9778  China  Crops  Rice, paddy  90705628.0  tonnes  1965"
      ]
     },
     "execution_count": 82,
     "metadata": {},
     "output_type": "execute_result"
    }
   ],
   "source": [
    "df_china_rice = df_china[(df_china['Item'] == 'Rice, paddy')]\n",
    "df_china_rice.head()"
   ]
  },
  {
   "cell_type": "code",
   "execution_count": 83,
   "metadata": {},
   "outputs": [
    {
     "data": {
      "image/png": "[encoded data removed]",
      "text/plain": [
       "<Figure size 1080x360 with 1 Axes>"
      ]
     },
     "metadata": {
      "needs_background": "light"
     },
     "output_type": "display_data"
    }
   ],
   "source": [
    "x_china_rice = df_china['Year']\n",
    "y_china_rice = df_china['Value']\n",
    "\n",
    "plt.figure(figsize=(15,5))\n",
    "plt.scatter(x_china_rice, y_china_rice)\n",
    "\n",
    "plt.show()"
   ]
  },
  {
   "cell_type": "code",
   "execution_count": 84,
   "metadata": {},
   "outputs": [
    {
     "data": {
      "text/html": [
       "<div>\n",
       "<style scoped>\n",
       "    .dataframe tbody tr th:only-of-type {\n",
       "        vertical-align: middle;\n",
       "    }\n",
       "\n",
       "    .dataframe tbody tr th {\n",
       "        vertical-align: top;\n",
       "    }\n",
       "\n",
       "    .dataframe thead th {\n",
       "        text-align: right;\n",
       "    }\n",
       "</style>\n",
       "<table border=\"1\" class=\"dataframe\">\n",
       "  <thead>\n",
       "    <tr style=\"text-align: right;\">\n",
       "      <th></th>\n",
       "      <th>Area</th>\n",
       "      <th>Domain</th>\n",
       "      <th>Item</th>\n",
       "      <th>Value</th>\n",
       "      <th>Unit</th>\n",
       "      <th>Year</th>\n",
       "    </tr>\n",
       "  </thead>\n",
       "  <tbody>\n",
       "    <tr>\n",
       "      <th>9444</th>\n",
       "      <td>China</td>\n",
       "      <td>Crops</td>\n",
       "      <td>Potatoes</td>\n",
       "      <td>12907173.0</td>\n",
       "      <td>tonnes</td>\n",
       "      <td>1961</td>\n",
       "    </tr>\n",
       "    <tr>\n",
       "      <th>9445</th>\n",
       "      <td>China</td>\n",
       "      <td>Crops</td>\n",
       "      <td>Potatoes</td>\n",
       "      <td>13807856.0</td>\n",
       "      <td>tonnes</td>\n",
       "      <td>1962</td>\n",
       "    </tr>\n",
       "    <tr>\n",
       "      <th>9446</th>\n",
       "      <td>China</td>\n",
       "      <td>Crops</td>\n",
       "      <td>Potatoes</td>\n",
       "      <td>12009773.0</td>\n",
       "      <td>tonnes</td>\n",
       "      <td>1963</td>\n",
       "    </tr>\n",
       "    <tr>\n",
       "      <th>9447</th>\n",
       "      <td>China</td>\n",
       "      <td>Crops</td>\n",
       "      <td>Potatoes</td>\n",
       "      <td>14019152.0</td>\n",
       "      <td>tonnes</td>\n",
       "      <td>1964</td>\n",
       "    </tr>\n",
       "    <tr>\n",
       "      <th>9448</th>\n",
       "      <td>China</td>\n",
       "      <td>Crops</td>\n",
       "      <td>Potatoes</td>\n",
       "      <td>16016136.0</td>\n",
       "      <td>tonnes</td>\n",
       "      <td>1965</td>\n",
       "    </tr>\n",
       "  </tbody>\n",
       "</table>\n",
       "</div>"
      ],
      "text/plain": [
       "       Area Domain      Item       Value    Unit  Year\n",
       "9444  China  Crops  Potatoes  12907173.0  tonnes  1961\n",
       "9445  China  Crops  Potatoes  13807856.0  tonnes  1962\n",
       "9446  China  Crops  Potatoes  12009773.0  tonnes  1963\n",
       "9447  China  Crops  Potatoes  14019152.0  tonnes  1964\n",
       "9448  China  Crops  Potatoes  16016136.0  tonnes  1965"
      ]
     },
     "execution_count": 84,
     "metadata": {},
     "output_type": "execute_result"
    }
   ],
   "source": [
    "df_china_potatoes = df_china[(df_china['Item'] == 'Potatoes')]\n",
    "df_china_potatoes.head()"
   ]
  },
  {
   "cell_type": "code",
   "execution_count": 85,
   "metadata": {},
   "outputs": [
    {
     "data": {
      "image/png": "[encoded data removed]",
      "text/plain": [
       "<Figure size 1080x360 with 1 Axes>"
      ]
     },
     "metadata": {
      "needs_background": "light"
     },
     "output_type": "display_data"
    }
   ],
   "source": [
    "x_china_potatoes = df_china_potatoes['Year']\n",
    "y_china_potatoes = df_china_potatoes['Value']\n",
    "\n",
    "plt.figure(figsize=(15,5))\n",
    "plt.scatter(x_china_potatoes, y_china_potatoes)\n",
    "\n",
    "plt.show()"
   ]
  },
  {
   "cell_type": "markdown",
   "metadata": {},
   "source": [
    "## India Yearly Data Analysis"
   ]
  },
  {
   "cell_type": "code",
   "execution_count": 87,
   "metadata": {},
   "outputs": [
    {
     "data": {
      "text/html": [
       "<div>\n",
       "<style scoped>\n",
       "    .dataframe tbody tr th:only-of-type {\n",
       "        vertical-align: middle;\n",
       "    }\n",
       "\n",
       "    .dataframe tbody tr th {\n",
       "        vertical-align: top;\n",
       "    }\n",
       "\n",
       "    .dataframe thead th {\n",
       "        text-align: right;\n",
       "    }\n",
       "</style>\n",
       "<table border=\"1\" class=\"dataframe\">\n",
       "  <thead>\n",
       "    <tr style=\"text-align: right;\">\n",
       "      <th></th>\n",
       "      <th>Area</th>\n",
       "      <th>Domain</th>\n",
       "      <th>Item</th>\n",
       "      <th>Value</th>\n",
       "      <th>Unit</th>\n",
       "      <th>Year</th>\n",
       "    </tr>\n",
       "  </thead>\n",
       "  <tbody>\n",
       "    <tr>\n",
       "      <th>11713</th>\n",
       "      <td>India</td>\n",
       "      <td>Crops</td>\n",
       "      <td>Anise, badian, fennel, coriander</td>\n",
       "      <td>45000.0</td>\n",
       "      <td>tonnes</td>\n",
       "      <td>1961</td>\n",
       "    </tr>\n",
       "    <tr>\n",
       "      <th>11714</th>\n",
       "      <td>India</td>\n",
       "      <td>Crops</td>\n",
       "      <td>Anise, badian, fennel, coriander</td>\n",
       "      <td>45000.0</td>\n",
       "      <td>tonnes</td>\n",
       "      <td>1962</td>\n",
       "    </tr>\n",
       "    <tr>\n",
       "      <th>11715</th>\n",
       "      <td>India</td>\n",
       "      <td>Crops</td>\n",
       "      <td>Anise, badian, fennel, coriander</td>\n",
       "      <td>50000.0</td>\n",
       "      <td>tonnes</td>\n",
       "      <td>1963</td>\n",
       "    </tr>\n",
       "    <tr>\n",
       "      <th>11716</th>\n",
       "      <td>India</td>\n",
       "      <td>Crops</td>\n",
       "      <td>Anise, badian, fennel, coriander</td>\n",
       "      <td>50000.0</td>\n",
       "      <td>tonnes</td>\n",
       "      <td>1964</td>\n",
       "    </tr>\n",
       "    <tr>\n",
       "      <th>11717</th>\n",
       "      <td>India</td>\n",
       "      <td>Crops</td>\n",
       "      <td>Anise, badian, fennel, coriander</td>\n",
       "      <td>50000.0</td>\n",
       "      <td>tonnes</td>\n",
       "      <td>1965</td>\n",
       "    </tr>\n",
       "  </tbody>\n",
       "</table>\n",
       "</div>"
      ],
      "text/plain": [
       "        Area Domain                              Item    Value    Unit  Year\n",
       "11713  India  Crops  Anise, badian, fennel, coriander  45000.0  tonnes  1961\n",
       "11714  India  Crops  Anise, badian, fennel, coriander  45000.0  tonnes  1962\n",
       "11715  India  Crops  Anise, badian, fennel, coriander  50000.0  tonnes  1963\n",
       "11716  India  Crops  Anise, badian, fennel, coriander  50000.0  tonnes  1964\n",
       "11717  India  Crops  Anise, badian, fennel, coriander  50000.0  tonnes  1965"
      ]
     },
     "execution_count": 87,
     "metadata": {},
     "output_type": "execute_result"
    }
   ],
   "source": [
    "df_india = df_temp[(df_temp['Area'] == 'India')]\n",
    "df_india.head()"
   ]
  },
  {
   "cell_type": "code",
   "execution_count": 88,
   "metadata": {},
   "outputs": [
    {
     "data": {
      "image/png": "[encoded data removed]",
      "text/plain": [
       "<Figure size 1080x360 with 1 Axes>"
      ]
     },
     "metadata": {
      "needs_background": "light"
     },
     "output_type": "display_data"
    }
   ],
   "source": [
    "x_india = df_india['Year']\n",
    "y_india = df_india['Value']\n",
    "\n",
    "plt.figure(figsize=(15,5))\n",
    "plt.scatter(x_india, y_india)\n",
    "\n",
    "plt.show()"
   ]
  },
  {
   "cell_type": "markdown",
   "metadata": {},
   "source": [
    "### India Rice & Potatoes Data Analysis"
   ]
  },
  {
   "cell_type": "code",
   "execution_count": 89,
   "metadata": {},
   "outputs": [
    {
     "data": {
      "text/plain": [
       "array(['Anise, badian, fennel, coriander', 'Apples', 'Apricots',\n",
       "       'Areca nuts', 'Bananas', 'Barley', 'Bastfibres, other',\n",
       "       'Beans, dry', 'Beans, green', 'Berries nes',\n",
       "       'Cabbages and other brassicas', 'Carrots and turnips',\n",
       "       'Cashew nuts, with shell', 'Cassava', 'Castor oil seed',\n",
       "       'Cauliflowers and broccoli', 'Cherries', 'Chick peas',\n",
       "       'Chillies and peppers, dry', 'Chillies and peppers, green',\n",
       "       'Cocoa, beans', 'Coconuts', 'Coffee, green', 'Coir',\n",
       "       'Cucumbers and gherkins', 'Eggplants (aubergines)', 'Figs',\n",
       "       'Fruit, citrus nes', 'Fruit, fresh nes', 'Fruit, stone nes',\n",
       "       'Fruit, tropical fresh nes', 'Garlic', 'Ginger',\n",
       "       'Grapefruit (inc. pomelos)', 'Grapes', 'Groundnuts, with shell',\n",
       "       'Hemp tow waste', 'Jute', 'Lemons and limes', 'Lentils',\n",
       "       'Lettuce and chicory', 'Linseed', 'Maize',\n",
       "       'Mangoes, mangosteens, guavas', 'Melons, other (inc.cantaloupes)',\n",
       "       'Millet', 'Mushrooms and truffles', 'Nutmeg, mace and cardamoms',\n",
       "       'Oilseeds nes', 'Okra', 'Onions, dry', 'Oranges', 'Papayas',\n",
       "       'Peaches and nectarines', 'Pears', 'Peas, dry', 'Peas, green',\n",
       "       'Pepper (piper spp.)', 'Pigeon peas', 'Pineapples',\n",
       "       'Plums and sloes', 'Poppy seed', 'Potatoes', 'Pulses nes',\n",
       "       'Pumpkins, squash and gourds', 'Rapeseed', 'Rice, paddy',\n",
       "       'Rice, paddy (rice milled equivalent)', 'Rubber, natural',\n",
       "       'Safflower seed', 'Seed cotton', 'Sesame seed', 'Sorghum',\n",
       "       'Soybeans', 'Spices nes', 'Sugar cane', 'Sunflower seed',\n",
       "       'Sweet potatoes', 'Tea', 'Tobacco, unmanufactured', 'Tomatoes',\n",
       "       'Vegetables, fresh nes', 'Walnuts, with shell', 'Watermelons',\n",
       "       'Wheat'], dtype=object)"
      ]
     },
     "execution_count": 89,
     "metadata": {},
     "output_type": "execute_result"
    }
   ],
   "source": [
    "df_india['Item'].unique()"
   ]
  },
  {
   "cell_type": "code",
   "execution_count": 90,
   "metadata": {},
   "outputs": [
    {
     "data": {
      "text/html": [
       "<div>\n",
       "<style scoped>\n",
       "    .dataframe tbody tr th:only-of-type {\n",
       "        vertical-align: middle;\n",
       "    }\n",
       "\n",
       "    .dataframe tbody tr th {\n",
       "        vertical-align: top;\n",
       "    }\n",
       "\n",
       "    .dataframe thead th {\n",
       "        text-align: right;\n",
       "    }\n",
       "</style>\n",
       "<table border=\"1\" class=\"dataframe\">\n",
       "  <thead>\n",
       "    <tr style=\"text-align: right;\">\n",
       "      <th></th>\n",
       "      <th>Area</th>\n",
       "      <th>Domain</th>\n",
       "      <th>Item</th>\n",
       "      <th>Value</th>\n",
       "      <th>Unit</th>\n",
       "      <th>Year</th>\n",
       "    </tr>\n",
       "  </thead>\n",
       "  <tbody>\n",
       "    <tr>\n",
       "      <th>15560</th>\n",
       "      <td>India</td>\n",
       "      <td>Crops</td>\n",
       "      <td>Rice, paddy</td>\n",
       "      <td>53494496.0</td>\n",
       "      <td>tonnes</td>\n",
       "      <td>1961</td>\n",
       "    </tr>\n",
       "    <tr>\n",
       "      <th>15561</th>\n",
       "      <td>India</td>\n",
       "      <td>Crops</td>\n",
       "      <td>Rice, paddy</td>\n",
       "      <td>49825552.0</td>\n",
       "      <td>tonnes</td>\n",
       "      <td>1962</td>\n",
       "    </tr>\n",
       "    <tr>\n",
       "      <th>15562</th>\n",
       "      <td>India</td>\n",
       "      <td>Crops</td>\n",
       "      <td>Rice, paddy</td>\n",
       "      <td>55497008.0</td>\n",
       "      <td>tonnes</td>\n",
       "      <td>1963</td>\n",
       "    </tr>\n",
       "    <tr>\n",
       "      <th>15563</th>\n",
       "      <td>India</td>\n",
       "      <td>Crops</td>\n",
       "      <td>Rice, paddy</td>\n",
       "      <td>58962000.0</td>\n",
       "      <td>tonnes</td>\n",
       "      <td>1964</td>\n",
       "    </tr>\n",
       "    <tr>\n",
       "      <th>15564</th>\n",
       "      <td>India</td>\n",
       "      <td>Crops</td>\n",
       "      <td>Rice, paddy</td>\n",
       "      <td>45883504.0</td>\n",
       "      <td>tonnes</td>\n",
       "      <td>1965</td>\n",
       "    </tr>\n",
       "  </tbody>\n",
       "</table>\n",
       "</div>"
      ],
      "text/plain": [
       "        Area Domain         Item       Value    Unit  Year\n",
       "15560  India  Crops  Rice, paddy  53494496.0  tonnes  1961\n",
       "15561  India  Crops  Rice, paddy  49825552.0  tonnes  1962\n",
       "15562  India  Crops  Rice, paddy  55497008.0  tonnes  1963\n",
       "15563  India  Crops  Rice, paddy  58962000.0  tonnes  1964\n",
       "15564  India  Crops  Rice, paddy  45883504.0  tonnes  1965"
      ]
     },
     "execution_count": 90,
     "metadata": {},
     "output_type": "execute_result"
    }
   ],
   "source": [
    "df_india_rice = df_india[(df_india['Item'] == 'Rice, paddy')]\n",
    "df_india_rice.head()"
   ]
  },
  {
   "cell_type": "code",
   "execution_count": 91,
   "metadata": {},
   "outputs": [
    {
     "data": {
      "image/png": "[encoded data removed]",
      "text/plain": [
       "<Figure size 1080x360 with 1 Axes>"
      ]
     },
     "metadata": {
      "needs_background": "light"
     },
     "output_type": "display_data"
    }
   ],
   "source": [
    "x_india_rice = df_india['Year']\n",
    "y_india_rice = df_india['Value']\n",
    "\n",
    "plt.figure(figsize=(15,5))\n",
    "plt.scatter(x_india_rice, y_india_rice)\n",
    "\n",
    "plt.show()"
   ]
  },
  {
   "cell_type": "code",
   "execution_count": 92,
   "metadata": {},
   "outputs": [
    {
     "data": {
      "text/html": [
       "<div>\n",
       "<style scoped>\n",
       "    .dataframe tbody tr th:only-of-type {\n",
       "        vertical-align: middle;\n",
       "    }\n",
       "\n",
       "    .dataframe tbody tr th {\n",
       "        vertical-align: top;\n",
       "    }\n",
       "\n",
       "    .dataframe thead th {\n",
       "        text-align: right;\n",
       "    }\n",
       "</style>\n",
       "<table border=\"1\" class=\"dataframe\">\n",
       "  <thead>\n",
       "    <tr style=\"text-align: right;\">\n",
       "      <th></th>\n",
       "      <th>Area</th>\n",
       "      <th>Domain</th>\n",
       "      <th>Item</th>\n",
       "      <th>Value</th>\n",
       "      <th>Unit</th>\n",
       "      <th>Year</th>\n",
       "    </tr>\n",
       "  </thead>\n",
       "  <tbody>\n",
       "    <tr>\n",
       "      <th>15324</th>\n",
       "      <td>India</td>\n",
       "      <td>Crops</td>\n",
       "      <td>Potatoes</td>\n",
       "      <td>2719000.0</td>\n",
       "      <td>tonnes</td>\n",
       "      <td>1961</td>\n",
       "    </tr>\n",
       "    <tr>\n",
       "      <th>15325</th>\n",
       "      <td>India</td>\n",
       "      <td>Crops</td>\n",
       "      <td>Potatoes</td>\n",
       "      <td>2447000.0</td>\n",
       "      <td>tonnes</td>\n",
       "      <td>1962</td>\n",
       "    </tr>\n",
       "    <tr>\n",
       "      <th>15326</th>\n",
       "      <td>India</td>\n",
       "      <td>Crops</td>\n",
       "      <td>Potatoes</td>\n",
       "      <td>3365000.0</td>\n",
       "      <td>tonnes</td>\n",
       "      <td>1963</td>\n",
       "    </tr>\n",
       "    <tr>\n",
       "      <th>15327</th>\n",
       "      <td>India</td>\n",
       "      <td>Crops</td>\n",
       "      <td>Potatoes</td>\n",
       "      <td>2593000.0</td>\n",
       "      <td>tonnes</td>\n",
       "      <td>1964</td>\n",
       "    </tr>\n",
       "    <tr>\n",
       "      <th>15328</th>\n",
       "      <td>India</td>\n",
       "      <td>Crops</td>\n",
       "      <td>Potatoes</td>\n",
       "      <td>3605000.0</td>\n",
       "      <td>tonnes</td>\n",
       "      <td>1965</td>\n",
       "    </tr>\n",
       "  </tbody>\n",
       "</table>\n",
       "</div>"
      ],
      "text/plain": [
       "        Area Domain      Item      Value    Unit  Year\n",
       "15324  India  Crops  Potatoes  2719000.0  tonnes  1961\n",
       "15325  India  Crops  Potatoes  2447000.0  tonnes  1962\n",
       "15326  India  Crops  Potatoes  3365000.0  tonnes  1963\n",
       "15327  India  Crops  Potatoes  2593000.0  tonnes  1964\n",
       "15328  India  Crops  Potatoes  3605000.0  tonnes  1965"
      ]
     },
     "execution_count": 92,
     "metadata": {},
     "output_type": "execute_result"
    }
   ],
   "source": [
    "df_india_potatoes = df_india[(df_india['Item'] == 'Potatoes')]\n",
    "df_india_potatoes.head()"
   ]
  },
  {
   "cell_type": "code",
   "execution_count": 93,
   "metadata": {},
   "outputs": [
    {
     "data": {
      "image/png": "[encoded data removed]",
      "text/plain": [
       "<Figure size 1080x360 with 1 Axes>"
      ]
     },
     "metadata": {
      "needs_background": "light"
     },
     "output_type": "display_data"
    }
   ],
   "source": [
    "x_india_potatoes = df_india_potatoes['Year']\n",
    "y_india_potatoes = df_india_potatoes['Value']\n",
    "\n",
    "plt.figure(figsize=(15,5))\n",
    "plt.scatter(x_india_potatoes, y_india_potatoes)\n",
    "\n",
    "plt.show()"
   ]
  },
  {
   "cell_type": "markdown",
   "metadata": {},
   "source": [
    "## Potatoes Comparison Between the Four Countries (USA, Brazil, China, India)"
   ]
  },
  {
   "cell_type": "code",
   "execution_count": 95,
   "metadata": {},
   "outputs": [
    {
     "data": {
      "text/plain": [
       "[<matplotlib.lines.Line2D at 0x160fcf260d0>]"
      ]
     },
     "execution_count": 95,
     "metadata": {},
     "output_type": "execute_result"
    },
    {
     "data": {
      "image/png": "[encoded data removed]",
      "text/plain": [
       "<Figure size 432x288 with 4 Axes>"
      ]
     },
     "metadata": {
      "needs_background": "light"
     },
     "output_type": "display_data"
    }
   ],
   "source": [
    "fig, axs = plt.subplots(4)\n",
    "fig.suptitle('Crop Production Comparison')\n",
    "plt.subplots_adjust(bottom=0.1)\n",
    "axs[0].set_title('United States')\n",
    "axs[0].plot(x_usa_potatoes, y_usa_potatoes)\n",
    "axs[1].set_title('Brazil')\n",
    "axs[1].plot(x_brazil_potatoes, y_brazil_potatoes, 'tab:orange')\n",
    "axs[2].set_title('China')\n",
    "axs[2].plot(x_china_potatoes, y_china_potatoes, 'tab:green')\n",
    "axs[3].set_title('India')\n",
    "axs[3].plot(x_india_potatoes, y_india_potatoes, 'tab:red')"
   ]
  },
  {
   "cell_type": "code",
   "execution_count": null,
   "metadata": {},
   "outputs": [],
   "source": []
  }
 ],
 "metadata": {
  "kernelspec": {
   "display_name": "Python 3",
   "language": "python",
   "name": "python3"
  },
  "language_info": {
   "codemirror_mode": {
    "name": "ipython",
    "version": 3
   },
   "file_extension": ".py",
   "mimetype": "text/x-python",
   "name": "python",
   "nbconvert_exporter": "python",
   "pygments_lexer": "ipython3",
   "version": "3.8.5"
  }
 },
 "nbformat": 4,
 "nbformat_minor": 4
}
