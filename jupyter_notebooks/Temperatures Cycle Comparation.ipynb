{
 "cells": [
  {
   "cell_type": "code",
   "execution_count": 4,
   "metadata": {},
   "outputs": [],
   "source": [
    "import pandas as pd\n",
    "import os\n",
    "\n",
    "from matplotlib import pyplot as plt"
   ]
  },
  {
   "cell_type": "code",
   "execution_count": 5,
   "metadata": {},
   "outputs": [],
   "source": [
    "file_name = \"GlobalLandTemperaturesByCity.csv\"\n",
    "folder_path = \"../data\"\n",
    "full_file_path = os.path.join(folder_path, file_name)"
   ]
  },
  {
   "cell_type": "code",
   "execution_count": 6,
   "metadata": {},
   "outputs": [],
   "source": [
    "df = pd.read_csv(full_file_path)"
   ]
  },
  {
   "cell_type": "code",
   "execution_count": 7,
   "metadata": {},
   "outputs": [
    {
     "data": {
      "text/html": [
       "<div>\n",
       "<style scoped>\n",
       "    .dataframe tbody tr th:only-of-type {\n",
       "        vertical-align: middle;\n",
       "    }\n",
       "\n",
       "    .dataframe tbody tr th {\n",
       "        vertical-align: top;\n",
       "    }\n",
       "\n",
       "    .dataframe thead th {\n",
       "        text-align: right;\n",
       "    }\n",
       "</style>\n",
       "<table border=\"1\" class=\"dataframe\">\n",
       "  <thead>\n",
       "    <tr style=\"text-align: right;\">\n",
       "      <th></th>\n",
       "      <th>dt</th>\n",
       "      <th>AverageTemperature</th>\n",
       "      <th>AverageTemperatureUncertainty</th>\n",
       "      <th>City</th>\n",
       "      <th>Country</th>\n",
       "      <th>Latitude</th>\n",
       "      <th>Longitude</th>\n",
       "    </tr>\n",
       "  </thead>\n",
       "  <tbody>\n",
       "    <tr>\n",
       "      <th>0</th>\n",
       "      <td>1743-11-01</td>\n",
       "      <td>6.068</td>\n",
       "      <td>1.737</td>\n",
       "      <td>Århus</td>\n",
       "      <td>Denmark</td>\n",
       "      <td>57.05N</td>\n",
       "      <td>10.33E</td>\n",
       "    </tr>\n",
       "    <tr>\n",
       "      <th>1</th>\n",
       "      <td>1743-12-01</td>\n",
       "      <td>NaN</td>\n",
       "      <td>NaN</td>\n",
       "      <td>Århus</td>\n",
       "      <td>Denmark</td>\n",
       "      <td>57.05N</td>\n",
       "      <td>10.33E</td>\n",
       "    </tr>\n",
       "    <tr>\n",
       "      <th>2</th>\n",
       "      <td>1744-01-01</td>\n",
       "      <td>NaN</td>\n",
       "      <td>NaN</td>\n",
       "      <td>Århus</td>\n",
       "      <td>Denmark</td>\n",
       "      <td>57.05N</td>\n",
       "      <td>10.33E</td>\n",
       "    </tr>\n",
       "    <tr>\n",
       "      <th>3</th>\n",
       "      <td>1744-02-01</td>\n",
       "      <td>NaN</td>\n",
       "      <td>NaN</td>\n",
       "      <td>Århus</td>\n",
       "      <td>Denmark</td>\n",
       "      <td>57.05N</td>\n",
       "      <td>10.33E</td>\n",
       "    </tr>\n",
       "    <tr>\n",
       "      <th>4</th>\n",
       "      <td>1744-03-01</td>\n",
       "      <td>NaN</td>\n",
       "      <td>NaN</td>\n",
       "      <td>Århus</td>\n",
       "      <td>Denmark</td>\n",
       "      <td>57.05N</td>\n",
       "      <td>10.33E</td>\n",
       "    </tr>\n",
       "    <tr>\n",
       "      <th>5</th>\n",
       "      <td>1744-04-01</td>\n",
       "      <td>5.788</td>\n",
       "      <td>3.624</td>\n",
       "      <td>Århus</td>\n",
       "      <td>Denmark</td>\n",
       "      <td>57.05N</td>\n",
       "      <td>10.33E</td>\n",
       "    </tr>\n",
       "    <tr>\n",
       "      <th>6</th>\n",
       "      <td>1744-05-01</td>\n",
       "      <td>10.644</td>\n",
       "      <td>1.283</td>\n",
       "      <td>Århus</td>\n",
       "      <td>Denmark</td>\n",
       "      <td>57.05N</td>\n",
       "      <td>10.33E</td>\n",
       "    </tr>\n",
       "    <tr>\n",
       "      <th>7</th>\n",
       "      <td>1744-06-01</td>\n",
       "      <td>14.051</td>\n",
       "      <td>1.347</td>\n",
       "      <td>Århus</td>\n",
       "      <td>Denmark</td>\n",
       "      <td>57.05N</td>\n",
       "      <td>10.33E</td>\n",
       "    </tr>\n",
       "    <tr>\n",
       "      <th>8</th>\n",
       "      <td>1744-07-01</td>\n",
       "      <td>16.082</td>\n",
       "      <td>1.396</td>\n",
       "      <td>Århus</td>\n",
       "      <td>Denmark</td>\n",
       "      <td>57.05N</td>\n",
       "      <td>10.33E</td>\n",
       "    </tr>\n",
       "    <tr>\n",
       "      <th>9</th>\n",
       "      <td>1744-08-01</td>\n",
       "      <td>NaN</td>\n",
       "      <td>NaN</td>\n",
       "      <td>Århus</td>\n",
       "      <td>Denmark</td>\n",
       "      <td>57.05N</td>\n",
       "      <td>10.33E</td>\n",
       "    </tr>\n",
       "  </tbody>\n",
       "</table>\n",
       "</div>"
      ],
      "text/plain": [
       "           dt  AverageTemperature  AverageTemperatureUncertainty   City  \\\n",
       "0  1743-11-01               6.068                          1.737  Århus   \n",
       "1  1743-12-01                 NaN                            NaN  Århus   \n",
       "2  1744-01-01                 NaN                            NaN  Århus   \n",
       "3  1744-02-01                 NaN                            NaN  Århus   \n",
       "4  1744-03-01                 NaN                            NaN  Århus   \n",
       "5  1744-04-01               5.788                          3.624  Århus   \n",
       "6  1744-05-01              10.644                          1.283  Århus   \n",
       "7  1744-06-01              14.051                          1.347  Århus   \n",
       "8  1744-07-01              16.082                          1.396  Århus   \n",
       "9  1744-08-01                 NaN                            NaN  Århus   \n",
       "\n",
       "   Country Latitude Longitude  \n",
       "0  Denmark   57.05N    10.33E  \n",
       "1  Denmark   57.05N    10.33E  \n",
       "2  Denmark   57.05N    10.33E  \n",
       "3  Denmark   57.05N    10.33E  \n",
       "4  Denmark   57.05N    10.33E  \n",
       "5  Denmark   57.05N    10.33E  \n",
       "6  Denmark   57.05N    10.33E  \n",
       "7  Denmark   57.05N    10.33E  \n",
       "8  Denmark   57.05N    10.33E  \n",
       "9  Denmark   57.05N    10.33E  "
      ]
     },
     "execution_count": 7,
     "metadata": {},
     "output_type": "execute_result"
    }
   ],
   "source": [
    "df.head(10)"
   ]
  },
  {
   "cell_type": "code",
   "execution_count": 8,
   "metadata": {},
   "outputs": [
    {
     "data": {
      "text/plain": [
       "array(['Denmark', 'Turkey', 'Kazakhstan', 'China', 'Spain', 'Germany',\n",
       "       'Nigeria', 'Iran', 'Russia', 'Canada', \"Côte D'Ivoire\",\n",
       "       'United Kingdom', 'Saudi Arabia', 'Japan', 'United States',\n",
       "       'India', 'Benin', 'United Arab Emirates', 'Mexico', 'Venezuela',\n",
       "       'Ghana', 'Ethiopia', 'Australia', 'Yemen', 'Indonesia', 'Morocco',\n",
       "       'Pakistan', 'France', 'Libya', 'Burma', 'Brazil', 'South Africa',\n",
       "       'Syria', 'Egypt', 'Algeria', 'Netherlands', 'Malaysia', 'Portugal',\n",
       "       'Ecuador', 'Italy', 'Uzbekistan', 'Philippines', 'Madagascar',\n",
       "       'Chile', 'Belgium', 'El Salvador', 'Romania', 'Peru', 'Colombia',\n",
       "       'Tanzania', 'Tunisia', 'Turkmenistan', 'Israel', 'Eritrea',\n",
       "       'Paraguay', 'Greece', 'New Zealand', 'Vietnam', 'Cameroon', 'Iraq',\n",
       "       'Afghanistan', 'Argentina', 'Azerbaijan', 'Moldova', 'Mali',\n",
       "       'Congo (Democratic Republic Of The)', 'Thailand',\n",
       "       'Central African Republic', 'Bosnia And Herzegovina', 'Bangladesh',\n",
       "       'Switzerland', 'Equatorial Guinea', 'Cuba', 'Lebanon',\n",
       "       'Mozambique', 'Serbia', 'Angola', 'Somalia', 'Norway', 'Nepal',\n",
       "       'Poland', 'Ukraine', 'Guinea Bissau', 'Malawi', 'Burkina Faso',\n",
       "       'Slovakia', 'Congo', 'Belarus', 'Gambia', 'Czech Republic',\n",
       "       'Hungary', 'Burundi', 'Zimbabwe', 'Bulgaria', 'Haiti',\n",
       "       'Puerto Rico', 'Sri Lanka', 'Nicaragua', 'Zambia', 'Honduras',\n",
       "       'Taiwan', 'Bolivia', 'Guinea', 'Ireland', 'Senegal', 'Latvia',\n",
       "       'Qatar', 'Albania', 'Tajikistan', 'Kenya', 'Guatemala', 'Finland',\n",
       "       'Sierra Leone', 'Sweden', 'Botswana', 'Guyana', 'Austria',\n",
       "       'Uganda', 'Armenia', 'Dominican Republic', 'Jordan', 'Djibouti',\n",
       "       'Sudan', 'Lithuania', 'Rwanda', 'Jamaica', 'Togo', 'Macedonia',\n",
       "       'Cyprus', 'Gabon', 'Slovenia', 'Bahrain', 'Swaziland', 'Niger',\n",
       "       'Lesotho', 'Liberia', 'Uruguay', 'Chad', 'Bahamas', 'Mauritania',\n",
       "       'Panama', 'Suriname', 'Cambodia', 'Montenegro', 'Mauritius',\n",
       "       'Papua New Guinea', 'Iceland', 'Croatia', 'Reunion', 'Oman',\n",
       "       'Costa Rica', 'South Korea', 'Hong Kong', 'Singapore', 'Estonia',\n",
       "       'Georgia', 'Mongolia', 'Laos', 'Namibia'], dtype=object)"
      ]
     },
     "execution_count": 8,
     "metadata": {},
     "output_type": "execute_result"
    }
   ],
   "source": [
    "df['Country'].unique()"
   ]
  },
  {
   "cell_type": "code",
   "execution_count": 9,
   "metadata": {},
   "outputs": [
    {
     "data": {
      "text/plain": [
       "array(['Århus', 'Çorlu', 'Çorum', ..., 'Zurich', 'Zuwarah', 'Zwolle'],\n",
       "      dtype=object)"
      ]
     },
     "execution_count": 9,
     "metadata": {},
     "output_type": "execute_result"
    }
   ],
   "source": [
    "df['City'].unique()"
   ]
  },
  {
   "cell_type": "code",
   "execution_count": 10,
   "metadata": {},
   "outputs": [
    {
     "name": "stdout",
     "output_type": "stream",
     "text": [
      "<class 'pandas.core.frame.DataFrame'>\n",
      "RangeIndex: 8599212 entries, 0 to 8599211\n",
      "Data columns (total 7 columns):\n",
      " #   Column                         Dtype  \n",
      "---  ------                         -----  \n",
      " 0   dt                             object \n",
      " 1   AverageTemperature             float64\n",
      " 2   AverageTemperatureUncertainty  float64\n",
      " 3   City                           object \n",
      " 4   Country                        object \n",
      " 5   Latitude                       object \n",
      " 6   Longitude                      object \n",
      "dtypes: float64(2), object(5)\n",
      "memory usage: 459.2+ MB\n"
     ]
    }
   ],
   "source": [
    "df.info()"
   ]
  },
  {
   "cell_type": "code",
   "execution_count": 11,
   "metadata": {},
   "outputs": [
    {
     "data": {
      "text/html": [
       "<div>\n",
       "<style scoped>\n",
       "    .dataframe tbody tr th:only-of-type {\n",
       "        vertical-align: middle;\n",
       "    }\n",
       "\n",
       "    .dataframe tbody tr th {\n",
       "        vertical-align: top;\n",
       "    }\n",
       "\n",
       "    .dataframe thead th {\n",
       "        text-align: right;\n",
       "    }\n",
       "</style>\n",
       "<table border=\"1\" class=\"dataframe\">\n",
       "  <thead>\n",
       "    <tr style=\"text-align: right;\">\n",
       "      <th></th>\n",
       "      <th>AverageTemperature</th>\n",
       "      <th>AverageTemperatureUncertainty</th>\n",
       "    </tr>\n",
       "  </thead>\n",
       "  <tbody>\n",
       "    <tr>\n",
       "      <th>count</th>\n",
       "      <td>8.235082e+06</td>\n",
       "      <td>8.235082e+06</td>\n",
       "    </tr>\n",
       "    <tr>\n",
       "      <th>mean</th>\n",
       "      <td>1.672743e+01</td>\n",
       "      <td>1.028575e+00</td>\n",
       "    </tr>\n",
       "    <tr>\n",
       "      <th>std</th>\n",
       "      <td>1.035344e+01</td>\n",
       "      <td>1.129733e+00</td>\n",
       "    </tr>\n",
       "    <tr>\n",
       "      <th>min</th>\n",
       "      <td>-4.270400e+01</td>\n",
       "      <td>3.400000e-02</td>\n",
       "    </tr>\n",
       "    <tr>\n",
       "      <th>25%</th>\n",
       "      <td>1.029900e+01</td>\n",
       "      <td>3.370000e-01</td>\n",
       "    </tr>\n",
       "    <tr>\n",
       "      <th>50%</th>\n",
       "      <td>1.883100e+01</td>\n",
       "      <td>5.910000e-01</td>\n",
       "    </tr>\n",
       "    <tr>\n",
       "      <th>75%</th>\n",
       "      <td>2.521000e+01</td>\n",
       "      <td>1.349000e+00</td>\n",
       "    </tr>\n",
       "    <tr>\n",
       "      <th>max</th>\n",
       "      <td>3.965100e+01</td>\n",
       "      <td>1.539600e+01</td>\n",
       "    </tr>\n",
       "  </tbody>\n",
       "</table>\n",
       "</div>"
      ],
      "text/plain": [
       "       AverageTemperature  AverageTemperatureUncertainty\n",
       "count        8.235082e+06                   8.235082e+06\n",
       "mean         1.672743e+01                   1.028575e+00\n",
       "std          1.035344e+01                   1.129733e+00\n",
       "min         -4.270400e+01                   3.400000e-02\n",
       "25%          1.029900e+01                   3.370000e-01\n",
       "50%          1.883100e+01                   5.910000e-01\n",
       "75%          2.521000e+01                   1.349000e+00\n",
       "max          3.965100e+01                   1.539600e+01"
      ]
     },
     "execution_count": 11,
     "metadata": {},
     "output_type": "execute_result"
    }
   ],
   "source": [
    "df.describe()"
   ]
  },
  {
   "cell_type": "code",
   "execution_count": 12,
   "metadata": {},
   "outputs": [],
   "source": [
    "df_temp = df[['dt', 'AverageTemperature', 'City', 'Country']]"
   ]
  },
  {
   "cell_type": "code",
   "execution_count": 13,
   "metadata": {},
   "outputs": [
    {
     "data": {
      "text/html": [
       "<div>\n",
       "<style scoped>\n",
       "    .dataframe tbody tr th:only-of-type {\n",
       "        vertical-align: middle;\n",
       "    }\n",
       "\n",
       "    .dataframe tbody tr th {\n",
       "        vertical-align: top;\n",
       "    }\n",
       "\n",
       "    .dataframe thead th {\n",
       "        text-align: right;\n",
       "    }\n",
       "</style>\n",
       "<table border=\"1\" class=\"dataframe\">\n",
       "  <thead>\n",
       "    <tr style=\"text-align: right;\">\n",
       "      <th></th>\n",
       "      <th>dt</th>\n",
       "      <th>AverageTemperature</th>\n",
       "      <th>City</th>\n",
       "      <th>Country</th>\n",
       "    </tr>\n",
       "  </thead>\n",
       "  <tbody>\n",
       "    <tr>\n",
       "      <th>0</th>\n",
       "      <td>1743-11-01</td>\n",
       "      <td>6.068</td>\n",
       "      <td>Århus</td>\n",
       "      <td>Denmark</td>\n",
       "    </tr>\n",
       "    <tr>\n",
       "      <th>1</th>\n",
       "      <td>1743-12-01</td>\n",
       "      <td>NaN</td>\n",
       "      <td>Århus</td>\n",
       "      <td>Denmark</td>\n",
       "    </tr>\n",
       "    <tr>\n",
       "      <th>2</th>\n",
       "      <td>1744-01-01</td>\n",
       "      <td>NaN</td>\n",
       "      <td>Århus</td>\n",
       "      <td>Denmark</td>\n",
       "    </tr>\n",
       "    <tr>\n",
       "      <th>3</th>\n",
       "      <td>1744-02-01</td>\n",
       "      <td>NaN</td>\n",
       "      <td>Århus</td>\n",
       "      <td>Denmark</td>\n",
       "    </tr>\n",
       "    <tr>\n",
       "      <th>4</th>\n",
       "      <td>1744-03-01</td>\n",
       "      <td>NaN</td>\n",
       "      <td>Århus</td>\n",
       "      <td>Denmark</td>\n",
       "    </tr>\n",
       "  </tbody>\n",
       "</table>\n",
       "</div>"
      ],
      "text/plain": [
       "           dt  AverageTemperature   City  Country\n",
       "0  1743-11-01               6.068  Århus  Denmark\n",
       "1  1743-12-01                 NaN  Århus  Denmark\n",
       "2  1744-01-01                 NaN  Århus  Denmark\n",
       "3  1744-02-01                 NaN  Århus  Denmark\n",
       "4  1744-03-01                 NaN  Århus  Denmark"
      ]
     },
     "execution_count": 13,
     "metadata": {},
     "output_type": "execute_result"
    }
   ],
   "source": [
    "df_temp.head()"
   ]
  },
  {
   "cell_type": "code",
   "execution_count": 14,
   "metadata": {},
   "outputs": [
    {
     "data": {
      "text/html": [
       "<div>\n",
       "<style scoped>\n",
       "    .dataframe tbody tr th:only-of-type {\n",
       "        vertical-align: middle;\n",
       "    }\n",
       "\n",
       "    .dataframe tbody tr th {\n",
       "        vertical-align: top;\n",
       "    }\n",
       "\n",
       "    .dataframe thead th {\n",
       "        text-align: right;\n",
       "    }\n",
       "</style>\n",
       "<table border=\"1\" class=\"dataframe\">\n",
       "  <thead>\n",
       "    <tr style=\"text-align: right;\">\n",
       "      <th></th>\n",
       "      <th>dt</th>\n",
       "      <th>AverageTemperature</th>\n",
       "      <th>City</th>\n",
       "      <th>Country</th>\n",
       "    </tr>\n",
       "  </thead>\n",
       "  <tbody>\n",
       "    <tr>\n",
       "      <th>8599207</th>\n",
       "      <td>2013-05-01</td>\n",
       "      <td>11.464</td>\n",
       "      <td>Zwolle</td>\n",
       "      <td>Netherlands</td>\n",
       "    </tr>\n",
       "    <tr>\n",
       "      <th>8599208</th>\n",
       "      <td>2013-06-01</td>\n",
       "      <td>15.043</td>\n",
       "      <td>Zwolle</td>\n",
       "      <td>Netherlands</td>\n",
       "    </tr>\n",
       "    <tr>\n",
       "      <th>8599209</th>\n",
       "      <td>2013-07-01</td>\n",
       "      <td>18.775</td>\n",
       "      <td>Zwolle</td>\n",
       "      <td>Netherlands</td>\n",
       "    </tr>\n",
       "    <tr>\n",
       "      <th>8599210</th>\n",
       "      <td>2013-08-01</td>\n",
       "      <td>18.025</td>\n",
       "      <td>Zwolle</td>\n",
       "      <td>Netherlands</td>\n",
       "    </tr>\n",
       "    <tr>\n",
       "      <th>8599211</th>\n",
       "      <td>2013-09-01</td>\n",
       "      <td>NaN</td>\n",
       "      <td>Zwolle</td>\n",
       "      <td>Netherlands</td>\n",
       "    </tr>\n",
       "  </tbody>\n",
       "</table>\n",
       "</div>"
      ],
      "text/plain": [
       "                 dt  AverageTemperature    City      Country\n",
       "8599207  2013-05-01              11.464  Zwolle  Netherlands\n",
       "8599208  2013-06-01              15.043  Zwolle  Netherlands\n",
       "8599209  2013-07-01              18.775  Zwolle  Netherlands\n",
       "8599210  2013-08-01              18.025  Zwolle  Netherlands\n",
       "8599211  2013-09-01                 NaN  Zwolle  Netherlands"
      ]
     },
     "execution_count": 14,
     "metadata": {},
     "output_type": "execute_result"
    }
   ],
   "source": [
    "df_temp.tail()"
   ]
  },
  {
   "cell_type": "code",
   "execution_count": 15,
   "metadata": {},
   "outputs": [
    {
     "name": "stderr",
     "output_type": "stream",
     "text": [
      "<ipython-input-15-214002e712be>:1: SettingWithCopyWarning: \n",
      "A value is trying to be set on a copy of a slice from a DataFrame.\n",
      "Try using .loc[row_indexer,col_indexer] = value instead\n",
      "\n",
      "See the caveats in the documentation: https://pandas.pydata.org/pandas-docs/stable/user_guide/indexing.html#returning-a-view-versus-a-copy\n",
      "  df_temp['dt'] =  pd.to_datetime(df_temp['dt'], format='%Y-%m-%d')\n"
     ]
    }
   ],
   "source": [
    "df_temp['dt'] =  pd.to_datetime(df_temp['dt'], format='%Y-%m-%d')"
   ]
  },
  {
   "cell_type": "code",
   "execution_count": 16,
   "metadata": {},
   "outputs": [
    {
     "name": "stdout",
     "output_type": "stream",
     "text": [
      "<class 'pandas.core.frame.DataFrame'>\n",
      "RangeIndex: 8599212 entries, 0 to 8599211\n",
      "Data columns (total 4 columns):\n",
      " #   Column              Dtype         \n",
      "---  ------              -----         \n",
      " 0   dt                  datetime64[ns]\n",
      " 1   AverageTemperature  float64       \n",
      " 2   City                object        \n",
      " 3   Country             object        \n",
      "dtypes: datetime64[ns](1), float64(1), object(2)\n",
      "memory usage: 262.4+ MB\n"
     ]
    }
   ],
   "source": [
    "df_temp.info()"
   ]
  },
  {
   "cell_type": "markdown",
   "metadata": {},
   "source": [
    "## Brazil Data Analysis"
   ]
  },
  {
   "cell_type": "code",
   "execution_count": 17,
   "metadata": {},
   "outputs": [
    {
     "data": {
      "text/html": [
       "<div>\n",
       "<style scoped>\n",
       "    .dataframe tbody tr th:only-of-type {\n",
       "        vertical-align: middle;\n",
       "    }\n",
       "\n",
       "    .dataframe tbody tr th {\n",
       "        vertical-align: top;\n",
       "    }\n",
       "\n",
       "    .dataframe thead th {\n",
       "        text-align: right;\n",
       "    }\n",
       "</style>\n",
       "<table border=\"1\" class=\"dataframe\">\n",
       "  <thead>\n",
       "    <tr style=\"text-align: right;\">\n",
       "      <th></th>\n",
       "      <th>dt</th>\n",
       "      <th>AverageTemperature</th>\n",
       "      <th>City</th>\n",
       "      <th>Country</th>\n",
       "    </tr>\n",
       "  </thead>\n",
       "  <tbody>\n",
       "    <tr>\n",
       "      <th>152741</th>\n",
       "      <td>1832-01-01</td>\n",
       "      <td>25.953</td>\n",
       "      <td>Alagoinhas</td>\n",
       "      <td>Brazil</td>\n",
       "    </tr>\n",
       "    <tr>\n",
       "      <th>152742</th>\n",
       "      <td>1832-02-01</td>\n",
       "      <td>25.933</td>\n",
       "      <td>Alagoinhas</td>\n",
       "      <td>Brazil</td>\n",
       "    </tr>\n",
       "    <tr>\n",
       "      <th>152743</th>\n",
       "      <td>1832-03-01</td>\n",
       "      <td>25.968</td>\n",
       "      <td>Alagoinhas</td>\n",
       "      <td>Brazil</td>\n",
       "    </tr>\n",
       "    <tr>\n",
       "      <th>152744</th>\n",
       "      <td>1832-04-01</td>\n",
       "      <td>25.100</td>\n",
       "      <td>Alagoinhas</td>\n",
       "      <td>Brazil</td>\n",
       "    </tr>\n",
       "    <tr>\n",
       "      <th>152745</th>\n",
       "      <td>1832-05-01</td>\n",
       "      <td>24.213</td>\n",
       "      <td>Alagoinhas</td>\n",
       "      <td>Brazil</td>\n",
       "    </tr>\n",
       "  </tbody>\n",
       "</table>\n",
       "</div>"
      ],
      "text/plain": [
       "               dt  AverageTemperature        City Country\n",
       "152741 1832-01-01              25.953  Alagoinhas  Brazil\n",
       "152742 1832-02-01              25.933  Alagoinhas  Brazil\n",
       "152743 1832-03-01              25.968  Alagoinhas  Brazil\n",
       "152744 1832-04-01              25.100  Alagoinhas  Brazil\n",
       "152745 1832-05-01              24.213  Alagoinhas  Brazil"
      ]
     },
     "execution_count": 17,
     "metadata": {},
     "output_type": "execute_result"
    }
   ],
   "source": [
    "df_brazil = df_temp[(df_temp['Country'] == 'Brazil')]\n",
    "df_brazil.head()"
   ]
  },
  {
   "cell_type": "code",
   "execution_count": 18,
   "metadata": {},
   "outputs": [
    {
     "data": {
      "text/plain": [
       "array(['Alagoinhas', 'Americana', 'Anápolis', 'Ananindeua',\n",
       "       'Angra Dos Reis', 'Apucarana', 'Araçatuba', 'Aracaju', 'Araguaína',\n",
       "       'Arapiraca', 'Araraquara', 'Araras', 'Araruama', 'Araucária',\n",
       "       'Atibaia', 'Barbacena', 'Barra Mansa', 'Barreiras', 'Barretos',\n",
       "       'Barueri', 'Bauru', 'Belém', 'Belford Roxo', 'Belo Horizonte',\n",
       "       'Betim', 'Birigui', 'Blumenau', 'Boa Vista', 'Botucatu',\n",
       "       'Bragança Paulista', 'Brasília', 'Cabo Frio', 'Cachoeirinha',\n",
       "       'Cachoeiro De Itapemirim', 'Camaçari', 'Camaragibe',\n",
       "       'Campina Grande', 'Campinas', 'Campo Grande', 'Campos', 'Canoas',\n",
       "       'Carapicuíba', 'Cariacica', 'Caruaru', 'Cascavel', 'Castanhal',\n",
       "       'Catanduva', 'Caucaia', 'Caxias', 'Caxias Do Sul', 'Chapecó',\n",
       "       'Colatina', 'Colombo', 'Conselheiro Lafaiete', 'Contagem',\n",
       "       'Coronel Fabriciano', 'Cotia', 'Criciúma', 'Cubatão', 'Cuiabá',\n",
       "       'Curitiba', 'Diadema', 'Divinópolis', 'Dourados',\n",
       "       'Duque De Caxias', 'Embu', 'Esmeraldas', 'Feira De Santana',\n",
       "       'Ferraz De Vasconcelos', 'Florianópolis', 'Fortaleza',\n",
       "       'Foz Do Iguaçu', 'Franca', 'Francisco Morato', 'Franco Da Rocha',\n",
       "       'Garanhuns', 'Goiânia', 'Governador Valadares', 'Gravataí',\n",
       "       'Guaíba', 'Guarapari', 'Guarapuava', 'Guaratinguetá', 'Guarujá',\n",
       "       'Guarulhos', 'Hortolândia', 'Ibirité', 'Ilhéus', 'Imperatriz',\n",
       "       'Indaiatuba', 'Ipatinga', 'Itaboraí', 'Itabuna', 'Itaguaí',\n",
       "       'Itajaí', 'Itapecerica Da Serra', 'Itapetininga', 'Itapevi',\n",
       "       'Itaquaquecetuba', 'Itu', 'Jaú', 'Jaboatão', 'Jacareí', 'Jandira',\n",
       "       'Jaraguá Do Sul', 'Jequié', 'Ji Paraná', 'João Pessoa',\n",
       "       'Joinville', 'Juàzeiro', 'Juazeiro Do Norte', 'Juiz De Fora',\n",
       "       'Jundiaí', 'Lages', 'Limeira', 'Linhares', 'Londrina', 'Luziânia',\n",
       "       'Macaé', 'Macapá', 'Maceió', 'Magé', 'Manaus', 'Marília', 'Marabá',\n",
       "       'Maracanaú', 'Maringá', 'Mauá', 'Moji Das Cruzes', 'Montes Claros',\n",
       "       'Mossoró', 'Natal', 'Nilópolis', 'Niterói',\n",
       "       'Nossa Senhora Do Socorro', 'Nova Friburgo', 'Nova Iguaçu',\n",
       "       'Novo Hamburgo', 'Olinda', 'Osasco', 'Pôrto Seguro', 'Pôrto Velho',\n",
       "       'Palhoça', 'Palmas', 'Paranaguá', 'Parnaíba', 'Parnamirim',\n",
       "       'Passo Fundo', 'Patos De Minas', 'Paulista', 'Pelotas',\n",
       "       'Petrópolis', 'Petrolina', 'Pindamonhangaba', 'Piracicaba', 'Poá',\n",
       "       'Poços De Caldas', 'Ponta Grossa', 'Porto Alegre', 'Pouso Alegre',\n",
       "       'Praia Grande', 'Presidente Prudente', 'Queimados', 'Recife',\n",
       "       'Resende', 'Ribeirão Das Neves', 'Ribeirão Pires',\n",
       "       'Ribeirão Prêto', 'Rio Branco', 'Rio Claro', 'Rio De Janeiro',\n",
       "       'Rio Grande', 'Rondonópolis', 'São Bernardo Do Campo',\n",
       "       'São Caetano Do Sul', 'São Carlos', 'São Gonçalo',\n",
       "       'São João De Meriti', 'São José', 'São José Do Rio Prêto',\n",
       "       'São José Dos Campos', 'São José Dos Pinhais', 'São Leopoldo',\n",
       "       'São Luís', 'São Paulo', 'São Vicente', 'Sabará', 'Salvador',\n",
       "       'Santa Cruz Do Sul', 'Santa Luzia', 'Santa Maria', 'Santa Rita',\n",
       "       'Santarém', 'Santo André', 'Santos', 'Sapucaia', 'Serra',\n",
       "       'Sete Lagoas', 'Sobral', 'Sorocaba', 'Sumaré', 'Suzano',\n",
       "       'Taboão Da Serra', 'Taubaté', 'Teófilo Otoni', 'Teresópolis',\n",
       "       'Teresina', 'Timon', 'Uberaba', 'Uberlândia', 'Uruguaiana',\n",
       "       'Várzea Grande', 'Várzea Paulista', 'Varginha', 'Viamão',\n",
       "       'Vila Velha', 'Vitória', 'Vitória Da Conquista',\n",
       "       'Vitória De Santo Antão', 'Volta Redonda'], dtype=object)"
      ]
     },
     "execution_count": 18,
     "metadata": {},
     "output_type": "execute_result"
    }
   ],
   "source": [
    "df_brazil['City'].unique()"
   ]
  },
  {
   "cell_type": "code",
   "execution_count": 19,
   "metadata": {},
   "outputs": [
    {
     "data": {
      "text/html": [
       "<div>\n",
       "<style scoped>\n",
       "    .dataframe tbody tr th:only-of-type {\n",
       "        vertical-align: middle;\n",
       "    }\n",
       "\n",
       "    .dataframe tbody tr th {\n",
       "        vertical-align: top;\n",
       "    }\n",
       "\n",
       "    .dataframe thead th {\n",
       "        text-align: right;\n",
       "    }\n",
       "</style>\n",
       "<table border=\"1\" class=\"dataframe\">\n",
       "  <thead>\n",
       "    <tr style=\"text-align: right;\">\n",
       "      <th></th>\n",
       "      <th>dt</th>\n",
       "      <th>AverageTemperature</th>\n",
       "      <th>City</th>\n",
       "      <th>Country</th>\n",
       "    </tr>\n",
       "  </thead>\n",
       "  <tbody>\n",
       "    <tr>\n",
       "      <th>6485228</th>\n",
       "      <td>1832-01-01</td>\n",
       "      <td>22.288</td>\n",
       "      <td>São Paulo</td>\n",
       "      <td>Brazil</td>\n",
       "    </tr>\n",
       "    <tr>\n",
       "      <th>6485229</th>\n",
       "      <td>1832-02-01</td>\n",
       "      <td>22.855</td>\n",
       "      <td>São Paulo</td>\n",
       "      <td>Brazil</td>\n",
       "    </tr>\n",
       "    <tr>\n",
       "      <th>6485230</th>\n",
       "      <td>1832-03-01</td>\n",
       "      <td>21.491</td>\n",
       "      <td>São Paulo</td>\n",
       "      <td>Brazil</td>\n",
       "    </tr>\n",
       "    <tr>\n",
       "      <th>6485231</th>\n",
       "      <td>1832-04-01</td>\n",
       "      <td>18.804</td>\n",
       "      <td>São Paulo</td>\n",
       "      <td>Brazil</td>\n",
       "    </tr>\n",
       "    <tr>\n",
       "      <th>6485232</th>\n",
       "      <td>1832-05-01</td>\n",
       "      <td>16.801</td>\n",
       "      <td>São Paulo</td>\n",
       "      <td>Brazil</td>\n",
       "    </tr>\n",
       "  </tbody>\n",
       "</table>\n",
       "</div>"
      ],
      "text/plain": [
       "                dt  AverageTemperature       City Country\n",
       "6485228 1832-01-01              22.288  São Paulo  Brazil\n",
       "6485229 1832-02-01              22.855  São Paulo  Brazil\n",
       "6485230 1832-03-01              21.491  São Paulo  Brazil\n",
       "6485231 1832-04-01              18.804  São Paulo  Brazil\n",
       "6485232 1832-05-01              16.801  São Paulo  Brazil"
      ]
     },
     "execution_count": 19,
     "metadata": {},
     "output_type": "execute_result"
    }
   ],
   "source": [
    "df_brazil_sao_paulo = df_brazil[(df_brazil['City'] == 'São Paulo')]\n",
    "df_brazil_sao_paulo.head()"
   ]
  },
  {
   "cell_type": "code",
   "execution_count": 21,
   "metadata": {},
   "outputs": [
    {
     "data": {
      "image/png": "[encoded data removed]",
      "text/plain": [
       "<Figure size 1080x360 with 1 Axes>"
      ]
     },
     "metadata": {
      "needs_background": "light"
     },
     "output_type": "display_data"
    }
   ],
   "source": [
    "x = df_brazil_sao_paulo['dt']\n",
    "y = df_brazil_sao_paulo['AverageTemperature']\n",
    "\n",
    "plt.figure(figsize=(15,5))\n",
    "plt.scatter(x, y)\n",
    "\n",
    "plt.show()"
   ]
  },
  {
   "cell_type": "code",
   "execution_count": 22,
   "metadata": {},
   "outputs": [],
   "source": [
    "df_brazil_sao_paulo_time_range = df_brazil_sao_paulo.loc[(df_brazil_sao_paulo['dt'] >= '2000-01-01') \n",
    "                     & (df_brazil_sao_paulo['dt'] < '2005-12-31')]"
   ]
  },
  {
   "cell_type": "code",
   "execution_count": 24,
   "metadata": {},
   "outputs": [
    {
     "data": {
      "image/png": "[encoded data removed]",
      "text/plain": [
       "<Figure size 1080x360 with 1 Axes>"
      ]
     },
     "metadata": {
      "needs_background": "light"
     },
     "output_type": "display_data"
    }
   ],
   "source": [
    "x = df_brazil_sao_paulo_time_range['dt']\n",
    "y = df_brazil_sao_paulo_time_range['AverageTemperature']\n",
    "\n",
    "plt.figure(figsize=(15,5))\n",
    "plt.scatter(x, y)\n",
    "\n",
    "plt.show()"
   ]
  },
  {
   "cell_type": "markdown",
   "metadata": {},
   "source": [
    "## India Data Analysis"
   ]
  },
  {
   "cell_type": "code",
   "execution_count": 25,
   "metadata": {},
   "outputs": [],
   "source": [
    "df_india =  df_temp[(df_temp['Country'] == 'India')]"
   ]
  },
  {
   "cell_type": "code",
   "execution_count": 26,
   "metadata": {},
   "outputs": [
    {
     "data": {
      "text/html": [
       "<div>\n",
       "<style scoped>\n",
       "    .dataframe tbody tr th:only-of-type {\n",
       "        vertical-align: middle;\n",
       "    }\n",
       "\n",
       "    .dataframe tbody tr th {\n",
       "        vertical-align: top;\n",
       "    }\n",
       "\n",
       "    .dataframe thead th {\n",
       "        text-align: right;\n",
       "    }\n",
       "</style>\n",
       "<table border=\"1\" class=\"dataframe\">\n",
       "  <thead>\n",
       "    <tr style=\"text-align: right;\">\n",
       "      <th></th>\n",
       "      <th>dt</th>\n",
       "      <th>AverageTemperature</th>\n",
       "      <th>City</th>\n",
       "      <th>Country</th>\n",
       "    </tr>\n",
       "  </thead>\n",
       "  <tbody>\n",
       "    <tr>\n",
       "      <th>49880</th>\n",
       "      <td>1816-03-01</td>\n",
       "      <td>19.934</td>\n",
       "      <td>Abohar</td>\n",
       "      <td>India</td>\n",
       "    </tr>\n",
       "    <tr>\n",
       "      <th>49881</th>\n",
       "      <td>1816-04-01</td>\n",
       "      <td>26.641</td>\n",
       "      <td>Abohar</td>\n",
       "      <td>India</td>\n",
       "    </tr>\n",
       "    <tr>\n",
       "      <th>49882</th>\n",
       "      <td>1816-05-01</td>\n",
       "      <td>32.535</td>\n",
       "      <td>Abohar</td>\n",
       "      <td>India</td>\n",
       "    </tr>\n",
       "    <tr>\n",
       "      <th>49883</th>\n",
       "      <td>1816-06-01</td>\n",
       "      <td>33.254</td>\n",
       "      <td>Abohar</td>\n",
       "      <td>India</td>\n",
       "    </tr>\n",
       "    <tr>\n",
       "      <th>49884</th>\n",
       "      <td>1816-07-01</td>\n",
       "      <td>31.105</td>\n",
       "      <td>Abohar</td>\n",
       "      <td>India</td>\n",
       "    </tr>\n",
       "  </tbody>\n",
       "</table>\n",
       "</div>"
      ],
      "text/plain": [
       "              dt  AverageTemperature    City Country\n",
       "49880 1816-03-01              19.934  Abohar   India\n",
       "49881 1816-04-01              26.641  Abohar   India\n",
       "49882 1816-05-01              32.535  Abohar   India\n",
       "49883 1816-06-01              33.254  Abohar   India\n",
       "49884 1816-07-01              31.105  Abohar   India"
      ]
     },
     "execution_count": 26,
     "metadata": {},
     "output_type": "execute_result"
    }
   ],
   "source": [
    "df_india.head()"
   ]
  },
  {
   "cell_type": "code",
   "execution_count": 28,
   "metadata": {},
   "outputs": [
    {
     "data": {
      "text/plain": [
       "array(['Abohar', 'Achalpur', 'Adilabad', 'Adoni', 'Agartala', 'Agra',\n",
       "       'Ahmadabad', 'Ahmadnagar', 'Aizawl', 'Ajmer', 'Akola', 'Alandur',\n",
       "       'Alappuzha', 'Aligarh', 'Allahabad', 'Alwar', 'Ambala',\n",
       "       'Ambarnath', 'Ambattur', 'Ambur', 'Amravati', 'Amritsar', 'Amroha',\n",
       "       'Anand', 'Anantapur', 'Ara', 'Asansol', 'Aurangabad', 'Avadi',\n",
       "       'Azamgarh', 'Badlapur', 'Bagaha', 'Bahadurgarh', 'Baharampur',\n",
       "       'Bahraich', 'Baidyabati', 'Baleshwar', 'Ballia', 'Bally',\n",
       "       'Balurghat', 'Banda', 'Bangalore', 'Bangaon', 'Bankura',\n",
       "       'Bansbaria', 'Barakpur', 'Baranagar', 'Barasat', 'Barddhaman',\n",
       "       'Bareli', 'Baripada', 'Barnala', 'Barsi', 'Basirhat', 'Basti',\n",
       "       'Batala', 'Beawar', 'Begusarai', 'Belgaum', 'Bellary', 'Bettiah',\n",
       "       'Bhadravati', 'Bhadreswar', 'Bhagalpur', 'Bharatpur', 'Bharuch',\n",
       "       'Bhatpara', 'Bhavnagar', 'Bhilai', 'Bhilwara', 'Bhimavaram',\n",
       "       'Bhind', 'Bhiwandi', 'Bhiwani', 'Bhopal', 'Bhubaneswar', 'Bhuj',\n",
       "       'Bhusawal', 'Bid', 'Bidar', 'Bihar', 'Bijapur', 'Bikaner',\n",
       "       'Bilaspur', 'Bokaro', 'Bombay', 'Botad', 'Brahmapur', 'Budaun',\n",
       "       'Bulandshahr', 'Burhanpur', 'Calcutta', 'Champdani',\n",
       "       'Chandannagar', 'Chandausi', 'Chandigarh', 'Chandrapur', 'Chas',\n",
       "       'Chhapra', 'Chhatarpur', 'Chhindwara', 'Chikmagalur',\n",
       "       'Chitradurga', 'Chittaurgarh', 'Churu', 'Cuddapah', 'Damoh',\n",
       "       'Darbhanga', 'Darjiling', 'Dehra Dun', 'Dehri', 'Delhi', 'Deoria',\n",
       "       'Dewas', 'Dhanbad', 'Dharmavaram', 'Dhaulpur', 'Dhule',\n",
       "       'Dibrugarh', 'Dimapur', 'Dindigul', 'Dum Dum', 'Durg', 'Durgapur',\n",
       "       'Eluru', 'Erode', 'Etah', 'Etawah', 'Faizabad', 'Faridabad',\n",
       "       'Farrukhabad', 'Fatehpur', 'Firozabad', 'Firozpur', 'Gadag',\n",
       "       'Gandhidham', 'Gandhinagar', 'Ganganagar', 'Gangapur', 'Gangawati',\n",
       "       'Gaya', 'Ghaziabad', 'Ghazipur', 'Godhra', 'Gonda', 'Gondal',\n",
       "       'Gorakhpur', 'Gudalur', 'Gudivada', 'Gulbarga', 'Guna', 'Guntakal',\n",
       "       'Guntur', 'Gurgaon', 'Guwahati', 'Gwalior', 'Habra', 'Hajipur',\n",
       "       'Haldia', 'Haldwani', 'Halisahar', 'Hanumangarh', 'Haora', 'Hapur',\n",
       "       'Hardoi', 'Haridwar', 'Hassan', 'Hathras', 'Hazaribag', 'Hindupur',\n",
       "       'Hisar', 'Hoshangabad', 'Hoshiarpur', 'Hospet', 'Hosur', 'Hubli',\n",
       "       'Hyderabad', 'Ichalkaranji', 'Imphal', 'Indore', 'Ingraj Bazar',\n",
       "       'Itarsi', 'Jabalpur', 'Jagadhri', 'Jaipur', 'Jalandhar', 'Jalna',\n",
       "       'Jalpaiguri', 'Jamalpur', 'Jammu', 'Jamnagar', 'Jamshedpur',\n",
       "       'Jamuria', 'Jaunpur', 'Jetpur', 'Jhansi', 'Jhunjhunun', 'Jind',\n",
       "       'Jodhpur', 'Junagadh', 'Kaithal', 'Kakinada', 'Kalol', 'Kalyan',\n",
       "       'Kamarhati', 'Kanchipuram', 'Kanchrapara', 'Kanpur', 'Kapra',\n",
       "       'Karimnagar', 'Karnal', 'Kashipur', 'Katihar', 'Khammam',\n",
       "       'Khandwa', 'Khanna', 'Kharagpur', 'Khardaha', 'Khurja', 'Kochi',\n",
       "       'Kolar', 'Kolhapur', 'Kollam', 'Korba', 'Kota', 'Krishnanagar',\n",
       "       'Kulti', 'Kumbakonam', 'Lakhimpur', 'Lakhnau', 'Lalitpur', 'Latur',\n",
       "       'Loni', 'Ludhiana', 'Machilipatnam', 'Madanapalle', 'Madhyamgram',\n",
       "       'Madras', 'Madurai', 'Mahbubnagar', 'Mahesana', 'Maisuru',\n",
       "       'Malegaon', 'Maler Kotla', 'Mandsaur', 'Mandya', 'Mangaluru',\n",
       "       'Mathura', 'Mau', 'Mirzapur', 'Moga', 'Moradabad', 'Morena',\n",
       "       'Mormugao', 'Morvi', 'Motihari', 'Munger', 'Murwara',\n",
       "       'Muzaffarnagar', 'Muzaffarpur', 'Nadiad', 'Nagda', 'Nagercoil',\n",
       "       'Nagpur', 'Naihati', 'Nalgonda', 'Nanded', 'Nandurbar', 'Nandyal',\n",
       "       'Nangloi Jat', 'Navadwip', 'Navsari', 'New Delhi', 'Neyveli',\n",
       "       'Nizamabad', 'Ongole', 'Orai', 'Palakkad', 'Palanpur', 'Pali',\n",
       "       'Pallavaram', 'Palwal', 'Panihati', 'Panipat', 'Panvel',\n",
       "       'Parbhani', 'Patan', 'Pathankot', 'Patiala', 'Patna', 'Phagwara',\n",
       "       'Pilibhit', 'Pimpri', 'Pondicherry', 'Ponnani', 'Porbandar',\n",
       "       'Port Blair', 'Proddatur', 'Pudukkottai', 'Pune', 'Puri', 'Purnia',\n",
       "       'Puruliya', 'Rae Bareli', 'Raichur', 'Raiganj', 'Raigarh',\n",
       "       'Raipur', 'Rajamahendri', 'Rajapalaiyam', 'Rajkot', 'Rajpur',\n",
       "       'Rampur', 'Ranchi', 'Raniganj', 'Ratlam', 'Raurkela', 'Rewa',\n",
       "       'Rewari', 'Rishra', 'Robertsonpet', 'Rohtak', 'Sagar',\n",
       "       'Saharanpur', 'Saharsa', 'Sambalpur', 'Sambhal', 'Sasaram',\n",
       "       'Satara', 'Satna', 'Sawai Madhopur', 'Selam', 'Seoni',\n",
       "       'Shahjahanpur', 'Shantipur', 'Shiliguri', 'Shillong', 'Shimla',\n",
       "       'Shimoga', 'Sholapur', 'Shrirampur', 'Sikar', 'Silchar', 'Sirsa',\n",
       "       'Sitapur', 'Siwan', 'Sonipat', 'Srikakulam', 'Srinagar',\n",
       "       'Sultanpur', 'Surat', 'Surendranagar', 'Suriapet',\n",
       "       'Tadepallegudem', 'Tambaram', 'Tenali', 'Thana', 'Thanesar',\n",
       "       'Thanjavur', 'Thiruvananthapuram', 'Thrissur', 'Tiruchchirappalli',\n",
       "       'Tirunelveli', 'Tirupati', 'Tiruppur', 'Tiruvannamalai',\n",
       "       'Tiruvottiyur', 'Titagarh', 'Tonk', 'Tumkur', 'Udgir', 'Udupi',\n",
       "       'Ujjain', 'Ulhasnagar', 'Ulubaria', 'Unnao', 'Vadodara',\n",
       "       'Varanasi', 'Vejalpur', 'Velluru', 'Veraval', 'Vidisha',\n",
       "       'Vijayawada', 'Virar', 'Visakhapatnam', 'Vizianagaram', 'Warangal',\n",
       "       'Wardha', 'Yamunanagar', 'Yavatmal', 'Yelahanka'], dtype=object)"
      ]
     },
     "execution_count": 28,
     "metadata": {},
     "output_type": "execute_result"
    }
   ],
   "source": [
    "df_india['City'].unique()"
   ]
  },
  {
   "cell_type": "code",
   "execution_count": 29,
   "metadata": {},
   "outputs": [],
   "source": [
    "df_india_delhi =  df_india[(df_india['City'] == 'Delhi')]"
   ]
  },
  {
   "cell_type": "code",
   "execution_count": 30,
   "metadata": {},
   "outputs": [
    {
     "data": {
      "text/html": [
       "<div>\n",
       "<style scoped>\n",
       "    .dataframe tbody tr th:only-of-type {\n",
       "        vertical-align: middle;\n",
       "    }\n",
       "\n",
       "    .dataframe tbody tr th {\n",
       "        vertical-align: top;\n",
       "    }\n",
       "\n",
       "    .dataframe thead th {\n",
       "        text-align: right;\n",
       "    }\n",
       "</style>\n",
       "<table border=\"1\" class=\"dataframe\">\n",
       "  <thead>\n",
       "    <tr style=\"text-align: right;\">\n",
       "      <th></th>\n",
       "      <th>dt</th>\n",
       "      <th>AverageTemperature</th>\n",
       "      <th>City</th>\n",
       "      <th>Country</th>\n",
       "    </tr>\n",
       "  </thead>\n",
       "  <tbody>\n",
       "    <tr>\n",
       "      <th>1938830</th>\n",
       "      <td>1796-01-01</td>\n",
       "      <td>14.590</td>\n",
       "      <td>Delhi</td>\n",
       "      <td>India</td>\n",
       "    </tr>\n",
       "    <tr>\n",
       "      <th>1938831</th>\n",
       "      <td>1796-02-01</td>\n",
       "      <td>17.109</td>\n",
       "      <td>Delhi</td>\n",
       "      <td>India</td>\n",
       "    </tr>\n",
       "    <tr>\n",
       "      <th>1938832</th>\n",
       "      <td>1796-03-01</td>\n",
       "      <td>21.454</td>\n",
       "      <td>Delhi</td>\n",
       "      <td>India</td>\n",
       "    </tr>\n",
       "    <tr>\n",
       "      <th>1938833</th>\n",
       "      <td>1796-04-01</td>\n",
       "      <td>28.715</td>\n",
       "      <td>Delhi</td>\n",
       "      <td>India</td>\n",
       "    </tr>\n",
       "    <tr>\n",
       "      <th>1938834</th>\n",
       "      <td>1796-05-01</td>\n",
       "      <td>33.726</td>\n",
       "      <td>Delhi</td>\n",
       "      <td>India</td>\n",
       "    </tr>\n",
       "  </tbody>\n",
       "</table>\n",
       "</div>"
      ],
      "text/plain": [
       "                dt  AverageTemperature   City Country\n",
       "1938830 1796-01-01              14.590  Delhi   India\n",
       "1938831 1796-02-01              17.109  Delhi   India\n",
       "1938832 1796-03-01              21.454  Delhi   India\n",
       "1938833 1796-04-01              28.715  Delhi   India\n",
       "1938834 1796-05-01              33.726  Delhi   India"
      ]
     },
     "execution_count": 30,
     "metadata": {},
     "output_type": "execute_result"
    }
   ],
   "source": [
    "df_india_delhi.head()"
   ]
  },
  {
   "cell_type": "code",
   "execution_count": 33,
   "metadata": {},
   "outputs": [
    {
     "data": {
      "image/png": "[encoded data removed]",
      "text/plain": [
       "<Figure size 1080x360 with 1 Axes>"
      ]
     },
     "metadata": {
      "needs_background": "light"
     },
     "output_type": "display_data"
    }
   ],
   "source": [
    "x = df_india_delhi['dt']\n",
    "y = df_india_delhi['AverageTemperature']\n",
    "\n",
    "plt.figure(figsize=(15,5))\n",
    "plt.scatter(x, y) \n",
    "  \n",
    "plt.show()"
   ]
  },
  {
   "cell_type": "code",
   "execution_count": 34,
   "metadata": {},
   "outputs": [],
   "source": [
    "df_india_delhi_time_range = df_india_delhi.loc[(df_india_delhi['dt'] >= '2000-01-01') \n",
    "                     & (df_india_delhi['dt'] < '2005-12-31')]"
   ]
  },
  {
   "cell_type": "code",
   "execution_count": 35,
   "metadata": {},
   "outputs": [
    {
     "data": {
      "image/png": "[encoded data removed]",
      "text/plain": [
       "<Figure size 1080x360 with 1 Axes>"
      ]
     },
     "metadata": {
      "needs_background": "light"
     },
     "output_type": "display_data"
    }
   ],
   "source": [
    "x = df_india_delhi_time_range['dt']\n",
    "y = df_india_delhi_time_range['AverageTemperature']\n",
    "\n",
    "plt.figure(figsize=(15,5))\n",
    "plt.scatter(x, y) \n",
    "\n",
    "plt.show()"
   ]
  },
  {
   "cell_type": "markdown",
   "metadata": {},
   "source": [
    "## China Data Analysis"
   ]
  },
  {
   "cell_type": "code",
   "execution_count": 36,
   "metadata": {},
   "outputs": [],
   "source": [
    "df_china =  df_temp[(df_temp['Country'] == 'China')]"
   ]
  },
  {
   "cell_type": "code",
   "execution_count": 37,
   "metadata": {},
   "outputs": [
    {
     "data": {
      "text/html": [
       "<div>\n",
       "<style scoped>\n",
       "    .dataframe tbody tr th:only-of-type {\n",
       "        vertical-align: middle;\n",
       "    }\n",
       "\n",
       "    .dataframe tbody tr th {\n",
       "        vertical-align: top;\n",
       "    }\n",
       "\n",
       "    .dataframe thead th {\n",
       "        text-align: right;\n",
       "    }\n",
       "</style>\n",
       "<table border=\"1\" class=\"dataframe\">\n",
       "  <thead>\n",
       "    <tr style=\"text-align: right;\">\n",
       "      <th></th>\n",
       "      <th>dt</th>\n",
       "      <th>AverageTemperature</th>\n",
       "      <th>City</th>\n",
       "      <th>Country</th>\n",
       "    </tr>\n",
       "  </thead>\n",
       "  <tbody>\n",
       "    <tr>\n",
       "      <th>11925</th>\n",
       "      <td>1820-08-01</td>\n",
       "      <td>20.146</td>\n",
       "      <td>Ürümqi</td>\n",
       "      <td>China</td>\n",
       "    </tr>\n",
       "    <tr>\n",
       "      <th>11926</th>\n",
       "      <td>1820-09-01</td>\n",
       "      <td>15.331</td>\n",
       "      <td>Ürümqi</td>\n",
       "      <td>China</td>\n",
       "    </tr>\n",
       "    <tr>\n",
       "      <th>11927</th>\n",
       "      <td>1820-10-01</td>\n",
       "      <td>5.256</td>\n",
       "      <td>Ürümqi</td>\n",
       "      <td>China</td>\n",
       "    </tr>\n",
       "    <tr>\n",
       "      <th>11928</th>\n",
       "      <td>1820-11-01</td>\n",
       "      <td>-4.956</td>\n",
       "      <td>Ürümqi</td>\n",
       "      <td>China</td>\n",
       "    </tr>\n",
       "    <tr>\n",
       "      <th>11929</th>\n",
       "      <td>1820-12-01</td>\n",
       "      <td>-14.118</td>\n",
       "      <td>Ürümqi</td>\n",
       "      <td>China</td>\n",
       "    </tr>\n",
       "  </tbody>\n",
       "</table>\n",
       "</div>"
      ],
      "text/plain": [
       "              dt  AverageTemperature    City Country\n",
       "11925 1820-08-01              20.146  Ürümqi   China\n",
       "11926 1820-09-01              15.331  Ürümqi   China\n",
       "11927 1820-10-01               5.256  Ürümqi   China\n",
       "11928 1820-11-01              -4.956  Ürümqi   China\n",
       "11929 1820-12-01             -14.118  Ürümqi   China"
      ]
     },
     "execution_count": 37,
     "metadata": {},
     "output_type": "execute_result"
    }
   ],
   "source": [
    "df_china.head()"
   ]
  },
  {
   "cell_type": "code",
   "execution_count": 38,
   "metadata": {},
   "outputs": [
    {
     "data": {
      "text/plain": [
       "array(['Ürümqi', 'Acheng', 'Aksu', 'Altay', 'Anbu', 'Anda', 'Ankang',\n",
       "       'Anqing', 'Anqiu', 'Anshan', 'Anshun', 'Anyang', 'Badaojiang',\n",
       "       'Baicheng', 'Baiyin', 'Bantou', 'Baoding', 'Baoji', 'Baoshan',\n",
       "       'Beian', 'Beibei', 'Beihai', 'Beipiao', 'Bengbu', 'Benxi',\n",
       "       'Binzhou', 'Boshan', 'Bozhou', 'Buhe', 'Cangzhou', 'Changchun',\n",
       "       'Changde', 'Changji', 'Changzhou', 'Chaohu', 'Chaoyang',\n",
       "       'Chaozhou', 'Chengde', 'Chengdu', 'Chenghai', 'Chenzhou',\n",
       "       'Chifeng', 'Chizhou', 'Chongqing', 'Chuncheng', 'Chuzhou', 'Daan',\n",
       "       'Dali', 'Dalian', 'Daliang', 'Dandong', 'Danshui', 'Datong',\n",
       "       'Dawukou', 'Daxian', 'Dehui', 'Deyang', 'Dezhou', 'Didao',\n",
       "       'Dingzhou', 'Donghai', 'Dongli', 'Dongling', 'Dongtai', 'Dongying',\n",
       "       'Dunhua', 'Encheng', 'Ezhou', 'Fengcheng', 'Foshan', 'Fuling',\n",
       "       'Fushun', 'Fuxin', 'Fuyang', 'Fuyu', 'Fuzhou', 'Ganzhou', 'Gaomi',\n",
       "       'Gaozhou', 'Gejiu', 'Gongzhuling', 'Guangshui', 'Guangyuan',\n",
       "       'Guangzhou', 'Guilin', 'Guiyang', 'Haibowan', 'Haicheng', 'Haikou',\n",
       "       'Hailar', 'Hailun', 'Haimen', 'Hami', 'Handan', 'Hangu',\n",
       "       'Hangzhou', 'Hanzhong', 'Harbin', 'Hebi', 'Hefei', 'Hegang',\n",
       "       'Hengshan', 'Hengshui', 'Hengyang', 'Heze', 'Hohhot', 'Honggang',\n",
       "       'Honghu', 'Houma', 'Huadian', 'Huaibei', 'Huaihua', 'Huainan',\n",
       "       'Huaiyin', 'Huangcun', 'Huangpu', 'Huangyan', 'Huangzhou',\n",
       "       'Huicheng', 'Huizhou', 'Hulan', 'Hulan Ergi', 'Humen', 'Huzhou',\n",
       "       'Jiamusi', 'Jian', 'Jiangmen', 'Jiangyin', 'Jiangyou', 'Jiaohe',\n",
       "       'Jiaojiang', 'Jiaozhou', 'Jiaozuo', 'Jiaxing', 'Jiayuguan',\n",
       "       'Jiazi', 'Jieshi', 'Jieshou', 'Jilin', 'Jinan', 'Jinchang',\n",
       "       'Jinchengjiang', 'Jingdezhen', 'Jinhua', 'Jining', 'Jinxi',\n",
       "       'Jinzhou', 'Jishou', 'Jishu', 'Jiujiang', 'Jiupu', 'Jiutai',\n",
       "       'Jixi', 'Kaifeng', 'Kaili', 'Kaiyuan', 'Karamay', 'Kashi', 'Korla',\n",
       "       'Kunming', 'Kuytun', 'Laiwu', 'Laiyang', 'Langfang', 'Lanzhou',\n",
       "       'Laohekou', 'Lasa', 'Leiyang', 'Lengshuijiang', 'Leshan',\n",
       "       'Liancheng', 'Lianran', 'Liaocheng', 'Liaoyang', 'Licheng',\n",
       "       'Linchuan', 'Linfen', 'Linhai', 'Linqing', 'Linshui', 'Linxi',\n",
       "       'Linxia', 'Liusha', 'Liuzhou', 'Longfeng', 'Longjiang', 'Longjing',\n",
       "       'Longyan', 'Loudi', 'Luan', 'Luancheng', 'Luohe', 'Luoyang',\n",
       "       'Luqiao', 'Luzhou', 'Maanshan', 'Maba', 'Macheng', 'Maoming',\n",
       "       'Meilu', 'Mentougou', 'Mianyang', 'Mingshui', 'Mudanjiang',\n",
       "       'Nancha', 'Nanchang', 'Nanchong', 'Nanjing', 'Nanning', 'Nanpiao',\n",
       "       'Nantong', 'Nanyang', 'Nehe', 'Neijiang', 'Ningbo', 'Panzhihua',\n",
       "       'Peking', 'Pingdingshan', 'Pingliang', 'Pingshan', 'Pingxiang',\n",
       "       'Pulandian', 'Puqi', 'Puyang', 'Qianguo', 'Qianjiang', 'Qingdao',\n",
       "       'Qingyuan', 'Qinhuangdao', 'Qinzhou', 'Qiqihar', 'Qitaihe',\n",
       "       'Quanzhou', 'Qujing', 'Ranghulu', 'Rizhao', 'Rongcheng', 'Ruian',\n",
       "       'Sanbu', 'Sanmenxia', 'Sanming', 'Shahe', 'Shanghai', 'Shangqiu',\n",
       "       'Shangrao', 'Shaoguan', 'Shaowu', 'Shaoxing', 'Shaoyang',\n",
       "       'Shaping', 'Shashi', 'Shenyang', 'Shihezi', 'Shilong', 'Shishou',\n",
       "       'Shiyan', 'Shizuishan', 'Shuangcheng', 'Shuangyashan', 'Shunyi',\n",
       "       'Suihua', 'Suining', 'Sujiatun', 'Suzhou', 'Taian', 'Taicheng',\n",
       "       'Taiyuan', 'Taizhou', 'Tanggu', 'Tangshan', 'Taonan', 'Tengzhou',\n",
       "       'Tianjin', 'Tianmen', 'Tieli', 'Tieling', 'Tongchuan', 'Tongliao',\n",
       "       'Tongling', 'Tongzhou', 'Wanxian', 'Weifang', 'Weihai', 'Weinan',\n",
       "       'Wencheng', 'Wenzhou', 'Wuda', 'Wufeng', 'Wuhan', 'Wuhu',\n",
       "       'Wulanhaote', 'Wuning', 'Wuwei', 'Wuxi', 'Wuxue', 'Wuzhou',\n",
       "       'Xiamen', 'Xian', 'Xiangdong', 'Xiangfan', 'Xiantao', 'Xianyang',\n",
       "       'Xiaolan', 'Xiazhen', 'Xichang', 'Xingtai', 'Xingyi', 'Xining',\n",
       "       'Xinpu', 'Xintai', 'Xinxiang', 'Xinyang', 'Xinzhou', 'Xuanhua',\n",
       "       'Xuanzhou', 'Xuchang', 'Xuzhou', 'Yaan', 'Yakeshi', 'Yanan',\n",
       "       'Yancheng', 'Yangjiang', 'Yangzhou', 'Yanji', 'Yantai', 'Yibin',\n",
       "       'Yichang', 'Yichun', 'Yidu', 'Yinchuan', 'Yingcheng', 'Yingkou',\n",
       "       'Yingzhong', 'Yining', 'Yiyang', 'Yizheng', 'Yongan', 'Yuci',\n",
       "       'Yueyang', 'Yulin', 'Yuncheng', 'Yushan', 'Yushu', 'Yuyao',\n",
       "       'Zalantun', 'Zaoyang', 'Zaozhuang', 'Zhangdian', 'Zhangjiakou',\n",
       "       'Zhangzhou', 'Zhanjiang', 'Zhaocheng', 'Zhaodong', 'Zhaoqing',\n",
       "       'Zhaotong', 'Zhaoyang', 'Zhenjiang', 'Zhicheng', 'Zhongshan',\n",
       "       'Zhoucheng', 'Zhoucun', 'Zhoukou', 'Zhucheng', 'Zhuhai', 'Zhuji',\n",
       "       'Zhumadian', 'Zhuozhou', 'Zhuzhou', 'Zigong', 'Zouxian', 'Zunyi'],\n",
       "      dtype=object)"
      ]
     },
     "execution_count": 38,
     "metadata": {},
     "output_type": "execute_result"
    }
   ],
   "source": [
    "df_china['City'].unique()"
   ]
  },
  {
   "cell_type": "code",
   "execution_count": 40,
   "metadata": {},
   "outputs": [],
   "source": [
    "df_china_chongqing = df_china[(df_china['City'] == 'Chongqing')]"
   ]
  },
  {
   "cell_type": "code",
   "execution_count": 41,
   "metadata": {},
   "outputs": [
    {
     "data": {
      "text/html": [
       "<div>\n",
       "<style scoped>\n",
       "    .dataframe tbody tr th:only-of-type {\n",
       "        vertical-align: middle;\n",
       "    }\n",
       "\n",
       "    .dataframe tbody tr th {\n",
       "        vertical-align: top;\n",
       "    }\n",
       "\n",
       "    .dataframe thead th {\n",
       "        text-align: right;\n",
       "    }\n",
       "</style>\n",
       "<table border=\"1\" class=\"dataframe\">\n",
       "  <thead>\n",
       "    <tr style=\"text-align: right;\">\n",
       "      <th></th>\n",
       "      <th>dt</th>\n",
       "      <th>AverageTemperature</th>\n",
       "      <th>City</th>\n",
       "      <th>Country</th>\n",
       "    </tr>\n",
       "  </thead>\n",
       "  <tbody>\n",
       "    <tr>\n",
       "      <th>1598975</th>\n",
       "      <td>1840-01-01</td>\n",
       "      <td>6.225</td>\n",
       "      <td>Chongqing</td>\n",
       "      <td>China</td>\n",
       "    </tr>\n",
       "    <tr>\n",
       "      <th>1598976</th>\n",
       "      <td>1840-02-01</td>\n",
       "      <td>7.108</td>\n",
       "      <td>Chongqing</td>\n",
       "      <td>China</td>\n",
       "    </tr>\n",
       "    <tr>\n",
       "      <th>1598977</th>\n",
       "      <td>1840-03-01</td>\n",
       "      <td>10.933</td>\n",
       "      <td>Chongqing</td>\n",
       "      <td>China</td>\n",
       "    </tr>\n",
       "    <tr>\n",
       "      <th>1598978</th>\n",
       "      <td>1840-04-01</td>\n",
       "      <td>16.463</td>\n",
       "      <td>Chongqing</td>\n",
       "      <td>China</td>\n",
       "    </tr>\n",
       "    <tr>\n",
       "      <th>1598979</th>\n",
       "      <td>1840-05-01</td>\n",
       "      <td>20.197</td>\n",
       "      <td>Chongqing</td>\n",
       "      <td>China</td>\n",
       "    </tr>\n",
       "  </tbody>\n",
       "</table>\n",
       "</div>"
      ],
      "text/plain": [
       "                dt  AverageTemperature       City Country\n",
       "1598975 1840-01-01               6.225  Chongqing   China\n",
       "1598976 1840-02-01               7.108  Chongqing   China\n",
       "1598977 1840-03-01              10.933  Chongqing   China\n",
       "1598978 1840-04-01              16.463  Chongqing   China\n",
       "1598979 1840-05-01              20.197  Chongqing   China"
      ]
     },
     "execution_count": 41,
     "metadata": {},
     "output_type": "execute_result"
    }
   ],
   "source": [
    "df_china_chongqing.head()"
   ]
  },
  {
   "cell_type": "code",
   "execution_count": 42,
   "metadata": {},
   "outputs": [
    {
     "data": {
      "image/png": "[encoded data removed]",
      "text/plain": [
       "<Figure size 1080x360 with 1 Axes>"
      ]
     },
     "metadata": {
      "needs_background": "light"
     },
     "output_type": "display_data"
    }
   ],
   "source": [
    "x = df_china_chongqing['dt']\n",
    "y = df_china_chongqing['AverageTemperature']\n",
    "\n",
    "plt.figure(figsize=(15,5))\n",
    "plt.scatter(x, y)\n",
    "\n",
    "plt.show()"
   ]
  },
  {
   "cell_type": "code",
   "execution_count": 43,
   "metadata": {},
   "outputs": [],
   "source": [
    "df_china_chongqing_time_range = df_china_chongqing.loc[(df_china_chongqing['dt'] >= '2000-01-01') \n",
    "                     & (df_china_chongqing['dt'] < '2005-12-31')]"
   ]
  },
  {
   "cell_type": "code",
   "execution_count": 45,
   "metadata": {},
   "outputs": [
    {
     "data": {
      "image/png": "[encoded data removed]",
      "text/plain": [
       "<Figure size 1080x360 with 1 Axes>"
      ]
     },
     "metadata": {
      "needs_background": "light"
     },
     "output_type": "display_data"
    }
   ],
   "source": [
    "x = df_china_chongqing_time_range['dt']\n",
    "y = df_china_chongqing_time_range['AverageTemperature']\n",
    "\n",
    "plt.figure(figsize=(15,5))\n",
    "plt.scatter(x, y)\n",
    "\n",
    "plt.show()"
   ]
  },
  {
   "cell_type": "markdown",
   "metadata": {},
   "source": [
    "## United States Data Analysis"
   ]
  },
  {
   "cell_type": "code",
   "execution_count": 46,
   "metadata": {},
   "outputs": [
    {
     "data": {
      "text/html": [
       "<div>\n",
       "<style scoped>\n",
       "    .dataframe tbody tr th:only-of-type {\n",
       "        vertical-align: middle;\n",
       "    }\n",
       "\n",
       "    .dataframe tbody tr th {\n",
       "        vertical-align: top;\n",
       "    }\n",
       "\n",
       "    .dataframe thead th {\n",
       "        text-align: right;\n",
       "    }\n",
       "</style>\n",
       "<table border=\"1\" class=\"dataframe\">\n",
       "  <thead>\n",
       "    <tr style=\"text-align: right;\">\n",
       "      <th></th>\n",
       "      <th>dt</th>\n",
       "      <th>AverageTemperature</th>\n",
       "      <th>City</th>\n",
       "      <th>Country</th>\n",
       "    </tr>\n",
       "  </thead>\n",
       "  <tbody>\n",
       "    <tr>\n",
       "      <th>47555</th>\n",
       "      <td>1820-01-01</td>\n",
       "      <td>2.101</td>\n",
       "      <td>Abilene</td>\n",
       "      <td>United States</td>\n",
       "    </tr>\n",
       "    <tr>\n",
       "      <th>47556</th>\n",
       "      <td>1820-02-01</td>\n",
       "      <td>6.926</td>\n",
       "      <td>Abilene</td>\n",
       "      <td>United States</td>\n",
       "    </tr>\n",
       "    <tr>\n",
       "      <th>47557</th>\n",
       "      <td>1820-03-01</td>\n",
       "      <td>10.767</td>\n",
       "      <td>Abilene</td>\n",
       "      <td>United States</td>\n",
       "    </tr>\n",
       "    <tr>\n",
       "      <th>47558</th>\n",
       "      <td>1820-04-01</td>\n",
       "      <td>17.989</td>\n",
       "      <td>Abilene</td>\n",
       "      <td>United States</td>\n",
       "    </tr>\n",
       "    <tr>\n",
       "      <th>47559</th>\n",
       "      <td>1820-05-01</td>\n",
       "      <td>21.809</td>\n",
       "      <td>Abilene</td>\n",
       "      <td>United States</td>\n",
       "    </tr>\n",
       "  </tbody>\n",
       "</table>\n",
       "</div>"
      ],
      "text/plain": [
       "              dt  AverageTemperature     City        Country\n",
       "47555 1820-01-01               2.101  Abilene  United States\n",
       "47556 1820-02-01               6.926  Abilene  United States\n",
       "47557 1820-03-01              10.767  Abilene  United States\n",
       "47558 1820-04-01              17.989  Abilene  United States\n",
       "47559 1820-05-01              21.809  Abilene  United States"
      ]
     },
     "execution_count": 46,
     "metadata": {},
     "output_type": "execute_result"
    }
   ],
   "source": [
    "df_usa = df_temp[(df_temp['Country'] == 'United States')]\n",
    "df_usa.head()"
   ]
  },
  {
   "cell_type": "code",
   "execution_count": 47,
   "metadata": {},
   "outputs": [
    {
     "data": {
      "text/plain": [
       "array(['Abilene', 'Akron', 'Albuquerque', 'Alexandria', 'Allentown',\n",
       "       'Amarillo', 'Anaheim', 'Anchorage', 'Ann Arbor', 'Antioch',\n",
       "       'Arlington', 'Arvada', 'Atlanta', 'Aurora', 'Austin',\n",
       "       'Bakersfield', 'Baltimore', 'Baton Rouge', 'Beaumont', 'Bellevue',\n",
       "       'Berkeley', 'Birmingham', 'Boston', 'Bridgeport', 'Brownsville',\n",
       "       'Buffalo', 'Burbank', 'Cambridge', 'Cape Coral', 'Carrollton',\n",
       "       'Cary', 'Cedar Rapids', 'Chandler', 'Charleston', 'Charlotte',\n",
       "       'Chattanooga', 'Chesapeake', 'Chicago', 'Chula Vista',\n",
       "       'Cincinnati', 'Clarksville', 'Clearwater', 'Cleveland',\n",
       "       'Colorado Springs', 'Columbia', 'Columbus', 'Concord',\n",
       "       'Coral Springs', 'Corona', 'Corpus Christi', 'Costa Mesa',\n",
       "       'Dallas', 'Dayton', 'Denton', 'Denver', 'Des Moines', 'Detroit',\n",
       "       'Downey', 'Durham', 'East Los Angeles', 'Edison', 'El Monte',\n",
       "       'El Paso', 'Elizabeth', 'Escondido', 'Eugene', 'Evansville',\n",
       "       'Fairfield', 'Fayetteville', 'Flint', 'Fontana', 'Fort Collins',\n",
       "       'Fort Lauderdale', 'Fort Wayne', 'Fort Worth', 'Fremont', 'Fresno',\n",
       "       'Fullerton', 'Gainesville', 'Garden Grove', 'Garland', 'Gilbert',\n",
       "       'Glendale', 'Grand Prairie', 'Grand Rapids', 'Green Bay',\n",
       "       'Greensboro', 'Hampton', 'Hartford', 'Hayward', 'Henderson',\n",
       "       'Hialeah', 'Highlands Ranch', 'Hollywood', 'Houston',\n",
       "       'Huntington Beach', 'Huntsville', 'Independence', 'Indianapolis',\n",
       "       'Inglewood', 'Irvine', 'Irving', 'Jackson', 'Jacksonville',\n",
       "       'Jersey City', 'Joliet', 'Kansas City', 'Killeen', 'Knoxville',\n",
       "       'Lafayette', 'Lakewood', 'Lancaster', 'Lansing', 'Laredo',\n",
       "       'Las Vegas', 'Lexington Fayette', 'Lincoln', 'Little Rock',\n",
       "       'Long Beach', 'Los Angeles', 'Louisville', 'Lowell', 'Lubbock',\n",
       "       'Madison', 'Manchester', 'Memphis', 'Mesa', 'Mesquite', 'Metairie',\n",
       "       'Miami', 'Milwaukee', 'Minneapolis', 'Miramar', 'Mobile',\n",
       "       'Modesto', 'Montgomery', 'Moreno Valley', 'Naperville',\n",
       "       'Nashville', 'New Haven', 'New Orleans', 'New York', 'Newark',\n",
       "       'Newport News', 'Nogales', 'Norfolk', 'Norman', 'North Las Vegas',\n",
       "       'Norwalk', 'Nuevo Laredo', 'Oakland', 'Oceanside', 'Oklahoma City',\n",
       "       'Olathe', 'Omaha', 'Ontario', 'Orange', 'Orlando', 'Overland Park',\n",
       "       'Oxnard', 'Palmdale', 'Paradise', 'Pasadena', 'Paterson',\n",
       "       'Pembroke Pines', 'Peoria', 'Philadelphia', 'Phoenix',\n",
       "       'Pittsburgh', 'Plano', 'Pomona', 'Port Saint Lucie', 'Portland',\n",
       "       'Providence', 'Provo', 'Pueblo', 'Raleigh', 'Rancho Cucamonga',\n",
       "       'Reno', 'Rialto', 'Richardson', 'Richmond', 'Riverside',\n",
       "       'Rochester', 'Rockford', 'Roseville', 'Sacramento', 'Saint Louis',\n",
       "       'Saint Paul', 'Saint Petersburg', 'Salem', 'Salinas',\n",
       "       'Salt Lake City', 'San Antonio', 'San Bernardino', 'San Diego',\n",
       "       'San Francisco', 'San Jose', 'Santa Ana', 'Santa Clara',\n",
       "       'Santa Clarita', 'Santa Rosa', 'Savannah', 'Scottsdale', 'Seattle',\n",
       "       'Shreveport', 'Simi Valley', 'Sioux Falls', 'South Bend',\n",
       "       'Spokane', 'Spring Valley', 'Springfield', 'Stamford',\n",
       "       'Sterling Heights', 'Stockton', 'Sunnyvale', 'Sunrise Manor',\n",
       "       'Syracuse', 'Tacoma', 'Tallahassee', 'Tampa', 'Tempe', 'Thornton',\n",
       "       'Thousand Oaks', 'Toledo', 'Toms River', 'Topeka', 'Torrance',\n",
       "       'Tucson', 'Tulsa', 'Vallejo', 'Vancouver', 'Virginia Beach',\n",
       "       'Visalia', 'Waco', 'Warren', 'Washington', 'Waterbury',\n",
       "       'West Covina', 'West Jordan', 'West Valley City', 'Westminster',\n",
       "       'Wichita', 'Wichita Falls', 'Windsor', 'Winston Salem',\n",
       "       'Worcester', 'Yonkers'], dtype=object)"
      ]
     },
     "execution_count": 47,
     "metadata": {},
     "output_type": "execute_result"
    }
   ],
   "source": [
    "df_usa['City'].unique()"
   ]
  },
  {
   "cell_type": "code",
   "execution_count": 49,
   "metadata": {},
   "outputs": [
    {
     "data": {
      "text/html": [
       "<div>\n",
       "<style scoped>\n",
       "    .dataframe tbody tr th:only-of-type {\n",
       "        vertical-align: middle;\n",
       "    }\n",
       "\n",
       "    .dataframe tbody tr th {\n",
       "        vertical-align: top;\n",
       "    }\n",
       "\n",
       "    .dataframe thead th {\n",
       "        text-align: right;\n",
       "    }\n",
       "</style>\n",
       "<table border=\"1\" class=\"dataframe\">\n",
       "  <thead>\n",
       "    <tr style=\"text-align: right;\">\n",
       "      <th></th>\n",
       "      <th>dt</th>\n",
       "      <th>AverageTemperature</th>\n",
       "      <th>City</th>\n",
       "      <th>Country</th>\n",
       "    </tr>\n",
       "  </thead>\n",
       "  <tbody>\n",
       "    <tr>\n",
       "      <th>8161899</th>\n",
       "      <td>1743-11-01</td>\n",
       "      <td>5.339</td>\n",
       "      <td>Washington</td>\n",
       "      <td>United States</td>\n",
       "    </tr>\n",
       "    <tr>\n",
       "      <th>8161900</th>\n",
       "      <td>1743-12-01</td>\n",
       "      <td>NaN</td>\n",
       "      <td>Washington</td>\n",
       "      <td>United States</td>\n",
       "    </tr>\n",
       "    <tr>\n",
       "      <th>8161901</th>\n",
       "      <td>1744-01-01</td>\n",
       "      <td>NaN</td>\n",
       "      <td>Washington</td>\n",
       "      <td>United States</td>\n",
       "    </tr>\n",
       "    <tr>\n",
       "      <th>8161902</th>\n",
       "      <td>1744-02-01</td>\n",
       "      <td>NaN</td>\n",
       "      <td>Washington</td>\n",
       "      <td>United States</td>\n",
       "    </tr>\n",
       "    <tr>\n",
       "      <th>8161903</th>\n",
       "      <td>1744-03-01</td>\n",
       "      <td>NaN</td>\n",
       "      <td>Washington</td>\n",
       "      <td>United States</td>\n",
       "    </tr>\n",
       "    <tr>\n",
       "      <th>8161904</th>\n",
       "      <td>1744-04-01</td>\n",
       "      <td>12.606</td>\n",
       "      <td>Washington</td>\n",
       "      <td>United States</td>\n",
       "    </tr>\n",
       "    <tr>\n",
       "      <th>8161905</th>\n",
       "      <td>1744-05-01</td>\n",
       "      <td>17.740</td>\n",
       "      <td>Washington</td>\n",
       "      <td>United States</td>\n",
       "    </tr>\n",
       "    <tr>\n",
       "      <th>8161906</th>\n",
       "      <td>1744-06-01</td>\n",
       "      <td>23.043</td>\n",
       "      <td>Washington</td>\n",
       "      <td>United States</td>\n",
       "    </tr>\n",
       "    <tr>\n",
       "      <th>8161907</th>\n",
       "      <td>1744-07-01</td>\n",
       "      <td>24.148</td>\n",
       "      <td>Washington</td>\n",
       "      <td>United States</td>\n",
       "    </tr>\n",
       "    <tr>\n",
       "      <th>8161908</th>\n",
       "      <td>1744-08-01</td>\n",
       "      <td>NaN</td>\n",
       "      <td>Washington</td>\n",
       "      <td>United States</td>\n",
       "    </tr>\n",
       "  </tbody>\n",
       "</table>\n",
       "</div>"
      ],
      "text/plain": [
       "                dt  AverageTemperature        City        Country\n",
       "8161899 1743-11-01               5.339  Washington  United States\n",
       "8161900 1743-12-01                 NaN  Washington  United States\n",
       "8161901 1744-01-01                 NaN  Washington  United States\n",
       "8161902 1744-02-01                 NaN  Washington  United States\n",
       "8161903 1744-03-01                 NaN  Washington  United States\n",
       "8161904 1744-04-01              12.606  Washington  United States\n",
       "8161905 1744-05-01              17.740  Washington  United States\n",
       "8161906 1744-06-01              23.043  Washington  United States\n",
       "8161907 1744-07-01              24.148  Washington  United States\n",
       "8161908 1744-08-01                 NaN  Washington  United States"
      ]
     },
     "execution_count": 49,
     "metadata": {},
     "output_type": "execute_result"
    }
   ],
   "source": [
    "df_usa_washington =  df_usa[(df_usa['City'] == 'Washington')]\n",
    "df_usa_washington.head(10)"
   ]
  },
  {
   "cell_type": "code",
   "execution_count": 50,
   "metadata": {},
   "outputs": [
    {
     "data": {
      "image/png": "[encoded data removed]",
      "text/plain": [
       "<Figure size 1080x360 with 1 Axes>"
      ]
     },
     "metadata": {
      "needs_background": "light"
     },
     "output_type": "display_data"
    }
   ],
   "source": [
    "x = df_usa_washington['dt']\n",
    "y = df_usa_washington['AverageTemperature']\n",
    "\n",
    "plt.figure(figsize=(15,5))\n",
    "plt.scatter(x, y)\n",
    "\n",
    "plt.show()"
   ]
  },
  {
   "cell_type": "code",
   "execution_count": 51,
   "metadata": {},
   "outputs": [],
   "source": [
    "df_usa_washington_time_range = df_usa_washington.loc[(df_usa_washington['dt'] >= '2000-01-01') \n",
    "                                                     & (df_usa_washington['dt'] < '2005-12-31')]"
   ]
  },
  {
   "cell_type": "code",
   "execution_count": 52,
   "metadata": {},
   "outputs": [
    {
     "data": {
      "image/png": "[encoded data removed]",
      "text/plain": [
       "<Figure size 1080x360 with 1 Axes>"
      ]
     },
     "metadata": {
      "needs_background": "light"
     },
     "output_type": "display_data"
    }
   ],
   "source": [
    "x = df_usa_washington_time_range['dt']\n",
    "y = df_usa_washington_time_range['AverageTemperature']\n",
    "\n",
    "plt.figure(figsize=(15,5))\n",
    "plt.scatter(x, y)\n",
    "\n",
    "plt.show()"
   ]
  },
  {
   "cell_type": "code",
   "execution_count": null,
   "metadata": {},
   "outputs": [],
   "source": []
  }
 ],
 "metadata": {
  "kernelspec": {
   "display_name": "Python 3",
   "language": "python",
   "name": "python3"
  },
  "language_info": {
   "codemirror_mode": {
    "name": "ipython",
    "version": 3
   },
   "file_extension": ".py",
   "mimetype": "text/x-python",
   "name": "python",
   "nbconvert_exporter": "python",
   "pygments_lexer": "ipython3",
   "version": "3.8.5"
  }
 },
 "nbformat": 4,
 "nbformat_minor": 4
}
