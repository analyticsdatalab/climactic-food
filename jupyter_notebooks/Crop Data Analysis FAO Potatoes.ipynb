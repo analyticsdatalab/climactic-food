{
 "cells": [
  {
   "cell_type": "code",
   "execution_count": 1,
   "metadata": {},
   "outputs": [],
   "source": [
    "import pandas as pd\n",
    "import os\n",
    "\n",
    "from matplotlib import pyplot as plt"
   ]
  },
  {
   "cell_type": "markdown",
   "metadata": {},
   "source": [
    "# Importing Data"
   ]
  },
  {
   "cell_type": "markdown",
   "metadata": {},
   "source": [
    "## Initial checkup"
   ]
  },
  {
   "cell_type": "code",
   "execution_count": 3,
   "metadata": {},
   "outputs": [],
   "source": [
    "file_name = \"FAOSTAT_data_11-7-2021.csv\"\n",
    "folder_path = \"../data/food\"\n",
    "full_file_path = os.path.join(folder_path, file_name)"
   ]
  },
  {
   "cell_type": "code",
   "execution_count": 4,
   "metadata": {},
   "outputs": [],
   "source": [
    "df = pd.read_csv(full_file_path)"
   ]
  },
  {
   "cell_type": "code",
   "execution_count": 5,
   "metadata": {},
   "outputs": [
    {
     "data": {
      "text/html": [
       "<div>\n",
       "<style scoped>\n",
       "    .dataframe tbody tr th:only-of-type {\n",
       "        vertical-align: middle;\n",
       "    }\n",
       "\n",
       "    .dataframe tbody tr th {\n",
       "        vertical-align: top;\n",
       "    }\n",
       "\n",
       "    .dataframe thead th {\n",
       "        text-align: right;\n",
       "    }\n",
       "</style>\n",
       "<table border=\"1\" class=\"dataframe\">\n",
       "  <thead>\n",
       "    <tr style=\"text-align: right;\">\n",
       "      <th></th>\n",
       "      <th>Domain Code</th>\n",
       "      <th>Domain</th>\n",
       "      <th>Area Code (FAO)</th>\n",
       "      <th>Area</th>\n",
       "      <th>Element Code</th>\n",
       "      <th>Element</th>\n",
       "      <th>Item Code (FAO)</th>\n",
       "      <th>Item</th>\n",
       "      <th>Year Code</th>\n",
       "      <th>Year</th>\n",
       "      <th>Unit</th>\n",
       "      <th>Value</th>\n",
       "      <th>Flag</th>\n",
       "      <th>Flag Description</th>\n",
       "    </tr>\n",
       "  </thead>\n",
       "  <tbody>\n",
       "    <tr>\n",
       "      <th>0</th>\n",
       "      <td>QI</td>\n",
       "      <td>Production Indices</td>\n",
       "      <td>10</td>\n",
       "      <td>Australia</td>\n",
       "      <td>432</td>\n",
       "      <td>Gross Production Index Number (2014-2016 = 100)</td>\n",
       "      <td>221</td>\n",
       "      <td>Almonds, with shell</td>\n",
       "      <td>2000</td>\n",
       "      <td>2000</td>\n",
       "      <td>index</td>\n",
       "      <td>15.27</td>\n",
       "      <td>Fc</td>\n",
       "      <td>Calculated data</td>\n",
       "    </tr>\n",
       "    <tr>\n",
       "      <th>1</th>\n",
       "      <td>QI</td>\n",
       "      <td>Production Indices</td>\n",
       "      <td>10</td>\n",
       "      <td>Australia</td>\n",
       "      <td>432</td>\n",
       "      <td>Gross Production Index Number (2014-2016 = 100)</td>\n",
       "      <td>221</td>\n",
       "      <td>Almonds, with shell</td>\n",
       "      <td>2001</td>\n",
       "      <td>2001</td>\n",
       "      <td>index</td>\n",
       "      <td>14.62</td>\n",
       "      <td>Fc</td>\n",
       "      <td>Calculated data</td>\n",
       "    </tr>\n",
       "    <tr>\n",
       "      <th>2</th>\n",
       "      <td>QI</td>\n",
       "      <td>Production Indices</td>\n",
       "      <td>10</td>\n",
       "      <td>Australia</td>\n",
       "      <td>432</td>\n",
       "      <td>Gross Production Index Number (2014-2016 = 100)</td>\n",
       "      <td>221</td>\n",
       "      <td>Almonds, with shell</td>\n",
       "      <td>2002</td>\n",
       "      <td>2002</td>\n",
       "      <td>index</td>\n",
       "      <td>14.98</td>\n",
       "      <td>Fc</td>\n",
       "      <td>Calculated data</td>\n",
       "    </tr>\n",
       "    <tr>\n",
       "      <th>3</th>\n",
       "      <td>QI</td>\n",
       "      <td>Production Indices</td>\n",
       "      <td>10</td>\n",
       "      <td>Australia</td>\n",
       "      <td>432</td>\n",
       "      <td>Gross Production Index Number (2014-2016 = 100)</td>\n",
       "      <td>221</td>\n",
       "      <td>Almonds, with shell</td>\n",
       "      <td>2003</td>\n",
       "      <td>2003</td>\n",
       "      <td>index</td>\n",
       "      <td>16.14</td>\n",
       "      <td>Fc</td>\n",
       "      <td>Calculated data</td>\n",
       "    </tr>\n",
       "    <tr>\n",
       "      <th>4</th>\n",
       "      <td>QI</td>\n",
       "      <td>Production Indices</td>\n",
       "      <td>10</td>\n",
       "      <td>Australia</td>\n",
       "      <td>432</td>\n",
       "      <td>Gross Production Index Number (2014-2016 = 100)</td>\n",
       "      <td>221</td>\n",
       "      <td>Almonds, with shell</td>\n",
       "      <td>2004</td>\n",
       "      <td>2004</td>\n",
       "      <td>index</td>\n",
       "      <td>18.40</td>\n",
       "      <td>Fc</td>\n",
       "      <td>Calculated data</td>\n",
       "    </tr>\n",
       "  </tbody>\n",
       "</table>\n",
       "</div>"
      ],
      "text/plain": [
       "  Domain Code              Domain  Area Code (FAO)       Area  Element Code  \\\n",
       "0          QI  Production Indices               10  Australia           432   \n",
       "1          QI  Production Indices               10  Australia           432   \n",
       "2          QI  Production Indices               10  Australia           432   \n",
       "3          QI  Production Indices               10  Australia           432   \n",
       "4          QI  Production Indices               10  Australia           432   \n",
       "\n",
       "                                           Element  Item Code (FAO)  \\\n",
       "0  Gross Production Index Number (2014-2016 = 100)              221   \n",
       "1  Gross Production Index Number (2014-2016 = 100)              221   \n",
       "2  Gross Production Index Number (2014-2016 = 100)              221   \n",
       "3  Gross Production Index Number (2014-2016 = 100)              221   \n",
       "4  Gross Production Index Number (2014-2016 = 100)              221   \n",
       "\n",
       "                  Item  Year Code  Year   Unit  Value Flag Flag Description  \n",
       "0  Almonds, with shell       2000  2000  index  15.27   Fc  Calculated data  \n",
       "1  Almonds, with shell       2001  2001  index  14.62   Fc  Calculated data  \n",
       "2  Almonds, with shell       2002  2002  index  14.98   Fc  Calculated data  \n",
       "3  Almonds, with shell       2003  2003  index  16.14   Fc  Calculated data  \n",
       "4  Almonds, with shell       2004  2004  index  18.40   Fc  Calculated data  "
      ]
     },
     "execution_count": 5,
     "metadata": {},
     "output_type": "execute_result"
    }
   ],
   "source": [
    "df.head()"
   ]
  },
  {
   "cell_type": "code",
   "execution_count": 6,
   "metadata": {},
   "outputs": [
    {
     "data": {
      "text/plain": [
       "array(['Australia', 'Brazil', 'Canada', 'China', 'France', 'Germany',\n",
       "       'India', 'Japan', 'Malawi', 'Morocco', 'Netherlands', 'Romania',\n",
       "       'Russian Federation', 'South Africa', 'Spain', 'Sweden',\n",
       "       'United States of America'], dtype=object)"
      ]
     },
     "execution_count": 6,
     "metadata": {},
     "output_type": "execute_result"
    }
   ],
   "source": [
    "df['Area'].unique()"
   ]
  },
  {
   "cell_type": "code",
   "execution_count": 7,
   "metadata": {},
   "outputs": [
    {
     "name": "stdout",
     "output_type": "stream",
     "text": [
      "<class 'pandas.core.frame.DataFrame'>\n",
      "RangeIndex: 62068 entries, 0 to 62067\n",
      "Data columns (total 14 columns):\n",
      " #   Column            Non-Null Count  Dtype  \n",
      "---  ------            --------------  -----  \n",
      " 0   Domain Code       62068 non-null  object \n",
      " 1   Domain            62068 non-null  object \n",
      " 2   Area Code (FAO)   62068 non-null  int64  \n",
      " 3   Area              62068 non-null  object \n",
      " 4   Element Code      62068 non-null  int64  \n",
      " 5   Element           62068 non-null  object \n",
      " 6   Item Code (FAO)   62068 non-null  int64  \n",
      " 7   Item              62068 non-null  object \n",
      " 8   Year Code         62068 non-null  int64  \n",
      " 9   Year              62068 non-null  int64  \n",
      " 10  Unit              62068 non-null  object \n",
      " 11  Value             62068 non-null  float64\n",
      " 12  Flag              62068 non-null  object \n",
      " 13  Flag Description  62068 non-null  object \n",
      "dtypes: float64(1), int64(5), object(8)\n",
      "memory usage: 6.6+ MB\n"
     ]
    }
   ],
   "source": [
    "df.info()"
   ]
  },
  {
   "cell_type": "code",
   "execution_count": 8,
   "metadata": {},
   "outputs": [
    {
     "data": {
      "text/html": [
       "<div>\n",
       "<style scoped>\n",
       "    .dataframe tbody tr th:only-of-type {\n",
       "        vertical-align: middle;\n",
       "    }\n",
       "\n",
       "    .dataframe tbody tr th {\n",
       "        vertical-align: top;\n",
       "    }\n",
       "\n",
       "    .dataframe thead th {\n",
       "        text-align: right;\n",
       "    }\n",
       "</style>\n",
       "<table border=\"1\" class=\"dataframe\">\n",
       "  <thead>\n",
       "    <tr style=\"text-align: right;\">\n",
       "      <th></th>\n",
       "      <th>Area Code (FAO)</th>\n",
       "      <th>Element Code</th>\n",
       "      <th>Item Code (FAO)</th>\n",
       "      <th>Year Code</th>\n",
       "      <th>Year</th>\n",
       "      <th>Value</th>\n",
       "    </tr>\n",
       "  </thead>\n",
       "  <tbody>\n",
       "    <tr>\n",
       "      <th>count</th>\n",
       "      <td>62068.000000</td>\n",
       "      <td>62068.000000</td>\n",
       "      <td>62068.000000</td>\n",
       "      <td>62068.000000</td>\n",
       "      <td>62068.000000</td>\n",
       "      <td>62068.000000</td>\n",
       "    </tr>\n",
       "    <tr>\n",
       "      <th>mean</th>\n",
       "      <td>150.430914</td>\n",
       "      <td>433.000000</td>\n",
       "      <td>565.252787</td>\n",
       "      <td>2009.486595</td>\n",
       "      <td>2009.486595</td>\n",
       "      <td>145.391975</td>\n",
       "    </tr>\n",
       "    <tr>\n",
       "      <th>std</th>\n",
       "      <td>93.945353</td>\n",
       "      <td>1.000008</td>\n",
       "      <td>420.835337</td>\n",
       "      <td>5.730009</td>\n",
       "      <td>5.730009</td>\n",
       "      <td>1581.427984</td>\n",
       "    </tr>\n",
       "    <tr>\n",
       "      <th>min</th>\n",
       "      <td>10.000000</td>\n",
       "      <td>432.000000</td>\n",
       "      <td>15.000000</td>\n",
       "      <td>2000.000000</td>\n",
       "      <td>2000.000000</td>\n",
       "      <td>0.020000</td>\n",
       "    </tr>\n",
       "    <tr>\n",
       "      <th>25%</th>\n",
       "      <td>79.000000</td>\n",
       "      <td>432.000000</td>\n",
       "      <td>267.000000</td>\n",
       "      <td>2005.000000</td>\n",
       "      <td>2005.000000</td>\n",
       "      <td>82.340000</td>\n",
       "    </tr>\n",
       "    <tr>\n",
       "      <th>50%</th>\n",
       "      <td>143.000000</td>\n",
       "      <td>433.000000</td>\n",
       "      <td>490.000000</td>\n",
       "      <td>2010.000000</td>\n",
       "      <td>2010.000000</td>\n",
       "      <td>98.220000</td>\n",
       "    </tr>\n",
       "    <tr>\n",
       "      <th>75%</th>\n",
       "      <td>203.000000</td>\n",
       "      <td>434.000000</td>\n",
       "      <td>723.000000</td>\n",
       "      <td>2014.000000</td>\n",
       "      <td>2014.000000</td>\n",
       "      <td>110.440000</td>\n",
       "    </tr>\n",
       "    <tr>\n",
       "      <th>max</th>\n",
       "      <td>351.000000</td>\n",
       "      <td>434.000000</td>\n",
       "      <td>2051.000000</td>\n",
       "      <td>2019.000000</td>\n",
       "      <td>2019.000000</td>\n",
       "      <td>179970.360000</td>\n",
       "    </tr>\n",
       "  </tbody>\n",
       "</table>\n",
       "</div>"
      ],
      "text/plain": [
       "       Area Code (FAO)  Element Code  Item Code (FAO)     Year Code  \\\n",
       "count     62068.000000  62068.000000     62068.000000  62068.000000   \n",
       "mean        150.430914    433.000000       565.252787   2009.486595   \n",
       "std          93.945353      1.000008       420.835337      5.730009   \n",
       "min          10.000000    432.000000        15.000000   2000.000000   \n",
       "25%          79.000000    432.000000       267.000000   2005.000000   \n",
       "50%         143.000000    433.000000       490.000000   2010.000000   \n",
       "75%         203.000000    434.000000       723.000000   2014.000000   \n",
       "max         351.000000    434.000000      2051.000000   2019.000000   \n",
       "\n",
       "               Year          Value  \n",
       "count  62068.000000   62068.000000  \n",
       "mean    2009.486595     145.391975  \n",
       "std        5.730009    1581.427984  \n",
       "min     2000.000000       0.020000  \n",
       "25%     2005.000000      82.340000  \n",
       "50%     2010.000000      98.220000  \n",
       "75%     2014.000000     110.440000  \n",
       "max     2019.000000  179970.360000  "
      ]
     },
     "execution_count": 8,
     "metadata": {},
     "output_type": "execute_result"
    }
   ],
   "source": [
    "df.describe()"
   ]
  },
  {
   "cell_type": "code",
   "execution_count": 9,
   "metadata": {},
   "outputs": [],
   "source": [
    "df_temp = df[['Area', 'Domain', 'Item', 'Value', 'Unit', 'Year']]"
   ]
  },
  {
   "cell_type": "code",
   "execution_count": 10,
   "metadata": {},
   "outputs": [
    {
     "data": {
      "text/html": [
       "<div>\n",
       "<style scoped>\n",
       "    .dataframe tbody tr th:only-of-type {\n",
       "        vertical-align: middle;\n",
       "    }\n",
       "\n",
       "    .dataframe tbody tr th {\n",
       "        vertical-align: top;\n",
       "    }\n",
       "\n",
       "    .dataframe thead th {\n",
       "        text-align: right;\n",
       "    }\n",
       "</style>\n",
       "<table border=\"1\" class=\"dataframe\">\n",
       "  <thead>\n",
       "    <tr style=\"text-align: right;\">\n",
       "      <th></th>\n",
       "      <th>Area</th>\n",
       "      <th>Domain</th>\n",
       "      <th>Item</th>\n",
       "      <th>Value</th>\n",
       "      <th>Unit</th>\n",
       "      <th>Year</th>\n",
       "    </tr>\n",
       "  </thead>\n",
       "  <tbody>\n",
       "    <tr>\n",
       "      <th>0</th>\n",
       "      <td>Australia</td>\n",
       "      <td>Production Indices</td>\n",
       "      <td>Almonds, with shell</td>\n",
       "      <td>15.27</td>\n",
       "      <td>index</td>\n",
       "      <td>2000</td>\n",
       "    </tr>\n",
       "    <tr>\n",
       "      <th>1</th>\n",
       "      <td>Australia</td>\n",
       "      <td>Production Indices</td>\n",
       "      <td>Almonds, with shell</td>\n",
       "      <td>14.62</td>\n",
       "      <td>index</td>\n",
       "      <td>2001</td>\n",
       "    </tr>\n",
       "    <tr>\n",
       "      <th>2</th>\n",
       "      <td>Australia</td>\n",
       "      <td>Production Indices</td>\n",
       "      <td>Almonds, with shell</td>\n",
       "      <td>14.98</td>\n",
       "      <td>index</td>\n",
       "      <td>2002</td>\n",
       "    </tr>\n",
       "    <tr>\n",
       "      <th>3</th>\n",
       "      <td>Australia</td>\n",
       "      <td>Production Indices</td>\n",
       "      <td>Almonds, with shell</td>\n",
       "      <td>16.14</td>\n",
       "      <td>index</td>\n",
       "      <td>2003</td>\n",
       "    </tr>\n",
       "    <tr>\n",
       "      <th>4</th>\n",
       "      <td>Australia</td>\n",
       "      <td>Production Indices</td>\n",
       "      <td>Almonds, with shell</td>\n",
       "      <td>18.40</td>\n",
       "      <td>index</td>\n",
       "      <td>2004</td>\n",
       "    </tr>\n",
       "  </tbody>\n",
       "</table>\n",
       "</div>"
      ],
      "text/plain": [
       "        Area              Domain                 Item  Value   Unit  Year\n",
       "0  Australia  Production Indices  Almonds, with shell  15.27  index  2000\n",
       "1  Australia  Production Indices  Almonds, with shell  14.62  index  2001\n",
       "2  Australia  Production Indices  Almonds, with shell  14.98  index  2002\n",
       "3  Australia  Production Indices  Almonds, with shell  16.14  index  2003\n",
       "4  Australia  Production Indices  Almonds, with shell  18.40  index  2004"
      ]
     },
     "execution_count": 10,
     "metadata": {},
     "output_type": "execute_result"
    }
   ],
   "source": [
    "df_temp.head()"
   ]
  },
  {
   "cell_type": "markdown",
   "metadata": {},
   "source": [
    "## ASIA"
   ]
  },
  {
   "cell_type": "markdown",
   "metadata": {},
   "source": [
    "### INDIA"
   ]
  },
  {
   "cell_type": "code",
   "execution_count": 19,
   "metadata": {},
   "outputs": [
    {
     "data": {
      "text/html": [
       "<div>\n",
       "<style scoped>\n",
       "    .dataframe tbody tr th:only-of-type {\n",
       "        vertical-align: middle;\n",
       "    }\n",
       "\n",
       "    .dataframe tbody tr th {\n",
       "        vertical-align: top;\n",
       "    }\n",
       "\n",
       "    .dataframe thead th {\n",
       "        text-align: right;\n",
       "    }\n",
       "</style>\n",
       "<table border=\"1\" class=\"dataframe\">\n",
       "  <thead>\n",
       "    <tr style=\"text-align: right;\">\n",
       "      <th></th>\n",
       "      <th>Area</th>\n",
       "      <th>Domain</th>\n",
       "      <th>Item</th>\n",
       "      <th>Value</th>\n",
       "      <th>Unit</th>\n",
       "      <th>Year</th>\n",
       "    </tr>\n",
       "  </thead>\n",
       "  <tbody>\n",
       "    <tr>\n",
       "      <th>26592</th>\n",
       "      <td>India</td>\n",
       "      <td>Production Indices</td>\n",
       "      <td>Potatoes</td>\n",
       "      <td>54.42</td>\n",
       "      <td>index</td>\n",
       "      <td>2000</td>\n",
       "    </tr>\n",
       "    <tr>\n",
       "      <th>26593</th>\n",
       "      <td>India</td>\n",
       "      <td>Production Indices</td>\n",
       "      <td>Potatoes</td>\n",
       "      <td>48.42</td>\n",
       "      <td>index</td>\n",
       "      <td>2001</td>\n",
       "    </tr>\n",
       "    <tr>\n",
       "      <th>26594</th>\n",
       "      <td>India</td>\n",
       "      <td>Production Indices</td>\n",
       "      <td>Potatoes</td>\n",
       "      <td>53.23</td>\n",
       "      <td>index</td>\n",
       "      <td>2002</td>\n",
       "    </tr>\n",
       "    <tr>\n",
       "      <th>26595</th>\n",
       "      <td>India</td>\n",
       "      <td>Production Indices</td>\n",
       "      <td>Potatoes</td>\n",
       "      <td>50.42</td>\n",
       "      <td>index</td>\n",
       "      <td>2003</td>\n",
       "    </tr>\n",
       "    <tr>\n",
       "      <th>26596</th>\n",
       "      <td>India</td>\n",
       "      <td>Production Indices</td>\n",
       "      <td>Potatoes</td>\n",
       "      <td>60.79</td>\n",
       "      <td>index</td>\n",
       "      <td>2004</td>\n",
       "    </tr>\n",
       "  </tbody>\n",
       "</table>\n",
       "</div>"
      ],
      "text/plain": [
       "        Area              Domain      Item  Value   Unit  Year\n",
       "26592  India  Production Indices  Potatoes  54.42  index  2000\n",
       "26593  India  Production Indices  Potatoes  48.42  index  2001\n",
       "26594  India  Production Indices  Potatoes  53.23  index  2002\n",
       "26595  India  Production Indices  Potatoes  50.42  index  2003\n",
       "26596  India  Production Indices  Potatoes  60.79  index  2004"
      ]
     },
     "execution_count": 19,
     "metadata": {},
     "output_type": "execute_result"
    }
   ],
   "source": [
    "df_india = df_temp[(df_temp['Area'] == 'India') & (df_temp['Item'] == 'Potatoes')]\n",
    "df_india.head()"
   ]
  },
  {
   "cell_type": "code",
   "execution_count": 20,
   "metadata": {},
   "outputs": [
    {
     "data": {
      "image/png": "[encoded data removed]",
      "text/plain": [
       "<Figure size 1440x720 with 1 Axes>"
      ]
     },
     "metadata": {
      "needs_background": "light"
     },
     "output_type": "display_data"
    }
   ],
   "source": [
    "x_india = df_india['Year']\n",
    "y_india = df_india['Value']\n",
    "\n",
    "plt.figure(figsize=(20,10))\n",
    "plt.scatter(x_india, y_india)\n",
    "\n",
    "plt.show()"
   ]
  },
  {
   "cell_type": "markdown",
   "metadata": {},
   "source": [
    "### CHINA"
   ]
  },
  {
   "cell_type": "code",
   "execution_count": 21,
   "metadata": {},
   "outputs": [
    {
     "data": {
      "text/html": [
       "<div>\n",
       "<style scoped>\n",
       "    .dataframe tbody tr th:only-of-type {\n",
       "        vertical-align: middle;\n",
       "    }\n",
       "\n",
       "    .dataframe tbody tr th {\n",
       "        vertical-align: top;\n",
       "    }\n",
       "\n",
       "    .dataframe thead th {\n",
       "        text-align: right;\n",
       "    }\n",
       "</style>\n",
       "<table border=\"1\" class=\"dataframe\">\n",
       "  <thead>\n",
       "    <tr style=\"text-align: right;\">\n",
       "      <th></th>\n",
       "      <th>Area</th>\n",
       "      <th>Domain</th>\n",
       "      <th>Item</th>\n",
       "      <th>Value</th>\n",
       "      <th>Unit</th>\n",
       "      <th>Year</th>\n",
       "    </tr>\n",
       "  </thead>\n",
       "  <tbody>\n",
       "    <tr>\n",
       "      <th>14794</th>\n",
       "      <td>China</td>\n",
       "      <td>Production Indices</td>\n",
       "      <td>Potatoes</td>\n",
       "      <td>78.92</td>\n",
       "      <td>index</td>\n",
       "      <td>2000</td>\n",
       "    </tr>\n",
       "    <tr>\n",
       "      <th>14795</th>\n",
       "      <td>China</td>\n",
       "      <td>Production Indices</td>\n",
       "      <td>Potatoes</td>\n",
       "      <td>76.87</td>\n",
       "      <td>index</td>\n",
       "      <td>2001</td>\n",
       "    </tr>\n",
       "    <tr>\n",
       "      <th>14796</th>\n",
       "      <td>China</td>\n",
       "      <td>Production Indices</td>\n",
       "      <td>Potatoes</td>\n",
       "      <td>83.57</td>\n",
       "      <td>index</td>\n",
       "      <td>2002</td>\n",
       "    </tr>\n",
       "    <tr>\n",
       "      <th>14797</th>\n",
       "      <td>China</td>\n",
       "      <td>Production Indices</td>\n",
       "      <td>Potatoes</td>\n",
       "      <td>81.09</td>\n",
       "      <td>index</td>\n",
       "      <td>2003</td>\n",
       "    </tr>\n",
       "    <tr>\n",
       "      <th>14798</th>\n",
       "      <td>China</td>\n",
       "      <td>Production Indices</td>\n",
       "      <td>Potatoes</td>\n",
       "      <td>85.97</td>\n",
       "      <td>index</td>\n",
       "      <td>2004</td>\n",
       "    </tr>\n",
       "  </tbody>\n",
       "</table>\n",
       "</div>"
      ],
      "text/plain": [
       "        Area              Domain      Item  Value   Unit  Year\n",
       "14794  China  Production Indices  Potatoes  78.92  index  2000\n",
       "14795  China  Production Indices  Potatoes  76.87  index  2001\n",
       "14796  China  Production Indices  Potatoes  83.57  index  2002\n",
       "14797  China  Production Indices  Potatoes  81.09  index  2003\n",
       "14798  China  Production Indices  Potatoes  85.97  index  2004"
      ]
     },
     "execution_count": 21,
     "metadata": {},
     "output_type": "execute_result"
    }
   ],
   "source": [
    "df_china = df_temp[(df_temp['Area'] == 'China') & (df_temp['Item'] == 'Potatoes')]\n",
    "df_china.head()"
   ]
  },
  {
   "cell_type": "code",
   "execution_count": 22,
   "metadata": {},
   "outputs": [
    {
     "data": {
      "image/png": "[encoded data removed]",
      "text/plain": [
       "<Figure size 1440x720 with 1 Axes>"
      ]
     },
     "metadata": {
      "needs_background": "light"
     },
     "output_type": "display_data"
    }
   ],
   "source": [
    "x_china = df_china['Year']\n",
    "y_china = df_china['Value']\n",
    "\n",
    "plt.figure(figsize=(20,10))\n",
    "plt.scatter(x_china, y_china)\n",
    "\n",
    "plt.show()"
   ]
  },
  {
   "cell_type": "markdown",
   "metadata": {},
   "source": [
    "### JAPAN"
   ]
  },
  {
   "cell_type": "code",
   "execution_count": 23,
   "metadata": {},
   "outputs": [
    {
     "data": {
      "text/html": [
       "<div>\n",
       "<style scoped>\n",
       "    .dataframe tbody tr th:only-of-type {\n",
       "        vertical-align: middle;\n",
       "    }\n",
       "\n",
       "    .dataframe tbody tr th {\n",
       "        vertical-align: top;\n",
       "    }\n",
       "\n",
       "    .dataframe thead th {\n",
       "        text-align: right;\n",
       "    }\n",
       "</style>\n",
       "<table border=\"1\" class=\"dataframe\">\n",
       "  <thead>\n",
       "    <tr style=\"text-align: right;\">\n",
       "      <th></th>\n",
       "      <th>Area</th>\n",
       "      <th>Domain</th>\n",
       "      <th>Item</th>\n",
       "      <th>Value</th>\n",
       "      <th>Unit</th>\n",
       "      <th>Year</th>\n",
       "    </tr>\n",
       "  </thead>\n",
       "  <tbody>\n",
       "    <tr>\n",
       "      <th>30072</th>\n",
       "      <td>Japan</td>\n",
       "      <td>Production Indices</td>\n",
       "      <td>Potatoes</td>\n",
       "      <td>124.04</td>\n",
       "      <td>index</td>\n",
       "      <td>2000</td>\n",
       "    </tr>\n",
       "    <tr>\n",
       "      <th>30073</th>\n",
       "      <td>Japan</td>\n",
       "      <td>Production Indices</td>\n",
       "      <td>Potatoes</td>\n",
       "      <td>126.65</td>\n",
       "      <td>index</td>\n",
       "      <td>2001</td>\n",
       "    </tr>\n",
       "    <tr>\n",
       "      <th>30074</th>\n",
       "      <td>Japan</td>\n",
       "      <td>Production Indices</td>\n",
       "      <td>Potatoes</td>\n",
       "      <td>131.57</td>\n",
       "      <td>index</td>\n",
       "      <td>2002</td>\n",
       "    </tr>\n",
       "    <tr>\n",
       "      <th>30075</th>\n",
       "      <td>Japan</td>\n",
       "      <td>Production Indices</td>\n",
       "      <td>Potatoes</td>\n",
       "      <td>125.80</td>\n",
       "      <td>index</td>\n",
       "      <td>2003</td>\n",
       "    </tr>\n",
       "    <tr>\n",
       "      <th>30076</th>\n",
       "      <td>Japan</td>\n",
       "      <td>Production Indices</td>\n",
       "      <td>Potatoes</td>\n",
       "      <td>123.44</td>\n",
       "      <td>index</td>\n",
       "      <td>2004</td>\n",
       "    </tr>\n",
       "  </tbody>\n",
       "</table>\n",
       "</div>"
      ],
      "text/plain": [
       "        Area              Domain      Item   Value   Unit  Year\n",
       "30072  Japan  Production Indices  Potatoes  124.04  index  2000\n",
       "30073  Japan  Production Indices  Potatoes  126.65  index  2001\n",
       "30074  Japan  Production Indices  Potatoes  131.57  index  2002\n",
       "30075  Japan  Production Indices  Potatoes  125.80  index  2003\n",
       "30076  Japan  Production Indices  Potatoes  123.44  index  2004"
      ]
     },
     "execution_count": 23,
     "metadata": {},
     "output_type": "execute_result"
    }
   ],
   "source": [
    "df_japan = df_temp[(df_temp['Area'] == 'Japan') & (df_temp['Item'] == 'Potatoes')]\n",
    "df_japan.head()"
   ]
  },
  {
   "cell_type": "code",
   "execution_count": 24,
   "metadata": {},
   "outputs": [
    {
     "data": {
      "image/png": "[encoded data removed]",
      "text/plain": [
       "<Figure size 1440x720 with 1 Axes>"
      ]
     },
     "metadata": {
      "needs_background": "light"
     },
     "output_type": "display_data"
    }
   ],
   "source": [
    "x_japan = df_japan['Year']\n",
    "y_japan = df_japan['Value']\n",
    "\n",
    "plt.figure(figsize=(20,10))\n",
    "plt.scatter(x_japan, y_japan)\n",
    "\n",
    "plt.show()"
   ]
  },
  {
   "cell_type": "markdown",
   "metadata": {},
   "source": [
    "### RUSSIA"
   ]
  },
  {
   "cell_type": "code",
   "execution_count": 27,
   "metadata": {},
   "outputs": [
    {
     "data": {
      "text/html": [
       "<div>\n",
       "<style scoped>\n",
       "    .dataframe tbody tr th:only-of-type {\n",
       "        vertical-align: middle;\n",
       "    }\n",
       "\n",
       "    .dataframe tbody tr th {\n",
       "        vertical-align: top;\n",
       "    }\n",
       "\n",
       "    .dataframe thead th {\n",
       "        text-align: right;\n",
       "    }\n",
       "</style>\n",
       "<table border=\"1\" class=\"dataframe\">\n",
       "  <thead>\n",
       "    <tr style=\"text-align: right;\">\n",
       "      <th></th>\n",
       "      <th>Area</th>\n",
       "      <th>Domain</th>\n",
       "      <th>Item</th>\n",
       "      <th>Value</th>\n",
       "      <th>Unit</th>\n",
       "      <th>Year</th>\n",
       "    </tr>\n",
       "  </thead>\n",
       "  <tbody>\n",
       "    <tr>\n",
       "      <th>46402</th>\n",
       "      <td>Russian Federation</td>\n",
       "      <td>Production Indices</td>\n",
       "      <td>Potatoes</td>\n",
       "      <td>100.89</td>\n",
       "      <td>index</td>\n",
       "      <td>2000</td>\n",
       "    </tr>\n",
       "    <tr>\n",
       "      <th>46403</th>\n",
       "      <td>Russian Federation</td>\n",
       "      <td>Production Indices</td>\n",
       "      <td>Potatoes</td>\n",
       "      <td>101.01</td>\n",
       "      <td>index</td>\n",
       "      <td>2001</td>\n",
       "    </tr>\n",
       "    <tr>\n",
       "      <th>46404</th>\n",
       "      <td>Russian Federation</td>\n",
       "      <td>Production Indices</td>\n",
       "      <td>Potatoes</td>\n",
       "      <td>92.19</td>\n",
       "      <td>index</td>\n",
       "      <td>2002</td>\n",
       "    </tr>\n",
       "    <tr>\n",
       "      <th>46405</th>\n",
       "      <td>Russian Federation</td>\n",
       "      <td>Production Indices</td>\n",
       "      <td>Potatoes</td>\n",
       "      <td>100.53</td>\n",
       "      <td>index</td>\n",
       "      <td>2003</td>\n",
       "    </tr>\n",
       "    <tr>\n",
       "      <th>46406</th>\n",
       "      <td>Russian Federation</td>\n",
       "      <td>Production Indices</td>\n",
       "      <td>Potatoes</td>\n",
       "      <td>95.46</td>\n",
       "      <td>index</td>\n",
       "      <td>2004</td>\n",
       "    </tr>\n",
       "  </tbody>\n",
       "</table>\n",
       "</div>"
      ],
      "text/plain": [
       "                     Area              Domain      Item   Value   Unit  Year\n",
       "46402  Russian Federation  Production Indices  Potatoes  100.89  index  2000\n",
       "46403  Russian Federation  Production Indices  Potatoes  101.01  index  2001\n",
       "46404  Russian Federation  Production Indices  Potatoes   92.19  index  2002\n",
       "46405  Russian Federation  Production Indices  Potatoes  100.53  index  2003\n",
       "46406  Russian Federation  Production Indices  Potatoes   95.46  index  2004"
      ]
     },
     "execution_count": 27,
     "metadata": {},
     "output_type": "execute_result"
    }
   ],
   "source": [
    "df_russia = df_temp[(df_temp['Area'] == 'Russian Federation') & (df_temp['Item'] == 'Potatoes')]\n",
    "df_russia.head()"
   ]
  },
  {
   "cell_type": "code",
   "execution_count": 28,
   "metadata": {},
   "outputs": [
    {
     "data": {
      "image/png": "[encoded data removed]",
      "text/plain": [
       "<Figure size 1440x720 with 1 Axes>"
      ]
     },
     "metadata": {
      "needs_background": "light"
     },
     "output_type": "display_data"
    }
   ],
   "source": [
    "x_russia = df_russia['Year']\n",
    "y_russia = df_russia['Value']\n",
    "\n",
    "plt.figure(figsize=(20,10))\n",
    "plt.scatter(x_russia, y_russia)\n",
    "\n",
    "plt.show()"
   ]
  },
  {
   "cell_type": "markdown",
   "metadata": {},
   "source": [
    "## AMERICA"
   ]
  },
  {
   "cell_type": "markdown",
   "metadata": {},
   "source": [
    "## Brazil Data Analysis Potatoes"
   ]
  },
  {
   "cell_type": "code",
   "execution_count": 17,
   "metadata": {},
   "outputs": [
    {
     "data": {
      "text/html": [
       "<div>\n",
       "<style scoped>\n",
       "    .dataframe tbody tr th:only-of-type {\n",
       "        vertical-align: middle;\n",
       "    }\n",
       "\n",
       "    .dataframe tbody tr th {\n",
       "        vertical-align: top;\n",
       "    }\n",
       "\n",
       "    .dataframe thead th {\n",
       "        text-align: right;\n",
       "    }\n",
       "</style>\n",
       "<table border=\"1\" class=\"dataframe\">\n",
       "  <thead>\n",
       "    <tr style=\"text-align: right;\">\n",
       "      <th></th>\n",
       "      <th>Area</th>\n",
       "      <th>Domain</th>\n",
       "      <th>Item</th>\n",
       "      <th>Value</th>\n",
       "      <th>Unit</th>\n",
       "      <th>Year</th>\n",
       "    </tr>\n",
       "  </thead>\n",
       "  <tbody>\n",
       "    <tr>\n",
       "      <th>6186</th>\n",
       "      <td>Brazil</td>\n",
       "      <td>Production Indices</td>\n",
       "      <td>Potatoes</td>\n",
       "      <td>68.55</td>\n",
       "      <td>index</td>\n",
       "      <td>2000</td>\n",
       "    </tr>\n",
       "    <tr>\n",
       "      <th>6187</th>\n",
       "      <td>Brazil</td>\n",
       "      <td>Production Indices</td>\n",
       "      <td>Potatoes</td>\n",
       "      <td>74.91</td>\n",
       "      <td>index</td>\n",
       "      <td>2001</td>\n",
       "    </tr>\n",
       "    <tr>\n",
       "      <th>6188</th>\n",
       "      <td>Brazil</td>\n",
       "      <td>Production Indices</td>\n",
       "      <td>Potatoes</td>\n",
       "      <td>82.21</td>\n",
       "      <td>index</td>\n",
       "      <td>2002</td>\n",
       "    </tr>\n",
       "    <tr>\n",
       "      <th>6189</th>\n",
       "      <td>Brazil</td>\n",
       "      <td>Production Indices</td>\n",
       "      <td>Potatoes</td>\n",
       "      <td>81.23</td>\n",
       "      <td>index</td>\n",
       "      <td>2003</td>\n",
       "    </tr>\n",
       "    <tr>\n",
       "      <th>6190</th>\n",
       "      <td>Brazil</td>\n",
       "      <td>Production Indices</td>\n",
       "      <td>Potatoes</td>\n",
       "      <td>80.12</td>\n",
       "      <td>index</td>\n",
       "      <td>2004</td>\n",
       "    </tr>\n",
       "  </tbody>\n",
       "</table>\n",
       "</div>"
      ],
      "text/plain": [
       "        Area              Domain      Item  Value   Unit  Year\n",
       "6186  Brazil  Production Indices  Potatoes  68.55  index  2000\n",
       "6187  Brazil  Production Indices  Potatoes  74.91  index  2001\n",
       "6188  Brazil  Production Indices  Potatoes  82.21  index  2002\n",
       "6189  Brazil  Production Indices  Potatoes  81.23  index  2003\n",
       "6190  Brazil  Production Indices  Potatoes  80.12  index  2004"
      ]
     },
     "execution_count": 17,
     "metadata": {},
     "output_type": "execute_result"
    }
   ],
   "source": [
    "df_brazil = df_temp[(df_temp['Area'] == 'Brazil') & (df_temp['Item'] == 'Potatoes')]\n",
    "df_brazil.head()"
   ]
  },
  {
   "cell_type": "code",
   "execution_count": 18,
   "metadata": {},
   "outputs": [
    {
     "data": {
      "image/png": "[encoded data removed]",
      "text/plain": [
       "<Figure size 1440x720 with 1 Axes>"
      ]
     },
     "metadata": {
      "needs_background": "light"
     },
     "output_type": "display_data"
    }
   ],
   "source": [
    "x_brazil = df_brazil['Year']\n",
    "y_brazil = df_brazil['Value']\n",
    "\n",
    "plt.figure(figsize=(20,10))\n",
    "plt.scatter(x_brazil, y_brazil)\n",
    "\n",
    "plt.show()"
   ]
  },
  {
   "cell_type": "markdown",
   "metadata": {},
   "source": [
    "## USA Data Analysis Potatoes"
   ]
  },
  {
   "cell_type": "code",
   "execution_count": 29,
   "metadata": {},
   "outputs": [
    {
     "data": {
      "text/html": [
       "<div>\n",
       "<style scoped>\n",
       "    .dataframe tbody tr th:only-of-type {\n",
       "        vertical-align: middle;\n",
       "    }\n",
       "\n",
       "    .dataframe tbody tr th {\n",
       "        vertical-align: top;\n",
       "    }\n",
       "\n",
       "    .dataframe thead th {\n",
       "        text-align: right;\n",
       "    }\n",
       "</style>\n",
       "<table border=\"1\" class=\"dataframe\">\n",
       "  <thead>\n",
       "    <tr style=\"text-align: right;\">\n",
       "      <th></th>\n",
       "      <th>Area</th>\n",
       "      <th>Domain</th>\n",
       "      <th>Item</th>\n",
       "      <th>Value</th>\n",
       "      <th>Unit</th>\n",
       "      <th>Year</th>\n",
       "    </tr>\n",
       "  </thead>\n",
       "  <tbody>\n",
       "    <tr>\n",
       "      <th>60836</th>\n",
       "      <td>United States of America</td>\n",
       "      <td>Production Indices</td>\n",
       "      <td>Potatoes</td>\n",
       "      <td>115.52</td>\n",
       "      <td>index</td>\n",
       "      <td>2000</td>\n",
       "    </tr>\n",
       "    <tr>\n",
       "      <th>60837</th>\n",
       "      <td>United States of America</td>\n",
       "      <td>Production Indices</td>\n",
       "      <td>Potatoes</td>\n",
       "      <td>98.45</td>\n",
       "      <td>index</td>\n",
       "      <td>2001</td>\n",
       "    </tr>\n",
       "    <tr>\n",
       "      <th>60838</th>\n",
       "      <td>United States of America</td>\n",
       "      <td>Production Indices</td>\n",
       "      <td>Potatoes</td>\n",
       "      <td>103.06</td>\n",
       "      <td>index</td>\n",
       "      <td>2002</td>\n",
       "    </tr>\n",
       "    <tr>\n",
       "      <th>60839</th>\n",
       "      <td>United States of America</td>\n",
       "      <td>Production Indices</td>\n",
       "      <td>Potatoes</td>\n",
       "      <td>103.07</td>\n",
       "      <td>index</td>\n",
       "      <td>2003</td>\n",
       "    </tr>\n",
       "    <tr>\n",
       "      <th>60840</th>\n",
       "      <td>United States of America</td>\n",
       "      <td>Production Indices</td>\n",
       "      <td>Potatoes</td>\n",
       "      <td>102.53</td>\n",
       "      <td>index</td>\n",
       "      <td>2004</td>\n",
       "    </tr>\n",
       "  </tbody>\n",
       "</table>\n",
       "</div>"
      ],
      "text/plain": [
       "                           Area              Domain      Item   Value   Unit  \\\n",
       "60836  United States of America  Production Indices  Potatoes  115.52  index   \n",
       "60837  United States of America  Production Indices  Potatoes   98.45  index   \n",
       "60838  United States of America  Production Indices  Potatoes  103.06  index   \n",
       "60839  United States of America  Production Indices  Potatoes  103.07  index   \n",
       "60840  United States of America  Production Indices  Potatoes  102.53  index   \n",
       "\n",
       "       Year  \n",
       "60836  2000  \n",
       "60837  2001  \n",
       "60838  2002  \n",
       "60839  2003  \n",
       "60840  2004  "
      ]
     },
     "execution_count": 29,
     "metadata": {},
     "output_type": "execute_result"
    }
   ],
   "source": [
    "df_usa = df_temp[(df_temp['Area'] == 'United States of America') & (df_temp['Item'] == 'Potatoes')]\n",
    "df_usa.head()"
   ]
  },
  {
   "cell_type": "code",
   "execution_count": 30,
   "metadata": {},
   "outputs": [
    {
     "data": {
      "image/png": "[encoded data removed]",
      "text/plain": [
       "<Figure size 1440x720 with 1 Axes>"
      ]
     },
     "metadata": {
      "needs_background": "light"
     },
     "output_type": "display_data"
    }
   ],
   "source": [
    "x_usa = df_usa['Year']\n",
    "y_usa = df_usa['Value']\n",
    "\n",
    "plt.figure(figsize=(20,10))\n",
    "plt.scatter(x_usa, y_usa)\n",
    "\n",
    "plt.show()"
   ]
  },
  {
   "cell_type": "markdown",
   "metadata": {},
   "source": [
    "## EUROPE"
   ]
  },
  {
   "cell_type": "markdown",
   "metadata": {},
   "source": [
    "### ROMANIA"
   ]
  },
  {
   "cell_type": "code",
   "execution_count": 31,
   "metadata": {},
   "outputs": [
    {
     "data": {
      "text/html": [
       "<div>\n",
       "<style scoped>\n",
       "    .dataframe tbody tr th:only-of-type {\n",
       "        vertical-align: middle;\n",
       "    }\n",
       "\n",
       "    .dataframe tbody tr th {\n",
       "        vertical-align: top;\n",
       "    }\n",
       "\n",
       "    .dataframe thead th {\n",
       "        text-align: right;\n",
       "    }\n",
       "</style>\n",
       "<table border=\"1\" class=\"dataframe\">\n",
       "  <thead>\n",
       "    <tr style=\"text-align: right;\">\n",
       "      <th></th>\n",
       "      <th>Area</th>\n",
       "      <th>Domain</th>\n",
       "      <th>Item</th>\n",
       "      <th>Value</th>\n",
       "      <th>Unit</th>\n",
       "      <th>Year</th>\n",
       "    </tr>\n",
       "  </thead>\n",
       "  <tbody>\n",
       "    <tr>\n",
       "      <th>42966</th>\n",
       "      <td>Romania</td>\n",
       "      <td>Production Indices</td>\n",
       "      <td>Potatoes</td>\n",
       "      <td>116.84</td>\n",
       "      <td>index</td>\n",
       "      <td>2000</td>\n",
       "    </tr>\n",
       "    <tr>\n",
       "      <th>42967</th>\n",
       "      <td>Romania</td>\n",
       "      <td>Production Indices</td>\n",
       "      <td>Potatoes</td>\n",
       "      <td>134.60</td>\n",
       "      <td>index</td>\n",
       "      <td>2001</td>\n",
       "    </tr>\n",
       "    <tr>\n",
       "      <th>42968</th>\n",
       "      <td>Romania</td>\n",
       "      <td>Production Indices</td>\n",
       "      <td>Potatoes</td>\n",
       "      <td>137.31</td>\n",
       "      <td>index</td>\n",
       "      <td>2002</td>\n",
       "    </tr>\n",
       "    <tr>\n",
       "      <th>42969</th>\n",
       "      <td>Romania</td>\n",
       "      <td>Production Indices</td>\n",
       "      <td>Potatoes</td>\n",
       "      <td>132.92</td>\n",
       "      <td>index</td>\n",
       "      <td>2003</td>\n",
       "    </tr>\n",
       "    <tr>\n",
       "      <th>42970</th>\n",
       "      <td>Romania</td>\n",
       "      <td>Production Indices</td>\n",
       "      <td>Potatoes</td>\n",
       "      <td>142.45</td>\n",
       "      <td>index</td>\n",
       "      <td>2004</td>\n",
       "    </tr>\n",
       "  </tbody>\n",
       "</table>\n",
       "</div>"
      ],
      "text/plain": [
       "          Area              Domain      Item   Value   Unit  Year\n",
       "42966  Romania  Production Indices  Potatoes  116.84  index  2000\n",
       "42967  Romania  Production Indices  Potatoes  134.60  index  2001\n",
       "42968  Romania  Production Indices  Potatoes  137.31  index  2002\n",
       "42969  Romania  Production Indices  Potatoes  132.92  index  2003\n",
       "42970  Romania  Production Indices  Potatoes  142.45  index  2004"
      ]
     },
     "execution_count": 31,
     "metadata": {},
     "output_type": "execute_result"
    }
   ],
   "source": [
    "df_romania = df_temp[(df_temp['Area'] == 'Romania') & (df_temp['Item'] == 'Potatoes')]\n",
    "df_romania.head()"
   ]
  },
  {
   "cell_type": "code",
   "execution_count": 32,
   "metadata": {},
   "outputs": [
    {
     "data": {
      "image/png": "[encoded data removed]",
      "text/plain": [
       "<Figure size 1440x720 with 1 Axes>"
      ]
     },
     "metadata": {
      "needs_background": "light"
     },
     "output_type": "display_data"
    }
   ],
   "source": [
    "x_romania = df_romania['Year']\n",
    "y_romania = df_romania['Value']\n",
    "\n",
    "plt.figure(figsize=(20,10))\n",
    "plt.scatter(x_romania, y_romania)\n",
    "\n",
    "plt.show()"
   ]
  },
  {
   "cell_type": "markdown",
   "metadata": {},
   "source": [
    "### FRANCE"
   ]
  },
  {
   "cell_type": "code",
   "execution_count": 33,
   "metadata": {},
   "outputs": [
    {
     "data": {
      "text/html": [
       "<div>\n",
       "<style scoped>\n",
       "    .dataframe tbody tr th:only-of-type {\n",
       "        vertical-align: middle;\n",
       "    }\n",
       "\n",
       "    .dataframe tbody tr th {\n",
       "        vertical-align: top;\n",
       "    }\n",
       "\n",
       "    .dataframe thead th {\n",
       "        text-align: right;\n",
       "    }\n",
       "</style>\n",
       "<table border=\"1\" class=\"dataframe\">\n",
       "  <thead>\n",
       "    <tr style=\"text-align: right;\">\n",
       "      <th></th>\n",
       "      <th>Area</th>\n",
       "      <th>Domain</th>\n",
       "      <th>Item</th>\n",
       "      <th>Value</th>\n",
       "      <th>Unit</th>\n",
       "      <th>Year</th>\n",
       "    </tr>\n",
       "  </thead>\n",
       "  <tbody>\n",
       "    <tr>\n",
       "      <th>19570</th>\n",
       "      <td>France</td>\n",
       "      <td>Production Indices</td>\n",
       "      <td>Potatoes</td>\n",
       "      <td>87.19</td>\n",
       "      <td>index</td>\n",
       "      <td>2000</td>\n",
       "    </tr>\n",
       "    <tr>\n",
       "      <th>19571</th>\n",
       "      <td>France</td>\n",
       "      <td>Production Indices</td>\n",
       "      <td>Potatoes</td>\n",
       "      <td>81.90</td>\n",
       "      <td>index</td>\n",
       "      <td>2001</td>\n",
       "    </tr>\n",
       "    <tr>\n",
       "      <th>19572</th>\n",
       "      <td>France</td>\n",
       "      <td>Production Indices</td>\n",
       "      <td>Potatoes</td>\n",
       "      <td>93.06</td>\n",
       "      <td>index</td>\n",
       "      <td>2002</td>\n",
       "    </tr>\n",
       "    <tr>\n",
       "      <th>19573</th>\n",
       "      <td>France</td>\n",
       "      <td>Production Indices</td>\n",
       "      <td>Potatoes</td>\n",
       "      <td>86.04</td>\n",
       "      <td>index</td>\n",
       "      <td>2003</td>\n",
       "    </tr>\n",
       "    <tr>\n",
       "      <th>19574</th>\n",
       "      <td>France</td>\n",
       "      <td>Production Indices</td>\n",
       "      <td>Potatoes</td>\n",
       "      <td>98.22</td>\n",
       "      <td>index</td>\n",
       "      <td>2004</td>\n",
       "    </tr>\n",
       "  </tbody>\n",
       "</table>\n",
       "</div>"
      ],
      "text/plain": [
       "         Area              Domain      Item  Value   Unit  Year\n",
       "19570  France  Production Indices  Potatoes  87.19  index  2000\n",
       "19571  France  Production Indices  Potatoes  81.90  index  2001\n",
       "19572  France  Production Indices  Potatoes  93.06  index  2002\n",
       "19573  France  Production Indices  Potatoes  86.04  index  2003\n",
       "19574  France  Production Indices  Potatoes  98.22  index  2004"
      ]
     },
     "execution_count": 33,
     "metadata": {},
     "output_type": "execute_result"
    }
   ],
   "source": [
    "df_france = df_temp[(df_temp['Area'] == 'France') & (df_temp['Item'] == 'Potatoes')]\n",
    "df_france.head()"
   ]
  },
  {
   "cell_type": "code",
   "execution_count": 34,
   "metadata": {},
   "outputs": [
    {
     "data": {
      "image/png": "[encoded data removed]",
      "text/plain": [
       "<Figure size 1440x720 with 1 Axes>"
      ]
     },
     "metadata": {
      "needs_background": "light"
     },
     "output_type": "display_data"
    }
   ],
   "source": [
    "x_france = df_france['Year']\n",
    "y_france = df_france['Value']\n",
    "\n",
    "plt.figure(figsize=(20,10))\n",
    "plt.scatter(x_france, y_france)\n",
    "\n",
    "plt.show()"
   ]
  },
  {
   "cell_type": "markdown",
   "metadata": {},
   "source": [
    "### GERMANY"
   ]
  },
  {
   "cell_type": "code",
   "execution_count": 35,
   "metadata": {},
   "outputs": [
    {
     "data": {
      "text/html": [
       "<div>\n",
       "<style scoped>\n",
       "    .dataframe tbody tr th:only-of-type {\n",
       "        vertical-align: middle;\n",
       "    }\n",
       "\n",
       "    .dataframe tbody tr th {\n",
       "        vertical-align: top;\n",
       "    }\n",
       "\n",
       "    .dataframe thead th {\n",
       "        text-align: right;\n",
       "    }\n",
       "</style>\n",
       "<table border=\"1\" class=\"dataframe\">\n",
       "  <thead>\n",
       "    <tr style=\"text-align: right;\">\n",
       "      <th></th>\n",
       "      <th>Area</th>\n",
       "      <th>Domain</th>\n",
       "      <th>Item</th>\n",
       "      <th>Value</th>\n",
       "      <th>Unit</th>\n",
       "      <th>Year</th>\n",
       "    </tr>\n",
       "  </thead>\n",
       "  <tbody>\n",
       "    <tr>\n",
       "      <th>22718</th>\n",
       "      <td>Germany</td>\n",
       "      <td>Production Indices</td>\n",
       "      <td>Potatoes</td>\n",
       "      <td>120.85</td>\n",
       "      <td>index</td>\n",
       "      <td>2000</td>\n",
       "    </tr>\n",
       "    <tr>\n",
       "      <th>22719</th>\n",
       "      <td>Germany</td>\n",
       "      <td>Production Indices</td>\n",
       "      <td>Potatoes</td>\n",
       "      <td>105.37</td>\n",
       "      <td>index</td>\n",
       "      <td>2001</td>\n",
       "    </tr>\n",
       "    <tr>\n",
       "      <th>22720</th>\n",
       "      <td>Germany</td>\n",
       "      <td>Production Indices</td>\n",
       "      <td>Potatoes</td>\n",
       "      <td>101.81</td>\n",
       "      <td>index</td>\n",
       "      <td>2002</td>\n",
       "    </tr>\n",
       "    <tr>\n",
       "      <th>22721</th>\n",
       "      <td>Germany</td>\n",
       "      <td>Production Indices</td>\n",
       "      <td>Potatoes</td>\n",
       "      <td>90.83</td>\n",
       "      <td>index</td>\n",
       "      <td>2003</td>\n",
       "    </tr>\n",
       "    <tr>\n",
       "      <th>22722</th>\n",
       "      <td>Germany</td>\n",
       "      <td>Production Indices</td>\n",
       "      <td>Potatoes</td>\n",
       "      <td>119.48</td>\n",
       "      <td>index</td>\n",
       "      <td>2004</td>\n",
       "    </tr>\n",
       "  </tbody>\n",
       "</table>\n",
       "</div>"
      ],
      "text/plain": [
       "          Area              Domain      Item   Value   Unit  Year\n",
       "22718  Germany  Production Indices  Potatoes  120.85  index  2000\n",
       "22719  Germany  Production Indices  Potatoes  105.37  index  2001\n",
       "22720  Germany  Production Indices  Potatoes  101.81  index  2002\n",
       "22721  Germany  Production Indices  Potatoes   90.83  index  2003\n",
       "22722  Germany  Production Indices  Potatoes  119.48  index  2004"
      ]
     },
     "execution_count": 35,
     "metadata": {},
     "output_type": "execute_result"
    }
   ],
   "source": [
    "df_germany = df_temp[(df_temp['Area'] == 'Germany') & (df_temp['Item'] == 'Potatoes')]\n",
    "df_germany.head()"
   ]
  },
  {
   "cell_type": "code",
   "execution_count": 36,
   "metadata": {},
   "outputs": [
    {
     "data": {
      "image/png": "[encoded data removed]",
      "text/plain": [
       "<Figure size 1440x720 with 1 Axes>"
      ]
     },
     "metadata": {
      "needs_background": "light"
     },
     "output_type": "display_data"
    }
   ],
   "source": [
    "x_germany = df_germany['Year']\n",
    "y_germany = df_germany['Value']\n",
    "\n",
    "plt.figure(figsize=(20,10))\n",
    "plt.scatter(x_germany, y_germany)\n",
    "\n",
    "plt.show()"
   ]
  },
  {
   "cell_type": "markdown",
   "metadata": {},
   "source": [
    "### SPAIN"
   ]
  },
  {
   "cell_type": "code",
   "execution_count": 37,
   "metadata": {},
   "outputs": [
    {
     "data": {
      "text/html": [
       "<div>\n",
       "<style scoped>\n",
       "    .dataframe tbody tr th:only-of-type {\n",
       "        vertical-align: middle;\n",
       "    }\n",
       "\n",
       "    .dataframe tbody tr th {\n",
       "        vertical-align: top;\n",
       "    }\n",
       "\n",
       "    .dataframe thead th {\n",
       "        text-align: right;\n",
       "    }\n",
       "</style>\n",
       "<table border=\"1\" class=\"dataframe\">\n",
       "  <thead>\n",
       "    <tr style=\"text-align: right;\">\n",
       "      <th></th>\n",
       "      <th>Area</th>\n",
       "      <th>Domain</th>\n",
       "      <th>Item</th>\n",
       "      <th>Value</th>\n",
       "      <th>Unit</th>\n",
       "      <th>Year</th>\n",
       "    </tr>\n",
       "  </thead>\n",
       "  <tbody>\n",
       "    <tr>\n",
       "      <th>54602</th>\n",
       "      <td>Spain</td>\n",
       "      <td>Production Indices</td>\n",
       "      <td>Potatoes</td>\n",
       "      <td>130.53</td>\n",
       "      <td>index</td>\n",
       "      <td>2000</td>\n",
       "    </tr>\n",
       "    <tr>\n",
       "      <th>54603</th>\n",
       "      <td>Spain</td>\n",
       "      <td>Production Indices</td>\n",
       "      <td>Potatoes</td>\n",
       "      <td>126.90</td>\n",
       "      <td>index</td>\n",
       "      <td>2001</td>\n",
       "    </tr>\n",
       "    <tr>\n",
       "      <th>54604</th>\n",
       "      <td>Spain</td>\n",
       "      <td>Production Indices</td>\n",
       "      <td>Potatoes</td>\n",
       "      <td>130.54</td>\n",
       "      <td>index</td>\n",
       "      <td>2002</td>\n",
       "    </tr>\n",
       "    <tr>\n",
       "      <th>54605</th>\n",
       "      <td>Spain</td>\n",
       "      <td>Production Indices</td>\n",
       "      <td>Potatoes</td>\n",
       "      <td>113.01</td>\n",
       "      <td>index</td>\n",
       "      <td>2003</td>\n",
       "    </tr>\n",
       "    <tr>\n",
       "      <th>54606</th>\n",
       "      <td>Spain</td>\n",
       "      <td>Production Indices</td>\n",
       "      <td>Potatoes</td>\n",
       "      <td>117.62</td>\n",
       "      <td>index</td>\n",
       "      <td>2004</td>\n",
       "    </tr>\n",
       "  </tbody>\n",
       "</table>\n",
       "</div>"
      ],
      "text/plain": [
       "        Area              Domain      Item   Value   Unit  Year\n",
       "54602  Spain  Production Indices  Potatoes  130.53  index  2000\n",
       "54603  Spain  Production Indices  Potatoes  126.90  index  2001\n",
       "54604  Spain  Production Indices  Potatoes  130.54  index  2002\n",
       "54605  Spain  Production Indices  Potatoes  113.01  index  2003\n",
       "54606  Spain  Production Indices  Potatoes  117.62  index  2004"
      ]
     },
     "execution_count": 37,
     "metadata": {},
     "output_type": "execute_result"
    }
   ],
   "source": [
    "df_spain = df_temp[(df_temp['Area'] == 'Spain') & (df_temp['Item'] == 'Potatoes')]\n",
    "df_spain.head()"
   ]
  },
  {
   "cell_type": "code",
   "execution_count": 38,
   "metadata": {},
   "outputs": [
    {
     "data": {
      "image/png": "[encoded data removed]",
      "text/plain": [
       "<Figure size 1440x720 with 1 Axes>"
      ]
     },
     "metadata": {
      "needs_background": "light"
     },
     "output_type": "display_data"
    }
   ],
   "source": [
    "x_spain = df_spain['Year']\n",
    "y_spain = df_spain['Value']\n",
    "\n",
    "plt.figure(figsize=(20,10))\n",
    "plt.scatter(x_spain, y_spain)\n",
    "\n",
    "plt.show()"
   ]
  },
  {
   "cell_type": "markdown",
   "metadata": {},
   "source": [
    "### SWEDEN"
   ]
  },
  {
   "cell_type": "code",
   "execution_count": 40,
   "metadata": {},
   "outputs": [
    {
     "data": {
      "text/html": [
       "<div>\n",
       "<style scoped>\n",
       "    .dataframe tbody tr th:only-of-type {\n",
       "        vertical-align: middle;\n",
       "    }\n",
       "\n",
       "    .dataframe tbody tr th {\n",
       "        vertical-align: top;\n",
       "    }\n",
       "\n",
       "    .dataframe thead th {\n",
       "        text-align: right;\n",
       "    }\n",
       "</style>\n",
       "<table border=\"1\" class=\"dataframe\">\n",
       "  <thead>\n",
       "    <tr style=\"text-align: right;\">\n",
       "      <th></th>\n",
       "      <th>Area</th>\n",
       "      <th>Domain</th>\n",
       "      <th>Item</th>\n",
       "      <th>Value</th>\n",
       "      <th>Unit</th>\n",
       "      <th>Year</th>\n",
       "    </tr>\n",
       "  </thead>\n",
       "  <tbody>\n",
       "    <tr>\n",
       "      <th>57192</th>\n",
       "      <td>Sweden</td>\n",
       "      <td>Production Indices</td>\n",
       "      <td>Potatoes</td>\n",
       "      <td>118.22</td>\n",
       "      <td>index</td>\n",
       "      <td>2000</td>\n",
       "    </tr>\n",
       "    <tr>\n",
       "      <th>57193</th>\n",
       "      <td>Sweden</td>\n",
       "      <td>Production Indices</td>\n",
       "      <td>Potatoes</td>\n",
       "      <td>111.58</td>\n",
       "      <td>index</td>\n",
       "      <td>2001</td>\n",
       "    </tr>\n",
       "    <tr>\n",
       "      <th>57194</th>\n",
       "      <td>Sweden</td>\n",
       "      <td>Production Indices</td>\n",
       "      <td>Potatoes</td>\n",
       "      <td>110.19</td>\n",
       "      <td>index</td>\n",
       "      <td>2002</td>\n",
       "    </tr>\n",
       "    <tr>\n",
       "      <th>57195</th>\n",
       "      <td>Sweden</td>\n",
       "      <td>Production Indices</td>\n",
       "      <td>Potatoes</td>\n",
       "      <td>103.39</td>\n",
       "      <td>index</td>\n",
       "      <td>2003</td>\n",
       "    </tr>\n",
       "    <tr>\n",
       "      <th>57196</th>\n",
       "      <td>Sweden</td>\n",
       "      <td>Production Indices</td>\n",
       "      <td>Potatoes</td>\n",
       "      <td>118.10</td>\n",
       "      <td>index</td>\n",
       "      <td>2004</td>\n",
       "    </tr>\n",
       "  </tbody>\n",
       "</table>\n",
       "</div>"
      ],
      "text/plain": [
       "         Area              Domain      Item   Value   Unit  Year\n",
       "57192  Sweden  Production Indices  Potatoes  118.22  index  2000\n",
       "57193  Sweden  Production Indices  Potatoes  111.58  index  2001\n",
       "57194  Sweden  Production Indices  Potatoes  110.19  index  2002\n",
       "57195  Sweden  Production Indices  Potatoes  103.39  index  2003\n",
       "57196  Sweden  Production Indices  Potatoes  118.10  index  2004"
      ]
     },
     "execution_count": 40,
     "metadata": {},
     "output_type": "execute_result"
    }
   ],
   "source": [
    "df_sweden = df_temp[(df_temp['Area'] == 'Sweden') & (df_temp['Item'] == 'Potatoes')]\n",
    "df_sweden.head()"
   ]
  },
  {
   "cell_type": "code",
   "execution_count": 41,
   "metadata": {},
   "outputs": [
    {
     "data": {
      "image/png": "[encoded data removed]",
      "text/plain": [
       "<Figure size 1440x720 with 1 Axes>"
      ]
     },
     "metadata": {
      "needs_background": "light"
     },
     "output_type": "display_data"
    }
   ],
   "source": [
    "x_sweden = df_sweden['Year']\n",
    "y_sweden = df_sweden['Value']\n",
    "\n",
    "plt.figure(figsize=(20,10))\n",
    "plt.scatter(x_sweden, y_sweden)\n",
    "\n",
    "plt.show()"
   ]
  },
  {
   "cell_type": "markdown",
   "metadata": {},
   "source": [
    "### Netherlands"
   ]
  },
  {
   "cell_type": "code",
   "execution_count": 42,
   "metadata": {},
   "outputs": [
    {
     "data": {
      "text/html": [
       "<div>\n",
       "<style scoped>\n",
       "    .dataframe tbody tr th:only-of-type {\n",
       "        vertical-align: middle;\n",
       "    }\n",
       "\n",
       "    .dataframe tbody tr th {\n",
       "        vertical-align: top;\n",
       "    }\n",
       "\n",
       "    .dataframe thead th {\n",
       "        text-align: right;\n",
       "    }\n",
       "</style>\n",
       "<table border=\"1\" class=\"dataframe\">\n",
       "  <thead>\n",
       "    <tr style=\"text-align: right;\">\n",
       "      <th></th>\n",
       "      <th>Area</th>\n",
       "      <th>Domain</th>\n",
       "      <th>Item</th>\n",
       "      <th>Value</th>\n",
       "      <th>Unit</th>\n",
       "      <th>Year</th>\n",
       "    </tr>\n",
       "  </thead>\n",
       "  <tbody>\n",
       "    <tr>\n",
       "      <th>39960</th>\n",
       "      <td>Netherlands</td>\n",
       "      <td>Production Indices</td>\n",
       "      <td>Potatoes</td>\n",
       "      <td>121.66</td>\n",
       "      <td>index</td>\n",
       "      <td>2000</td>\n",
       "    </tr>\n",
       "    <tr>\n",
       "      <th>39961</th>\n",
       "      <td>Netherlands</td>\n",
       "      <td>Production Indices</td>\n",
       "      <td>Potatoes</td>\n",
       "      <td>105.22</td>\n",
       "      <td>index</td>\n",
       "      <td>2001</td>\n",
       "    </tr>\n",
       "    <tr>\n",
       "      <th>39962</th>\n",
       "      <td>Netherlands</td>\n",
       "      <td>Production Indices</td>\n",
       "      <td>Potatoes</td>\n",
       "      <td>108.88</td>\n",
       "      <td>index</td>\n",
       "      <td>2002</td>\n",
       "    </tr>\n",
       "    <tr>\n",
       "      <th>39963</th>\n",
       "      <td>Netherlands</td>\n",
       "      <td>Production Indices</td>\n",
       "      <td>Potatoes</td>\n",
       "      <td>95.66</td>\n",
       "      <td>index</td>\n",
       "      <td>2003</td>\n",
       "    </tr>\n",
       "    <tr>\n",
       "      <th>39964</th>\n",
       "      <td>Netherlands</td>\n",
       "      <td>Production Indices</td>\n",
       "      <td>Potatoes</td>\n",
       "      <td>110.73</td>\n",
       "      <td>index</td>\n",
       "      <td>2004</td>\n",
       "    </tr>\n",
       "  </tbody>\n",
       "</table>\n",
       "</div>"
      ],
      "text/plain": [
       "              Area              Domain      Item   Value   Unit  Year\n",
       "39960  Netherlands  Production Indices  Potatoes  121.66  index  2000\n",
       "39961  Netherlands  Production Indices  Potatoes  105.22  index  2001\n",
       "39962  Netherlands  Production Indices  Potatoes  108.88  index  2002\n",
       "39963  Netherlands  Production Indices  Potatoes   95.66  index  2003\n",
       "39964  Netherlands  Production Indices  Potatoes  110.73  index  2004"
      ]
     },
     "execution_count": 42,
     "metadata": {},
     "output_type": "execute_result"
    }
   ],
   "source": [
    "df_netherlands = df_temp[(df_temp['Area'] == 'Netherlands') & (df_temp['Item'] == 'Potatoes')]\n",
    "df_netherlands.head()"
   ]
  },
  {
   "cell_type": "code",
   "execution_count": 43,
   "metadata": {},
   "outputs": [
    {
     "data": {
      "image/png": "[encoded data removed]",
      "text/plain": [
       "<Figure size 1440x720 with 1 Axes>"
      ]
     },
     "metadata": {
      "needs_background": "light"
     },
     "output_type": "display_data"
    }
   ],
   "source": [
    "x_netherlands = df_netherlands['Year']\n",
    "y_netherlands = df_netherlands['Value']\n",
    "\n",
    "plt.figure(figsize=(20,10))\n",
    "plt.scatter(x_netherlands, y_netherlands)\n",
    "\n",
    "plt.show()"
   ]
  },
  {
   "cell_type": "markdown",
   "metadata": {},
   "source": [
    "## AFRICA"
   ]
  },
  {
   "cell_type": "markdown",
   "metadata": {},
   "source": [
    "### MOROCCO"
   ]
  },
  {
   "cell_type": "code",
   "execution_count": 44,
   "metadata": {},
   "outputs": [
    {
     "data": {
      "text/html": [
       "<div>\n",
       "<style scoped>\n",
       "    .dataframe tbody tr th:only-of-type {\n",
       "        vertical-align: middle;\n",
       "    }\n",
       "\n",
       "    .dataframe tbody tr th {\n",
       "        vertical-align: top;\n",
       "    }\n",
       "\n",
       "    .dataframe thead th {\n",
       "        text-align: right;\n",
       "    }\n",
       "</style>\n",
       "<table border=\"1\" class=\"dataframe\">\n",
       "  <thead>\n",
       "    <tr style=\"text-align: right;\">\n",
       "      <th></th>\n",
       "      <th>Area</th>\n",
       "      <th>Domain</th>\n",
       "      <th>Item</th>\n",
       "      <th>Value</th>\n",
       "      <th>Unit</th>\n",
       "      <th>Year</th>\n",
       "    </tr>\n",
       "  </thead>\n",
       "  <tbody>\n",
       "    <tr>\n",
       "      <th>36746</th>\n",
       "      <td>Morocco</td>\n",
       "      <td>Production Indices</td>\n",
       "      <td>Potatoes</td>\n",
       "      <td>58.21</td>\n",
       "      <td>index</td>\n",
       "      <td>2000</td>\n",
       "    </tr>\n",
       "    <tr>\n",
       "      <th>36747</th>\n",
       "      <td>Morocco</td>\n",
       "      <td>Production Indices</td>\n",
       "      <td>Potatoes</td>\n",
       "      <td>61.64</td>\n",
       "      <td>index</td>\n",
       "      <td>2001</td>\n",
       "    </tr>\n",
       "    <tr>\n",
       "      <th>36748</th>\n",
       "      <td>Morocco</td>\n",
       "      <td>Production Indices</td>\n",
       "      <td>Potatoes</td>\n",
       "      <td>71.24</td>\n",
       "      <td>index</td>\n",
       "      <td>2002</td>\n",
       "    </tr>\n",
       "    <tr>\n",
       "      <th>36749</th>\n",
       "      <td>Morocco</td>\n",
       "      <td>Production Indices</td>\n",
       "      <td>Potatoes</td>\n",
       "      <td>74.82</td>\n",
       "      <td>index</td>\n",
       "      <td>2003</td>\n",
       "    </tr>\n",
       "    <tr>\n",
       "      <th>36750</th>\n",
       "      <td>Morocco</td>\n",
       "      <td>Production Indices</td>\n",
       "      <td>Potatoes</td>\n",
       "      <td>79.11</td>\n",
       "      <td>index</td>\n",
       "      <td>2004</td>\n",
       "    </tr>\n",
       "  </tbody>\n",
       "</table>\n",
       "</div>"
      ],
      "text/plain": [
       "          Area              Domain      Item  Value   Unit  Year\n",
       "36746  Morocco  Production Indices  Potatoes  58.21  index  2000\n",
       "36747  Morocco  Production Indices  Potatoes  61.64  index  2001\n",
       "36748  Morocco  Production Indices  Potatoes  71.24  index  2002\n",
       "36749  Morocco  Production Indices  Potatoes  74.82  index  2003\n",
       "36750  Morocco  Production Indices  Potatoes  79.11  index  2004"
      ]
     },
     "execution_count": 44,
     "metadata": {},
     "output_type": "execute_result"
    }
   ],
   "source": [
    "df_morocco = df_temp[(df_temp['Area'] == 'Morocco') & (df_temp['Item'] == 'Potatoes')]\n",
    "df_morocco.head()"
   ]
  },
  {
   "cell_type": "code",
   "execution_count": 45,
   "metadata": {},
   "outputs": [
    {
     "data": {
      "image/png": "[encoded data removed]",
      "text/plain": [
       "<Figure size 1440x720 with 1 Axes>"
      ]
     },
     "metadata": {
      "needs_background": "light"
     },
     "output_type": "display_data"
    }
   ],
   "source": [
    "x_morocco = df_morocco['Year']\n",
    "y_morocco = df_morocco['Value']\n",
    "\n",
    "plt.figure(figsize=(20,10))\n",
    "plt.scatter(x_morocco, y_morocco)\n",
    "\n",
    "plt.show()"
   ]
  },
  {
   "cell_type": "markdown",
   "metadata": {},
   "source": [
    "### MALAWI"
   ]
  },
  {
   "cell_type": "code",
   "execution_count": 46,
   "metadata": {},
   "outputs": [
    {
     "data": {
      "text/html": [
       "<div>\n",
       "<style scoped>\n",
       "    .dataframe tbody tr th:only-of-type {\n",
       "        vertical-align: middle;\n",
       "    }\n",
       "\n",
       "    .dataframe tbody tr th {\n",
       "        vertical-align: top;\n",
       "    }\n",
       "\n",
       "    .dataframe thead th {\n",
       "        text-align: right;\n",
       "    }\n",
       "</style>\n",
       "<table border=\"1\" class=\"dataframe\">\n",
       "  <thead>\n",
       "    <tr style=\"text-align: right;\">\n",
       "      <th></th>\n",
       "      <th>Area</th>\n",
       "      <th>Domain</th>\n",
       "      <th>Item</th>\n",
       "      <th>Value</th>\n",
       "      <th>Unit</th>\n",
       "      <th>Year</th>\n",
       "    </tr>\n",
       "  </thead>\n",
       "  <tbody>\n",
       "    <tr>\n",
       "      <th>32742</th>\n",
       "      <td>Malawi</td>\n",
       "      <td>Production Indices</td>\n",
       "      <td>Potatoes</td>\n",
       "      <td>195.07</td>\n",
       "      <td>index</td>\n",
       "      <td>2000</td>\n",
       "    </tr>\n",
       "    <tr>\n",
       "      <th>32743</th>\n",
       "      <td>Malawi</td>\n",
       "      <td>Production Indices</td>\n",
       "      <td>Potatoes</td>\n",
       "      <td>273.08</td>\n",
       "      <td>index</td>\n",
       "      <td>2001</td>\n",
       "    </tr>\n",
       "    <tr>\n",
       "      <th>32744</th>\n",
       "      <td>Malawi</td>\n",
       "      <td>Production Indices</td>\n",
       "      <td>Potatoes</td>\n",
       "      <td>134.41</td>\n",
       "      <td>index</td>\n",
       "      <td>2002</td>\n",
       "    </tr>\n",
       "    <tr>\n",
       "      <th>32745</th>\n",
       "      <td>Malawi</td>\n",
       "      <td>Production Indices</td>\n",
       "      <td>Potatoes</td>\n",
       "      <td>180.41</td>\n",
       "      <td>index</td>\n",
       "      <td>2003</td>\n",
       "    </tr>\n",
       "    <tr>\n",
       "      <th>32746</th>\n",
       "      <td>Malawi</td>\n",
       "      <td>Production Indices</td>\n",
       "      <td>Potatoes</td>\n",
       "      <td>208.99</td>\n",
       "      <td>index</td>\n",
       "      <td>2004</td>\n",
       "    </tr>\n",
       "  </tbody>\n",
       "</table>\n",
       "</div>"
      ],
      "text/plain": [
       "         Area              Domain      Item   Value   Unit  Year\n",
       "32742  Malawi  Production Indices  Potatoes  195.07  index  2000\n",
       "32743  Malawi  Production Indices  Potatoes  273.08  index  2001\n",
       "32744  Malawi  Production Indices  Potatoes  134.41  index  2002\n",
       "32745  Malawi  Production Indices  Potatoes  180.41  index  2003\n",
       "32746  Malawi  Production Indices  Potatoes  208.99  index  2004"
      ]
     },
     "execution_count": 46,
     "metadata": {},
     "output_type": "execute_result"
    }
   ],
   "source": [
    "df_malawi = df_temp[(df_temp['Area'] == 'Malawi') & (df_temp['Item'] == 'Potatoes')]\n",
    "df_malawi.head()"
   ]
  },
  {
   "cell_type": "code",
   "execution_count": 47,
   "metadata": {},
   "outputs": [
    {
     "data": {
      "image/png": "[encoded data removed]",
      "text/plain": [
       "<Figure size 1440x720 with 1 Axes>"
      ]
     },
     "metadata": {
      "needs_background": "light"
     },
     "output_type": "display_data"
    }
   ],
   "source": [
    "x_malawi = df_malawi['Year']\n",
    "y_malawi = df_malawi['Value']\n",
    "\n",
    "plt.figure(figsize=(20,10))\n",
    "plt.scatter(x_malawi, y_malawi)\n",
    "\n",
    "plt.show()"
   ]
  },
  {
   "cell_type": "markdown",
   "metadata": {},
   "source": [
    "### SOUTH AFRICA"
   ]
  },
  {
   "cell_type": "code",
   "execution_count": 48,
   "metadata": {},
   "outputs": [
    {
     "data": {
      "text/html": [
       "<div>\n",
       "<style scoped>\n",
       "    .dataframe tbody tr th:only-of-type {\n",
       "        vertical-align: middle;\n",
       "    }\n",
       "\n",
       "    .dataframe tbody tr th {\n",
       "        vertical-align: top;\n",
       "    }\n",
       "\n",
       "    .dataframe thead th {\n",
       "        text-align: right;\n",
       "    }\n",
       "</style>\n",
       "<table border=\"1\" class=\"dataframe\">\n",
       "  <thead>\n",
       "    <tr style=\"text-align: right;\">\n",
       "      <th></th>\n",
       "      <th>Area</th>\n",
       "      <th>Domain</th>\n",
       "      <th>Item</th>\n",
       "      <th>Value</th>\n",
       "      <th>Unit</th>\n",
       "      <th>Year</th>\n",
       "    </tr>\n",
       "  </thead>\n",
       "  <tbody>\n",
       "    <tr>\n",
       "      <th>50060</th>\n",
       "      <td>South Africa</td>\n",
       "      <td>Production Indices</td>\n",
       "      <td>Potatoes</td>\n",
       "      <td>73.94</td>\n",
       "      <td>index</td>\n",
       "      <td>2000</td>\n",
       "    </tr>\n",
       "    <tr>\n",
       "      <th>50061</th>\n",
       "      <td>South Africa</td>\n",
       "      <td>Production Indices</td>\n",
       "      <td>Potatoes</td>\n",
       "      <td>76.12</td>\n",
       "      <td>index</td>\n",
       "      <td>2001</td>\n",
       "    </tr>\n",
       "    <tr>\n",
       "      <th>50062</th>\n",
       "      <td>South Africa</td>\n",
       "      <td>Production Indices</td>\n",
       "      <td>Potatoes</td>\n",
       "      <td>67.80</td>\n",
       "      <td>index</td>\n",
       "      <td>2002</td>\n",
       "    </tr>\n",
       "    <tr>\n",
       "      <th>50063</th>\n",
       "      <td>South Africa</td>\n",
       "      <td>Production Indices</td>\n",
       "      <td>Potatoes</td>\n",
       "      <td>71.89</td>\n",
       "      <td>index</td>\n",
       "      <td>2003</td>\n",
       "    </tr>\n",
       "    <tr>\n",
       "      <th>50064</th>\n",
       "      <td>South Africa</td>\n",
       "      <td>Production Indices</td>\n",
       "      <td>Potatoes</td>\n",
       "      <td>78.42</td>\n",
       "      <td>index</td>\n",
       "      <td>2004</td>\n",
       "    </tr>\n",
       "  </tbody>\n",
       "</table>\n",
       "</div>"
      ],
      "text/plain": [
       "               Area              Domain      Item  Value   Unit  Year\n",
       "50060  South Africa  Production Indices  Potatoes  73.94  index  2000\n",
       "50061  South Africa  Production Indices  Potatoes  76.12  index  2001\n",
       "50062  South Africa  Production Indices  Potatoes  67.80  index  2002\n",
       "50063  South Africa  Production Indices  Potatoes  71.89  index  2003\n",
       "50064  South Africa  Production Indices  Potatoes  78.42  index  2004"
      ]
     },
     "execution_count": 48,
     "metadata": {},
     "output_type": "execute_result"
    }
   ],
   "source": [
    "df_south_africa = df_temp[(df_temp['Area'] == 'South Africa') & (df_temp['Item'] == 'Potatoes')]\n",
    "df_south_africa.head()"
   ]
  },
  {
   "cell_type": "code",
   "execution_count": 49,
   "metadata": {},
   "outputs": [
    {
     "data": {
      "image/png": "[encoded data removed]",
      "text/plain": [
       "<Figure size 1440x720 with 1 Axes>"
      ]
     },
     "metadata": {
      "needs_background": "light"
     },
     "output_type": "display_data"
    }
   ],
   "source": [
    "x_south_africa = df_south_africa['Year']\n",
    "y_south_africa = df_south_africa['Value']\n",
    "\n",
    "plt.figure(figsize=(20,10))\n",
    "plt.scatter(x_south_africa, y_south_africa)\n",
    "\n",
    "plt.show()"
   ]
  },
  {
   "cell_type": "markdown",
   "metadata": {},
   "source": [
    "## AUSTRALIA"
   ]
  },
  {
   "cell_type": "code",
   "execution_count": 50,
   "metadata": {},
   "outputs": [
    {
     "data": {
      "text/html": [
       "<div>\n",
       "<style scoped>\n",
       "    .dataframe tbody tr th:only-of-type {\n",
       "        vertical-align: middle;\n",
       "    }\n",
       "\n",
       "    .dataframe tbody tr th {\n",
       "        vertical-align: top;\n",
       "    }\n",
       "\n",
       "    .dataframe thead th {\n",
       "        text-align: right;\n",
       "    }\n",
       "</style>\n",
       "<table border=\"1\" class=\"dataframe\">\n",
       "  <thead>\n",
       "    <tr style=\"text-align: right;\">\n",
       "      <th></th>\n",
       "      <th>Area</th>\n",
       "      <th>Domain</th>\n",
       "      <th>Item</th>\n",
       "      <th>Value</th>\n",
       "      <th>Unit</th>\n",
       "      <th>Year</th>\n",
       "    </tr>\n",
       "  </thead>\n",
       "  <tbody>\n",
       "    <tr>\n",
       "      <th>2666</th>\n",
       "      <td>Australia</td>\n",
       "      <td>Production Indices</td>\n",
       "      <td>Potatoes</td>\n",
       "      <td>104.14</td>\n",
       "      <td>index</td>\n",
       "      <td>2000</td>\n",
       "    </tr>\n",
       "    <tr>\n",
       "      <th>2667</th>\n",
       "      <td>Australia</td>\n",
       "      <td>Production Indices</td>\n",
       "      <td>Potatoes</td>\n",
       "      <td>113.03</td>\n",
       "      <td>index</td>\n",
       "      <td>2001</td>\n",
       "    </tr>\n",
       "    <tr>\n",
       "      <th>2668</th>\n",
       "      <td>Australia</td>\n",
       "      <td>Production Indices</td>\n",
       "      <td>Potatoes</td>\n",
       "      <td>115.73</td>\n",
       "      <td>index</td>\n",
       "      <td>2002</td>\n",
       "    </tr>\n",
       "    <tr>\n",
       "      <th>2669</th>\n",
       "      <td>Australia</td>\n",
       "      <td>Production Indices</td>\n",
       "      <td>Potatoes</td>\n",
       "      <td>108.27</td>\n",
       "      <td>index</td>\n",
       "      <td>2003</td>\n",
       "    </tr>\n",
       "    <tr>\n",
       "      <th>2670</th>\n",
       "      <td>Australia</td>\n",
       "      <td>Production Indices</td>\n",
       "      <td>Potatoes</td>\n",
       "      <td>113.75</td>\n",
       "      <td>index</td>\n",
       "      <td>2004</td>\n",
       "    </tr>\n",
       "  </tbody>\n",
       "</table>\n",
       "</div>"
      ],
      "text/plain": [
       "           Area              Domain      Item   Value   Unit  Year\n",
       "2666  Australia  Production Indices  Potatoes  104.14  index  2000\n",
       "2667  Australia  Production Indices  Potatoes  113.03  index  2001\n",
       "2668  Australia  Production Indices  Potatoes  115.73  index  2002\n",
       "2669  Australia  Production Indices  Potatoes  108.27  index  2003\n",
       "2670  Australia  Production Indices  Potatoes  113.75  index  2004"
      ]
     },
     "execution_count": 50,
     "metadata": {},
     "output_type": "execute_result"
    }
   ],
   "source": [
    "df_australia = df_temp[(df_temp['Area'] == 'Australia') & (df_temp['Item'] == 'Potatoes')]\n",
    "df_australia.head()"
   ]
  },
  {
   "cell_type": "code",
   "execution_count": 51,
   "metadata": {},
   "outputs": [
    {
     "data": {
      "image/png": "[encoded data removed]",
      "text/plain": [
       "<Figure size 1440x720 with 1 Axes>"
      ]
     },
     "metadata": {
      "needs_background": "light"
     },
     "output_type": "display_data"
    }
   ],
   "source": [
    "x_australia = df_australia['Year']\n",
    "y_australia = df_australia['Value']\n",
    "\n",
    "plt.figure(figsize=(20,10))\n",
    "plt.scatter(x_australia, y_australia)\n",
    "\n",
    "plt.show()"
   ]
  },
  {
   "cell_type": "markdown",
   "metadata": {},
   "source": [
    "## Potatoes Comparison Between the Four Countries (USA, Brazil, China, India)"
   ]
  },
  {
   "cell_type": "code",
   "execution_count": 52,
   "metadata": {},
   "outputs": [
    {
     "data": {
      "image/png": "[encoded data removed]",
      "text/plain": [
       "<Figure size 1080x1080 with 4 Axes>"
      ]
     },
     "metadata": {
      "needs_background": "light"
     },
     "output_type": "display_data"
    }
   ],
   "source": [
    "fig, axs = plt.subplots(4)\n",
    "fig.suptitle('Crop Production Comparison')\n",
    "plt.subplots_adjust(bottom=0.1)\n",
    "axs[0].set_title('United States')\n",
    "axs[0].plot(x_usa, y_usa)\n",
    "axs[1].set_title('Brazil')\n",
    "axs[1].plot(x_brazil, y_brazil, 'tab:orange')\n",
    "axs[2].set_title('China')\n",
    "axs[2].plot(x_china, y_china, 'tab:green')\n",
    "axs[3].set_title('India')\n",
    "axs[3].plot(x_india, y_india, 'tab:red')\n",
    "fig.set_figheight(15)\n",
    "fig.set_figwidth(15)"
   ]
  },
  {
   "cell_type": "code",
   "execution_count": null,
   "metadata": {},
   "outputs": [],
   "source": []
  },
  {
   "cell_type": "code",
   "execution_count": null,
   "metadata": {},
   "outputs": [],
   "source": []
  }
 ],
 "metadata": {
  "kernelspec": {
   "display_name": "Python 3",
   "language": "python",
   "name": "python3"
  },
  "language_info": {
   "codemirror_mode": {
    "name": "ipython",
    "version": 3
   },
   "file_extension": ".py",
   "mimetype": "text/x-python",
   "name": "python",
   "nbconvert_exporter": "python",
   "pygments_lexer": "ipython3",
   "version": "3.8.8"
  }
 },
 "nbformat": 4,
 "nbformat_minor": 4
}
