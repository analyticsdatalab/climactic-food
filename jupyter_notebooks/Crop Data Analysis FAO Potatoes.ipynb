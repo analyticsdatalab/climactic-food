{
 "cells": [
  {
   "cell_type": "code",
   "execution_count": 1,
   "metadata": {},
   "outputs": [],
   "source": [
    "import pandas as pd\n",
    "import os\n",
    "\n",
    "from matplotlib import pyplot as plt"
   ]
  },
  {
   "cell_type": "code",
   "execution_count": 2,
   "metadata": {},
   "outputs": [],
   "source": [
    "file_name = \"FAOSTAT_data_2-9-2021_potatoes.csv\"\n",
    "folder_path = \"../data\"\n",
    "full_file_path = os.path.join(folder_path, file_name)"
   ]
  },
  {
   "cell_type": "code",
   "execution_count": 3,
   "metadata": {},
   "outputs": [],
   "source": [
    "df = pd.read_csv(full_file_path)"
   ]
  },
  {
   "cell_type": "code",
   "execution_count": 5,
   "metadata": {},
   "outputs": [
    {
     "data": {
      "text/html": [
       "<div>\n",
       "<style scoped>\n",
       "    .dataframe tbody tr th:only-of-type {\n",
       "        vertical-align: middle;\n",
       "    }\n",
       "\n",
       "    .dataframe tbody tr th {\n",
       "        vertical-align: top;\n",
       "    }\n",
       "\n",
       "    .dataframe thead th {\n",
       "        text-align: right;\n",
       "    }\n",
       "</style>\n",
       "<table border=\"1\" class=\"dataframe\">\n",
       "  <thead>\n",
       "    <tr style=\"text-align: right;\">\n",
       "      <th></th>\n",
       "      <th>Domain Code</th>\n",
       "      <th>Domain</th>\n",
       "      <th>Area Code</th>\n",
       "      <th>Area</th>\n",
       "      <th>Element Code</th>\n",
       "      <th>Element</th>\n",
       "      <th>Item Code</th>\n",
       "      <th>Item</th>\n",
       "      <th>Year Code</th>\n",
       "      <th>Year</th>\n",
       "      <th>Unit</th>\n",
       "      <th>Value</th>\n",
       "      <th>Flag</th>\n",
       "      <th>Flag Description</th>\n",
       "    </tr>\n",
       "  </thead>\n",
       "  <tbody>\n",
       "    <tr>\n",
       "      <th>0</th>\n",
       "      <td>QC</td>\n",
       "      <td>Crops</td>\n",
       "      <td>21</td>\n",
       "      <td>Brazil</td>\n",
       "      <td>5312</td>\n",
       "      <td>Area harvested</td>\n",
       "      <td>116</td>\n",
       "      <td>Potatoes</td>\n",
       "      <td>1961</td>\n",
       "      <td>1961</td>\n",
       "      <td>ha</td>\n",
       "      <td>191255</td>\n",
       "      <td>NaN</td>\n",
       "      <td>Official data</td>\n",
       "    </tr>\n",
       "    <tr>\n",
       "      <th>1</th>\n",
       "      <td>QC</td>\n",
       "      <td>Crops</td>\n",
       "      <td>21</td>\n",
       "      <td>Brazil</td>\n",
       "      <td>5312</td>\n",
       "      <td>Area harvested</td>\n",
       "      <td>116</td>\n",
       "      <td>Potatoes</td>\n",
       "      <td>1962</td>\n",
       "      <td>1962</td>\n",
       "      <td>ha</td>\n",
       "      <td>196198</td>\n",
       "      <td>NaN</td>\n",
       "      <td>Official data</td>\n",
       "    </tr>\n",
       "    <tr>\n",
       "      <th>2</th>\n",
       "      <td>QC</td>\n",
       "      <td>Crops</td>\n",
       "      <td>21</td>\n",
       "      <td>Brazil</td>\n",
       "      <td>5312</td>\n",
       "      <td>Area harvested</td>\n",
       "      <td>116</td>\n",
       "      <td>Potatoes</td>\n",
       "      <td>1963</td>\n",
       "      <td>1963</td>\n",
       "      <td>ha</td>\n",
       "      <td>199788</td>\n",
       "      <td>NaN</td>\n",
       "      <td>Official data</td>\n",
       "    </tr>\n",
       "    <tr>\n",
       "      <th>3</th>\n",
       "      <td>QC</td>\n",
       "      <td>Crops</td>\n",
       "      <td>21</td>\n",
       "      <td>Brazil</td>\n",
       "      <td>5312</td>\n",
       "      <td>Area harvested</td>\n",
       "      <td>116</td>\n",
       "      <td>Potatoes</td>\n",
       "      <td>1964</td>\n",
       "      <td>1964</td>\n",
       "      <td>ha</td>\n",
       "      <td>208674</td>\n",
       "      <td>NaN</td>\n",
       "      <td>Official data</td>\n",
       "    </tr>\n",
       "    <tr>\n",
       "      <th>4</th>\n",
       "      <td>QC</td>\n",
       "      <td>Crops</td>\n",
       "      <td>21</td>\n",
       "      <td>Brazil</td>\n",
       "      <td>5312</td>\n",
       "      <td>Area harvested</td>\n",
       "      <td>116</td>\n",
       "      <td>Potatoes</td>\n",
       "      <td>1965</td>\n",
       "      <td>1965</td>\n",
       "      <td>ha</td>\n",
       "      <td>202257</td>\n",
       "      <td>NaN</td>\n",
       "      <td>Official data</td>\n",
       "    </tr>\n",
       "  </tbody>\n",
       "</table>\n",
       "</div>"
      ],
      "text/plain": [
       "  Domain Code Domain  Area Code    Area  Element Code         Element  \\\n",
       "0          QC  Crops         21  Brazil          5312  Area harvested   \n",
       "1          QC  Crops         21  Brazil          5312  Area harvested   \n",
       "2          QC  Crops         21  Brazil          5312  Area harvested   \n",
       "3          QC  Crops         21  Brazil          5312  Area harvested   \n",
       "4          QC  Crops         21  Brazil          5312  Area harvested   \n",
       "\n",
       "   Item Code      Item  Year Code  Year Unit   Value Flag Flag Description  \n",
       "0        116  Potatoes       1961  1961   ha  191255  NaN    Official data  \n",
       "1        116  Potatoes       1962  1962   ha  196198  NaN    Official data  \n",
       "2        116  Potatoes       1963  1963   ha  199788  NaN    Official data  \n",
       "3        116  Potatoes       1964  1964   ha  208674  NaN    Official data  \n",
       "4        116  Potatoes       1965  1965   ha  202257  NaN    Official data  "
      ]
     },
     "execution_count": 5,
     "metadata": {},
     "output_type": "execute_result"
    }
   ],
   "source": [
    "df.head()"
   ]
  },
  {
   "cell_type": "code",
   "execution_count": 6,
   "metadata": {},
   "outputs": [
    {
     "data": {
      "text/plain": [
       "array(['Brazil', 'China', 'India', 'United States of America'],\n",
       "      dtype=object)"
      ]
     },
     "execution_count": 6,
     "metadata": {},
     "output_type": "execute_result"
    }
   ],
   "source": [
    "df['Area'].unique()"
   ]
  },
  {
   "cell_type": "code",
   "execution_count": 7,
   "metadata": {},
   "outputs": [
    {
     "name": "stdout",
     "output_type": "stream",
     "text": [
      "<class 'pandas.core.frame.DataFrame'>\n",
      "RangeIndex: 708 entries, 0 to 707\n",
      "Data columns (total 14 columns):\n",
      " #   Column            Non-Null Count  Dtype \n",
      "---  ------            --------------  ----- \n",
      " 0   Domain Code       708 non-null    object\n",
      " 1   Domain            708 non-null    object\n",
      " 2   Area Code         708 non-null    int64 \n",
      " 3   Area              708 non-null    object\n",
      " 4   Element Code      708 non-null    int64 \n",
      " 5   Element           708 non-null    object\n",
      " 6   Item Code         708 non-null    int64 \n",
      " 7   Item              708 non-null    object\n",
      " 8   Year Code         708 non-null    int64 \n",
      " 9   Year              708 non-null    int64 \n",
      " 10  Unit              708 non-null    object\n",
      " 11  Value             708 non-null    int64 \n",
      " 12  Flag              354 non-null    object\n",
      " 13  Flag Description  708 non-null    object\n",
      "dtypes: int64(6), object(8)\n",
      "memory usage: 77.6+ KB\n"
     ]
    }
   ],
   "source": [
    "df.info()"
   ]
  },
  {
   "cell_type": "code",
   "execution_count": 8,
   "metadata": {},
   "outputs": [
    {
     "data": {
      "text/html": [
       "<div>\n",
       "<style scoped>\n",
       "    .dataframe tbody tr th:only-of-type {\n",
       "        vertical-align: middle;\n",
       "    }\n",
       "\n",
       "    .dataframe tbody tr th {\n",
       "        vertical-align: top;\n",
       "    }\n",
       "\n",
       "    .dataframe thead th {\n",
       "        text-align: right;\n",
       "    }\n",
       "</style>\n",
       "<table border=\"1\" class=\"dataframe\">\n",
       "  <thead>\n",
       "    <tr style=\"text-align: right;\">\n",
       "      <th></th>\n",
       "      <th>Area Code</th>\n",
       "      <th>Element Code</th>\n",
       "      <th>Item Code</th>\n",
       "      <th>Year Code</th>\n",
       "      <th>Year</th>\n",
       "      <th>Value</th>\n",
       "    </tr>\n",
       "  </thead>\n",
       "  <tbody>\n",
       "    <tr>\n",
       "      <th>count</th>\n",
       "      <td>708.000000</td>\n",
       "      <td>708.000000</td>\n",
       "      <td>708.0</td>\n",
       "      <td>708.000000</td>\n",
       "      <td>708.000000</td>\n",
       "      <td>7.080000e+02</td>\n",
       "    </tr>\n",
       "    <tr>\n",
       "      <th>mean</th>\n",
       "      <td>175.750000</td>\n",
       "      <td>5413.666667</td>\n",
       "      <td>116.0</td>\n",
       "      <td>1990.000000</td>\n",
       "      <td>1990.000000</td>\n",
       "      <td>7.499522e+06</td>\n",
       "    </tr>\n",
       "    <tr>\n",
       "      <th>std</th>\n",
       "      <td>126.036202</td>\n",
       "      <td>80.978295</td>\n",
       "      <td>0.0</td>\n",
       "      <td>17.041426</td>\n",
       "      <td>17.041426</td>\n",
       "      <td>1.560340e+07</td>\n",
       "    </tr>\n",
       "    <tr>\n",
       "      <th>min</th>\n",
       "      <td>21.000000</td>\n",
       "      <td>5312.000000</td>\n",
       "      <td>116.0</td>\n",
       "      <td>1961.000000</td>\n",
       "      <td>1961.000000</td>\n",
       "      <td>5.648500e+04</td>\n",
       "    </tr>\n",
       "    <tr>\n",
       "      <th>25%</th>\n",
       "      <td>80.250000</td>\n",
       "      <td>5312.000000</td>\n",
       "      <td>116.0</td>\n",
       "      <td>1975.000000</td>\n",
       "      <td>1975.000000</td>\n",
       "      <td>1.833462e+05</td>\n",
       "    </tr>\n",
       "    <tr>\n",
       "      <th>50%</th>\n",
       "      <td>165.500000</td>\n",
       "      <td>5419.000000</td>\n",
       "      <td>116.0</td>\n",
       "      <td>1990.000000</td>\n",
       "      <td>1990.000000</td>\n",
       "      <td>5.573950e+05</td>\n",
       "    </tr>\n",
       "    <tr>\n",
       "      <th>75%</th>\n",
       "      <td>261.000000</td>\n",
       "      <td>5510.000000</td>\n",
       "      <td>116.0</td>\n",
       "      <td>2005.000000</td>\n",
       "      <td>2005.000000</td>\n",
       "      <td>4.767568e+06</td>\n",
       "    </tr>\n",
       "    <tr>\n",
       "      <th>max</th>\n",
       "      <td>351.000000</td>\n",
       "      <td>5510.000000</td>\n",
       "      <td>116.0</td>\n",
       "      <td>2019.000000</td>\n",
       "      <td>2019.000000</td>\n",
       "      <td>9.188140e+07</td>\n",
       "    </tr>\n",
       "  </tbody>\n",
       "</table>\n",
       "</div>"
      ],
      "text/plain": [
       "        Area Code  Element Code  Item Code    Year Code         Year  \\\n",
       "count  708.000000    708.000000      708.0   708.000000   708.000000   \n",
       "mean   175.750000   5413.666667      116.0  1990.000000  1990.000000   \n",
       "std    126.036202     80.978295        0.0    17.041426    17.041426   \n",
       "min     21.000000   5312.000000      116.0  1961.000000  1961.000000   \n",
       "25%     80.250000   5312.000000      116.0  1975.000000  1975.000000   \n",
       "50%    165.500000   5419.000000      116.0  1990.000000  1990.000000   \n",
       "75%    261.000000   5510.000000      116.0  2005.000000  2005.000000   \n",
       "max    351.000000   5510.000000      116.0  2019.000000  2019.000000   \n",
       "\n",
       "              Value  \n",
       "count  7.080000e+02  \n",
       "mean   7.499522e+06  \n",
       "std    1.560340e+07  \n",
       "min    5.648500e+04  \n",
       "25%    1.833462e+05  \n",
       "50%    5.573950e+05  \n",
       "75%    4.767568e+06  \n",
       "max    9.188140e+07  "
      ]
     },
     "execution_count": 8,
     "metadata": {},
     "output_type": "execute_result"
    }
   ],
   "source": [
    "df.describe()"
   ]
  },
  {
   "cell_type": "code",
   "execution_count": 9,
   "metadata": {},
   "outputs": [],
   "source": [
    "df_temp = df[['Area', 'Domain', 'Item', 'Value', 'Unit', 'Year']]"
   ]
  },
  {
   "cell_type": "code",
   "execution_count": 10,
   "metadata": {},
   "outputs": [
    {
     "data": {
      "text/html": [
       "<div>\n",
       "<style scoped>\n",
       "    .dataframe tbody tr th:only-of-type {\n",
       "        vertical-align: middle;\n",
       "    }\n",
       "\n",
       "    .dataframe tbody tr th {\n",
       "        vertical-align: top;\n",
       "    }\n",
       "\n",
       "    .dataframe thead th {\n",
       "        text-align: right;\n",
       "    }\n",
       "</style>\n",
       "<table border=\"1\" class=\"dataframe\">\n",
       "  <thead>\n",
       "    <tr style=\"text-align: right;\">\n",
       "      <th></th>\n",
       "      <th>Area</th>\n",
       "      <th>Domain</th>\n",
       "      <th>Item</th>\n",
       "      <th>Value</th>\n",
       "      <th>Unit</th>\n",
       "      <th>Year</th>\n",
       "    </tr>\n",
       "  </thead>\n",
       "  <tbody>\n",
       "    <tr>\n",
       "      <th>0</th>\n",
       "      <td>Brazil</td>\n",
       "      <td>Crops</td>\n",
       "      <td>Potatoes</td>\n",
       "      <td>191255</td>\n",
       "      <td>ha</td>\n",
       "      <td>1961</td>\n",
       "    </tr>\n",
       "    <tr>\n",
       "      <th>1</th>\n",
       "      <td>Brazil</td>\n",
       "      <td>Crops</td>\n",
       "      <td>Potatoes</td>\n",
       "      <td>196198</td>\n",
       "      <td>ha</td>\n",
       "      <td>1962</td>\n",
       "    </tr>\n",
       "    <tr>\n",
       "      <th>2</th>\n",
       "      <td>Brazil</td>\n",
       "      <td>Crops</td>\n",
       "      <td>Potatoes</td>\n",
       "      <td>199788</td>\n",
       "      <td>ha</td>\n",
       "      <td>1963</td>\n",
       "    </tr>\n",
       "    <tr>\n",
       "      <th>3</th>\n",
       "      <td>Brazil</td>\n",
       "      <td>Crops</td>\n",
       "      <td>Potatoes</td>\n",
       "      <td>208674</td>\n",
       "      <td>ha</td>\n",
       "      <td>1964</td>\n",
       "    </tr>\n",
       "    <tr>\n",
       "      <th>4</th>\n",
       "      <td>Brazil</td>\n",
       "      <td>Crops</td>\n",
       "      <td>Potatoes</td>\n",
       "      <td>202257</td>\n",
       "      <td>ha</td>\n",
       "      <td>1965</td>\n",
       "    </tr>\n",
       "  </tbody>\n",
       "</table>\n",
       "</div>"
      ],
      "text/plain": [
       "     Area Domain      Item   Value Unit  Year\n",
       "0  Brazil  Crops  Potatoes  191255   ha  1961\n",
       "1  Brazil  Crops  Potatoes  196198   ha  1962\n",
       "2  Brazil  Crops  Potatoes  199788   ha  1963\n",
       "3  Brazil  Crops  Potatoes  208674   ha  1964\n",
       "4  Brazil  Crops  Potatoes  202257   ha  1965"
      ]
     },
     "execution_count": 10,
     "metadata": {},
     "output_type": "execute_result"
    }
   ],
   "source": [
    "df_temp.head()"
   ]
  },
  {
   "cell_type": "markdown",
   "metadata": {},
   "source": [
    "## Brazil Data Analysis Potatoes"
   ]
  },
  {
   "cell_type": "code",
   "execution_count": 11,
   "metadata": {},
   "outputs": [
    {
     "data": {
      "text/html": [
       "<div>\n",
       "<style scoped>\n",
       "    .dataframe tbody tr th:only-of-type {\n",
       "        vertical-align: middle;\n",
       "    }\n",
       "\n",
       "    .dataframe tbody tr th {\n",
       "        vertical-align: top;\n",
       "    }\n",
       "\n",
       "    .dataframe thead th {\n",
       "        text-align: right;\n",
       "    }\n",
       "</style>\n",
       "<table border=\"1\" class=\"dataframe\">\n",
       "  <thead>\n",
       "    <tr style=\"text-align: right;\">\n",
       "      <th></th>\n",
       "      <th>Area</th>\n",
       "      <th>Domain</th>\n",
       "      <th>Item</th>\n",
       "      <th>Value</th>\n",
       "      <th>Unit</th>\n",
       "      <th>Year</th>\n",
       "    </tr>\n",
       "  </thead>\n",
       "  <tbody>\n",
       "    <tr>\n",
       "      <th>0</th>\n",
       "      <td>Brazil</td>\n",
       "      <td>Crops</td>\n",
       "      <td>Potatoes</td>\n",
       "      <td>191255</td>\n",
       "      <td>ha</td>\n",
       "      <td>1961</td>\n",
       "    </tr>\n",
       "    <tr>\n",
       "      <th>1</th>\n",
       "      <td>Brazil</td>\n",
       "      <td>Crops</td>\n",
       "      <td>Potatoes</td>\n",
       "      <td>196198</td>\n",
       "      <td>ha</td>\n",
       "      <td>1962</td>\n",
       "    </tr>\n",
       "    <tr>\n",
       "      <th>2</th>\n",
       "      <td>Brazil</td>\n",
       "      <td>Crops</td>\n",
       "      <td>Potatoes</td>\n",
       "      <td>199788</td>\n",
       "      <td>ha</td>\n",
       "      <td>1963</td>\n",
       "    </tr>\n",
       "    <tr>\n",
       "      <th>3</th>\n",
       "      <td>Brazil</td>\n",
       "      <td>Crops</td>\n",
       "      <td>Potatoes</td>\n",
       "      <td>208674</td>\n",
       "      <td>ha</td>\n",
       "      <td>1964</td>\n",
       "    </tr>\n",
       "    <tr>\n",
       "      <th>4</th>\n",
       "      <td>Brazil</td>\n",
       "      <td>Crops</td>\n",
       "      <td>Potatoes</td>\n",
       "      <td>202257</td>\n",
       "      <td>ha</td>\n",
       "      <td>1965</td>\n",
       "    </tr>\n",
       "  </tbody>\n",
       "</table>\n",
       "</div>"
      ],
      "text/plain": [
       "     Area Domain      Item   Value Unit  Year\n",
       "0  Brazil  Crops  Potatoes  191255   ha  1961\n",
       "1  Brazil  Crops  Potatoes  196198   ha  1962\n",
       "2  Brazil  Crops  Potatoes  199788   ha  1963\n",
       "3  Brazil  Crops  Potatoes  208674   ha  1964\n",
       "4  Brazil  Crops  Potatoes  202257   ha  1965"
      ]
     },
     "execution_count": 11,
     "metadata": {},
     "output_type": "execute_result"
    }
   ],
   "source": [
    "df_brazil = df_temp[(df_temp['Area'] == 'Brazil')]\n",
    "df_brazil.head()"
   ]
  },
  {
   "cell_type": "code",
   "execution_count": 18,
   "metadata": {},
   "outputs": [
    {
     "data": {
      "image/png": "[encoded data removed]",
      "text/plain": [
       "<Figure size 1440x720 with 1 Axes>"
      ]
     },
     "metadata": {
      "needs_background": "light"
     },
     "output_type": "display_data"
    }
   ],
   "source": [
    "x_brazil = df_brazil['Year']\n",
    "y_brazil = df_brazil['Value']\n",
    "\n",
    "plt.figure(figsize=(20,10))\n",
    "plt.scatter(x_brazil, y_brazil)\n",
    "\n",
    "plt.show()"
   ]
  },
  {
   "cell_type": "code",
   "execution_count": 13,
   "metadata": {},
   "outputs": [
    {
     "data": {
      "text/plain": [
       "0       191255\n",
       "1       196198\n",
       "2       199788\n",
       "3       208674\n",
       "4       202257\n",
       "        ...   \n",
       "172    3867681\n",
       "173    3851396\n",
       "174    3655069\n",
       "175    3728953\n",
       "176    3696930\n",
       "Name: Value, Length: 177, dtype: int64"
      ]
     },
     "execution_count": 13,
     "metadata": {},
     "output_type": "execute_result"
    }
   ],
   "source": [
    "df_brazil['Value']"
   ]
  },
  {
   "cell_type": "code",
   "execution_count": 14,
   "metadata": {},
   "outputs": [
    {
     "data": {
      "text/plain": [
       "0      Potatoes\n",
       "1      Potatoes\n",
       "2      Potatoes\n",
       "3      Potatoes\n",
       "4      Potatoes\n",
       "         ...   \n",
       "172    Potatoes\n",
       "173    Potatoes\n",
       "174    Potatoes\n",
       "175    Potatoes\n",
       "176    Potatoes\n",
       "Name: Item, Length: 177, dtype: object"
      ]
     },
     "execution_count": 14,
     "metadata": {},
     "output_type": "execute_result"
    }
   ],
   "source": [
    "df_brazil['Item']"
   ]
  },
  {
   "cell_type": "code",
   "execution_count": 15,
   "metadata": {},
   "outputs": [
    {
     "data": {
      "text/plain": [
       "0      1961\n",
       "1      1962\n",
       "2      1963\n",
       "3      1964\n",
       "4      1965\n",
       "       ... \n",
       "172    2015\n",
       "173    2016\n",
       "174    2017\n",
       "175    2018\n",
       "176    2019\n",
       "Name: Year, Length: 177, dtype: int64"
      ]
     },
     "execution_count": 15,
     "metadata": {},
     "output_type": "execute_result"
    }
   ],
   "source": [
    "df_brazil['Year']"
   ]
  },
  {
   "cell_type": "markdown",
   "metadata": {},
   "source": [
    "## USA Data Analysis Potatoes"
   ]
  },
  {
   "cell_type": "code",
   "execution_count": 19,
   "metadata": {},
   "outputs": [
    {
     "data": {
      "text/html": [
       "<div>\n",
       "<style scoped>\n",
       "    .dataframe tbody tr th:only-of-type {\n",
       "        vertical-align: middle;\n",
       "    }\n",
       "\n",
       "    .dataframe tbody tr th {\n",
       "        vertical-align: top;\n",
       "    }\n",
       "\n",
       "    .dataframe thead th {\n",
       "        text-align: right;\n",
       "    }\n",
       "</style>\n",
       "<table border=\"1\" class=\"dataframe\">\n",
       "  <thead>\n",
       "    <tr style=\"text-align: right;\">\n",
       "      <th></th>\n",
       "      <th>Area</th>\n",
       "      <th>Domain</th>\n",
       "      <th>Item</th>\n",
       "      <th>Value</th>\n",
       "      <th>Unit</th>\n",
       "      <th>Year</th>\n",
       "    </tr>\n",
       "  </thead>\n",
       "  <tbody>\n",
       "    <tr>\n",
       "      <th>531</th>\n",
       "      <td>United States of America</td>\n",
       "      <td>Crops</td>\n",
       "      <td>Potatoes</td>\n",
       "      <td>599268</td>\n",
       "      <td>ha</td>\n",
       "      <td>1961</td>\n",
       "    </tr>\n",
       "    <tr>\n",
       "      <th>532</th>\n",
       "      <td>United States of America</td>\n",
       "      <td>Crops</td>\n",
       "      <td>Potatoes</td>\n",
       "      <td>545416</td>\n",
       "      <td>ha</td>\n",
       "      <td>1962</td>\n",
       "    </tr>\n",
       "    <tr>\n",
       "      <th>533</th>\n",
       "      <td>United States of America</td>\n",
       "      <td>Crops</td>\n",
       "      <td>Potatoes</td>\n",
       "      <td>535715</td>\n",
       "      <td>ha</td>\n",
       "      <td>1963</td>\n",
       "    </tr>\n",
       "    <tr>\n",
       "      <th>534</th>\n",
       "      <td>United States of America</td>\n",
       "      <td>Crops</td>\n",
       "      <td>Potatoes</td>\n",
       "      <td>515019</td>\n",
       "      <td>ha</td>\n",
       "      <td>1964</td>\n",
       "    </tr>\n",
       "    <tr>\n",
       "      <th>535</th>\n",
       "      <td>United States of America</td>\n",
       "      <td>Crops</td>\n",
       "      <td>Potatoes</td>\n",
       "      <td>560057</td>\n",
       "      <td>ha</td>\n",
       "      <td>1965</td>\n",
       "    </tr>\n",
       "  </tbody>\n",
       "</table>\n",
       "</div>"
      ],
      "text/plain": [
       "                         Area Domain      Item   Value Unit  Year\n",
       "531  United States of America  Crops  Potatoes  599268   ha  1961\n",
       "532  United States of America  Crops  Potatoes  545416   ha  1962\n",
       "533  United States of America  Crops  Potatoes  535715   ha  1963\n",
       "534  United States of America  Crops  Potatoes  515019   ha  1964\n",
       "535  United States of America  Crops  Potatoes  560057   ha  1965"
      ]
     },
     "execution_count": 19,
     "metadata": {},
     "output_type": "execute_result"
    }
   ],
   "source": [
    "df_usa = df_temp[(df_temp['Area'] == 'United States of America')]\n",
    "df_usa.head()"
   ]
  },
  {
   "cell_type": "code",
   "execution_count": 23,
   "metadata": {},
   "outputs": [
    {
     "data": {
      "image/png": "[encoded data removed]",
      "text/plain": [
       "<Figure size 1440x720 with 1 Axes>"
      ]
     },
     "metadata": {
      "needs_background": "light"
     },
     "output_type": "display_data"
    }
   ],
   "source": [
    "x_usa = df_usa['Year']\n",
    "y_usa = df_usa['Value']\n",
    "\n",
    "plt.figure(figsize=(20,10))\n",
    "plt.scatter(x_usa, y_usa)\n",
    "\n",
    "plt.show()"
   ]
  },
  {
   "cell_type": "markdown",
   "metadata": {},
   "source": [
    "## China Data Analysis Potatoes"
   ]
  },
  {
   "cell_type": "code",
   "execution_count": 24,
   "metadata": {},
   "outputs": [
    {
     "data": {
      "text/html": [
       "<div>\n",
       "<style scoped>\n",
       "    .dataframe tbody tr th:only-of-type {\n",
       "        vertical-align: middle;\n",
       "    }\n",
       "\n",
       "    .dataframe tbody tr th {\n",
       "        vertical-align: top;\n",
       "    }\n",
       "\n",
       "    .dataframe thead th {\n",
       "        text-align: right;\n",
       "    }\n",
       "</style>\n",
       "<table border=\"1\" class=\"dataframe\">\n",
       "  <thead>\n",
       "    <tr style=\"text-align: right;\">\n",
       "      <th></th>\n",
       "      <th>Area</th>\n",
       "      <th>Domain</th>\n",
       "      <th>Item</th>\n",
       "      <th>Value</th>\n",
       "      <th>Unit</th>\n",
       "      <th>Year</th>\n",
       "    </tr>\n",
       "  </thead>\n",
       "  <tbody>\n",
       "    <tr>\n",
       "      <th>177</th>\n",
       "      <td>China</td>\n",
       "      <td>Crops</td>\n",
       "      <td>Potatoes</td>\n",
       "      <td>1300797</td>\n",
       "      <td>ha</td>\n",
       "      <td>1961</td>\n",
       "    </tr>\n",
       "    <tr>\n",
       "      <th>178</th>\n",
       "      <td>China</td>\n",
       "      <td>Crops</td>\n",
       "      <td>Potatoes</td>\n",
       "      <td>1500944</td>\n",
       "      <td>ha</td>\n",
       "      <td>1962</td>\n",
       "    </tr>\n",
       "    <tr>\n",
       "      <th>179</th>\n",
       "      <td>China</td>\n",
       "      <td>Crops</td>\n",
       "      <td>Potatoes</td>\n",
       "      <td>1501306</td>\n",
       "      <td>ha</td>\n",
       "      <td>1963</td>\n",
       "    </tr>\n",
       "    <tr>\n",
       "      <th>180</th>\n",
       "      <td>China</td>\n",
       "      <td>Crops</td>\n",
       "      <td>Potatoes</td>\n",
       "      <td>1601612</td>\n",
       "      <td>ha</td>\n",
       "      <td>1964</td>\n",
       "    </tr>\n",
       "    <tr>\n",
       "      <th>181</th>\n",
       "      <td>China</td>\n",
       "      <td>Crops</td>\n",
       "      <td>Potatoes</td>\n",
       "      <td>1701234</td>\n",
       "      <td>ha</td>\n",
       "      <td>1965</td>\n",
       "    </tr>\n",
       "  </tbody>\n",
       "</table>\n",
       "</div>"
      ],
      "text/plain": [
       "      Area Domain      Item    Value Unit  Year\n",
       "177  China  Crops  Potatoes  1300797   ha  1961\n",
       "178  China  Crops  Potatoes  1500944   ha  1962\n",
       "179  China  Crops  Potatoes  1501306   ha  1963\n",
       "180  China  Crops  Potatoes  1601612   ha  1964\n",
       "181  China  Crops  Potatoes  1701234   ha  1965"
      ]
     },
     "execution_count": 24,
     "metadata": {},
     "output_type": "execute_result"
    }
   ],
   "source": [
    "df_china = df_temp[(df_temp['Area'] == 'China')]\n",
    "df_china.head()"
   ]
  },
  {
   "cell_type": "code",
   "execution_count": 25,
   "metadata": {},
   "outputs": [
    {
     "data": {
      "image/png": "[encoded data removed]",
      "text/plain": [
       "<Figure size 1440x720 with 1 Axes>"
      ]
     },
     "metadata": {
      "needs_background": "light"
     },
     "output_type": "display_data"
    }
   ],
   "source": [
    "x_china = df_china['Year']\n",
    "y_china = df_china['Value']\n",
    "\n",
    "plt.figure(figsize=(20,10))\n",
    "plt.scatter(x_china, y_china)\n",
    "\n",
    "plt.show()"
   ]
  },
  {
   "cell_type": "markdown",
   "metadata": {},
   "source": [
    "## India Data Analysis Potatoes"
   ]
  },
  {
   "cell_type": "code",
   "execution_count": 26,
   "metadata": {},
   "outputs": [
    {
     "data": {
      "text/html": [
       "<div>\n",
       "<style scoped>\n",
       "    .dataframe tbody tr th:only-of-type {\n",
       "        vertical-align: middle;\n",
       "    }\n",
       "\n",
       "    .dataframe tbody tr th {\n",
       "        vertical-align: top;\n",
       "    }\n",
       "\n",
       "    .dataframe thead th {\n",
       "        text-align: right;\n",
       "    }\n",
       "</style>\n",
       "<table border=\"1\" class=\"dataframe\">\n",
       "  <thead>\n",
       "    <tr style=\"text-align: right;\">\n",
       "      <th></th>\n",
       "      <th>Area</th>\n",
       "      <th>Domain</th>\n",
       "      <th>Item</th>\n",
       "      <th>Value</th>\n",
       "      <th>Unit</th>\n",
       "      <th>Year</th>\n",
       "    </tr>\n",
       "  </thead>\n",
       "  <tbody>\n",
       "    <tr>\n",
       "      <th>354</th>\n",
       "      <td>India</td>\n",
       "      <td>Crops</td>\n",
       "      <td>Potatoes</td>\n",
       "      <td>375000</td>\n",
       "      <td>ha</td>\n",
       "      <td>1961</td>\n",
       "    </tr>\n",
       "    <tr>\n",
       "      <th>355</th>\n",
       "      <td>India</td>\n",
       "      <td>Crops</td>\n",
       "      <td>Potatoes</td>\n",
       "      <td>365000</td>\n",
       "      <td>ha</td>\n",
       "      <td>1962</td>\n",
       "    </tr>\n",
       "    <tr>\n",
       "      <th>356</th>\n",
       "      <td>India</td>\n",
       "      <td>Crops</td>\n",
       "      <td>Potatoes</td>\n",
       "      <td>413000</td>\n",
       "      <td>ha</td>\n",
       "      <td>1963</td>\n",
       "    </tr>\n",
       "    <tr>\n",
       "      <th>357</th>\n",
       "      <td>India</td>\n",
       "      <td>Crops</td>\n",
       "      <td>Potatoes</td>\n",
       "      <td>415000</td>\n",
       "      <td>ha</td>\n",
       "      <td>1964</td>\n",
       "    </tr>\n",
       "    <tr>\n",
       "      <th>358</th>\n",
       "      <td>India</td>\n",
       "      <td>Crops</td>\n",
       "      <td>Potatoes</td>\n",
       "      <td>429000</td>\n",
       "      <td>ha</td>\n",
       "      <td>1965</td>\n",
       "    </tr>\n",
       "  </tbody>\n",
       "</table>\n",
       "</div>"
      ],
      "text/plain": [
       "      Area Domain      Item   Value Unit  Year\n",
       "354  India  Crops  Potatoes  375000   ha  1961\n",
       "355  India  Crops  Potatoes  365000   ha  1962\n",
       "356  India  Crops  Potatoes  413000   ha  1963\n",
       "357  India  Crops  Potatoes  415000   ha  1964\n",
       "358  India  Crops  Potatoes  429000   ha  1965"
      ]
     },
     "execution_count": 26,
     "metadata": {},
     "output_type": "execute_result"
    }
   ],
   "source": [
    "df_india = df_temp[(df_temp['Area'] == 'India')]\n",
    "df_india.head()"
   ]
  },
  {
   "cell_type": "code",
   "execution_count": 27,
   "metadata": {},
   "outputs": [
    {
     "data": {
      "image/png": "[encoded data removed]",
      "text/plain": [
       "<Figure size 1440x720 with 1 Axes>"
      ]
     },
     "metadata": {
      "needs_background": "light"
     },
     "output_type": "display_data"
    }
   ],
   "source": [
    "x_india = df_india['Year']\n",
    "y_india = df_india['Value']\n",
    "\n",
    "plt.figure(figsize=(20,10))\n",
    "plt.scatter(x_india, y_india)\n",
    "\n",
    "plt.show()"
   ]
  },
  {
   "cell_type": "markdown",
   "metadata": {},
   "source": [
    "## Potatoes Comparison Between the Four Countries (USA, Brazil, China, India)"
   ]
  },
  {
   "cell_type": "code",
   "execution_count": 34,
   "metadata": {},
   "outputs": [
    {
     "data": {
      "image/png": "[encoded data removed]",
      "text/plain": [
       "<Figure size 1080x1080 with 4 Axes>"
      ]
     },
     "metadata": {
      "needs_background": "light"
     },
     "output_type": "display_data"
    }
   ],
   "source": [
    "fig, axs = plt.subplots(4)\n",
    "fig.suptitle('Crop Production Comparison')\n",
    "plt.subplots_adjust(bottom=0.1)\n",
    "axs[0].set_title('United States')\n",
    "axs[0].plot(x_usa, y_usa)\n",
    "axs[1].set_title('Brazil')\n",
    "axs[1].plot(x_brazil, y_brazil, 'tab:orange')\n",
    "axs[2].set_title('China')\n",
    "axs[2].plot(x_china, y_china, 'tab:green')\n",
    "axs[3].set_title('India')\n",
    "axs[3].plot(x_india, y_india, 'tab:red')\n",
    "fig.set_figheight(15)\n",
    "fig.set_figwidth(15)"
   ]
  },
  {
   "cell_type": "code",
   "execution_count": null,
   "metadata": {},
   "outputs": [],
   "source": []
  }
 ],
 "metadata": {
  "kernelspec": {
   "display_name": "Python 3",
   "language": "python",
   "name": "python3"
  },
  "language_info": {
   "codemirror_mode": {
    "name": "ipython",
    "version": 3
   },
   "file_extension": ".py",
   "mimetype": "text/x-python",
   "name": "python",
   "nbconvert_exporter": "python",
   "pygments_lexer": "ipython3",
   "version": "3.8.5"
  }
 },
 "nbformat": 4,
 "nbformat_minor": 4
}
