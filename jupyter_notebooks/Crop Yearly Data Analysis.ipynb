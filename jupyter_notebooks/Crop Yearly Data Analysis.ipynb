{
 "cells": [
  {
   "cell_type": "code",
   "execution_count": null,
   "metadata": {},
   "outputs": [],
   "source": [
    "import pandas as pd\n",
    "import os\n",
    "\n",
    "from matplotlib import pyplot as plt"
   ]
  },
  {
   "cell_type": "code",
   "execution_count": 8,
   "metadata": {},
   "outputs": [],
   "source": [
    "file_name = \"DP_LIVE_27012021103816982.csv\"\n",
    "folder_path = \"../data\"\n",
    "full_file_path = os.path.join(folder_path, file_name)"
   ]
  },
  {
   "cell_type": "code",
   "execution_count": 9,
   "metadata": {},
   "outputs": [],
   "source": [
    "df = pd.read_csv(full_file_path)"
   ]
  },
  {
   "cell_type": "code",
   "execution_count": 10,
   "metadata": {},
   "outputs": [
    {
     "data": {
      "text/html": [
       "<div>\n",
       "<style scoped>\n",
       "    .dataframe tbody tr th:only-of-type {\n",
       "        vertical-align: middle;\n",
       "    }\n",
       "\n",
       "    .dataframe tbody tr th {\n",
       "        vertical-align: top;\n",
       "    }\n",
       "\n",
       "    .dataframe thead th {\n",
       "        text-align: right;\n",
       "    }\n",
       "</style>\n",
       "<table border=\"1\" class=\"dataframe\">\n",
       "  <thead>\n",
       "    <tr style=\"text-align: right;\">\n",
       "      <th></th>\n",
       "      <th>LOCATION</th>\n",
       "      <th>INDICATOR</th>\n",
       "      <th>SUBJECT</th>\n",
       "      <th>MEASURE</th>\n",
       "      <th>FREQUENCY</th>\n",
       "      <th>TIME</th>\n",
       "      <th>Value</th>\n",
       "      <th>Flag Codes</th>\n",
       "    </tr>\n",
       "  </thead>\n",
       "  <tbody>\n",
       "    <tr>\n",
       "      <th>0</th>\n",
       "      <td>AUS</td>\n",
       "      <td>CROPYIELD</td>\n",
       "      <td>WHEAT</td>\n",
       "      <td>TONNE_HA</td>\n",
       "      <td>A</td>\n",
       "      <td>1990</td>\n",
       "      <td>1.634</td>\n",
       "      <td>NaN</td>\n",
       "    </tr>\n",
       "    <tr>\n",
       "      <th>1</th>\n",
       "      <td>AUS</td>\n",
       "      <td>CROPYIELD</td>\n",
       "      <td>WHEAT</td>\n",
       "      <td>TONNE_HA</td>\n",
       "      <td>A</td>\n",
       "      <td>1991</td>\n",
       "      <td>1.470</td>\n",
       "      <td>NaN</td>\n",
       "    </tr>\n",
       "    <tr>\n",
       "      <th>2</th>\n",
       "      <td>AUS</td>\n",
       "      <td>CROPYIELD</td>\n",
       "      <td>WHEAT</td>\n",
       "      <td>TONNE_HA</td>\n",
       "      <td>A</td>\n",
       "      <td>1992</td>\n",
       "      <td>1.781</td>\n",
       "      <td>NaN</td>\n",
       "    </tr>\n",
       "    <tr>\n",
       "      <th>3</th>\n",
       "      <td>AUS</td>\n",
       "      <td>CROPYIELD</td>\n",
       "      <td>WHEAT</td>\n",
       "      <td>TONNE_HA</td>\n",
       "      <td>A</td>\n",
       "      <td>1993</td>\n",
       "      <td>1.966</td>\n",
       "      <td>NaN</td>\n",
       "    </tr>\n",
       "    <tr>\n",
       "      <th>4</th>\n",
       "      <td>AUS</td>\n",
       "      <td>CROPYIELD</td>\n",
       "      <td>WHEAT</td>\n",
       "      <td>TONNE_HA</td>\n",
       "      <td>A</td>\n",
       "      <td>1994</td>\n",
       "      <td>1.136</td>\n",
       "      <td>NaN</td>\n",
       "    </tr>\n",
       "  </tbody>\n",
       "</table>\n",
       "</div>"
      ],
      "text/plain": [
       "  LOCATION  INDICATOR SUBJECT   MEASURE FREQUENCY  TIME  Value  Flag Codes\n",
       "0      AUS  CROPYIELD   WHEAT  TONNE_HA         A  1990  1.634         NaN\n",
       "1      AUS  CROPYIELD   WHEAT  TONNE_HA         A  1991  1.470         NaN\n",
       "2      AUS  CROPYIELD   WHEAT  TONNE_HA         A  1992  1.781         NaN\n",
       "3      AUS  CROPYIELD   WHEAT  TONNE_HA         A  1993  1.966         NaN\n",
       "4      AUS  CROPYIELD   WHEAT  TONNE_HA         A  1994  1.136         NaN"
      ]
     },
     "execution_count": 10,
     "metadata": {},
     "output_type": "execute_result"
    }
   ],
   "source": [
    "df.head()"
   ]
  },
  {
   "cell_type": "code",
   "execution_count": 11,
   "metadata": {},
   "outputs": [
    {
     "data": {
      "text/plain": [
       "array(['AUS', 'CAN', 'JPN', 'KOR', 'MEX', 'NZL', 'TUR', 'USA', 'ARG',\n",
       "       'BRA', 'CHL', 'CHN', 'COL', 'EGY', 'ETH', 'IND', 'IDN', 'IRN',\n",
       "       'KAZ', 'MYS', 'NGA', 'PAK', 'PRY', 'PER', 'PHL', 'RUS', 'SAU',\n",
       "       'ZAF', 'THA', 'UKR', 'VNM', 'WLD', 'OECD', 'BRICS', 'NOR', 'CHE',\n",
       "       'ISR', 'GBR'], dtype=object)"
      ]
     },
     "execution_count": 11,
     "metadata": {},
     "output_type": "execute_result"
    }
   ],
   "source": [
    "df['LOCATION'].unique()"
   ]
  },
  {
   "cell_type": "code",
   "execution_count": 15,
   "metadata": {},
   "outputs": [],
   "source": [
    "df_temp = df[['LOCATION', 'SUBJECT', 'TIME', 'Value', 'MEASURE']]"
   ]
  },
  {
   "cell_type": "code",
   "execution_count": 16,
   "metadata": {},
   "outputs": [
    {
     "data": {
      "text/html": [
       "<div>\n",
       "<style scoped>\n",
       "    .dataframe tbody tr th:only-of-type {\n",
       "        vertical-align: middle;\n",
       "    }\n",
       "\n",
       "    .dataframe tbody tr th {\n",
       "        vertical-align: top;\n",
       "    }\n",
       "\n",
       "    .dataframe thead th {\n",
       "        text-align: right;\n",
       "    }\n",
       "</style>\n",
       "<table border=\"1\" class=\"dataframe\">\n",
       "  <thead>\n",
       "    <tr style=\"text-align: right;\">\n",
       "      <th></th>\n",
       "      <th>LOCATION</th>\n",
       "      <th>SUBJECT</th>\n",
       "      <th>TIME</th>\n",
       "      <th>Value</th>\n",
       "      <th>MEASURE</th>\n",
       "    </tr>\n",
       "  </thead>\n",
       "  <tbody>\n",
       "    <tr>\n",
       "      <th>0</th>\n",
       "      <td>AUS</td>\n",
       "      <td>WHEAT</td>\n",
       "      <td>1990</td>\n",
       "      <td>1.634</td>\n",
       "      <td>TONNE_HA</td>\n",
       "    </tr>\n",
       "    <tr>\n",
       "      <th>1</th>\n",
       "      <td>AUS</td>\n",
       "      <td>WHEAT</td>\n",
       "      <td>1991</td>\n",
       "      <td>1.470</td>\n",
       "      <td>TONNE_HA</td>\n",
       "    </tr>\n",
       "    <tr>\n",
       "      <th>2</th>\n",
       "      <td>AUS</td>\n",
       "      <td>WHEAT</td>\n",
       "      <td>1992</td>\n",
       "      <td>1.781</td>\n",
       "      <td>TONNE_HA</td>\n",
       "    </tr>\n",
       "    <tr>\n",
       "      <th>3</th>\n",
       "      <td>AUS</td>\n",
       "      <td>WHEAT</td>\n",
       "      <td>1993</td>\n",
       "      <td>1.966</td>\n",
       "      <td>TONNE_HA</td>\n",
       "    </tr>\n",
       "    <tr>\n",
       "      <th>4</th>\n",
       "      <td>AUS</td>\n",
       "      <td>WHEAT</td>\n",
       "      <td>1994</td>\n",
       "      <td>1.136</td>\n",
       "      <td>TONNE_HA</td>\n",
       "    </tr>\n",
       "  </tbody>\n",
       "</table>\n",
       "</div>"
      ],
      "text/plain": [
       "  LOCATION SUBJECT  TIME  Value   MEASURE\n",
       "0      AUS   WHEAT  1990  1.634  TONNE_HA\n",
       "1      AUS   WHEAT  1991  1.470  TONNE_HA\n",
       "2      AUS   WHEAT  1992  1.781  TONNE_HA\n",
       "3      AUS   WHEAT  1993  1.966  TONNE_HA\n",
       "4      AUS   WHEAT  1994  1.136  TONNE_HA"
      ]
     },
     "execution_count": 16,
     "metadata": {},
     "output_type": "execute_result"
    }
   ],
   "source": [
    "df_temp.head()"
   ]
  },
  {
   "cell_type": "markdown",
   "metadata": {},
   "source": [
    "## United States Yearly Data Analysis"
   ]
  },
  {
   "cell_type": "code",
   "execution_count": 18,
   "metadata": {},
   "outputs": [],
   "source": [
    "df_usa = df_temp[(df_temp['LOCATION'] == 'USA')]"
   ]
  },
  {
   "cell_type": "code",
   "execution_count": 19,
   "metadata": {},
   "outputs": [
    {
     "data": {
      "text/html": [
       "<div>\n",
       "<style scoped>\n",
       "    .dataframe tbody tr th:only-of-type {\n",
       "        vertical-align: middle;\n",
       "    }\n",
       "\n",
       "    .dataframe tbody tr th {\n",
       "        vertical-align: top;\n",
       "    }\n",
       "\n",
       "    .dataframe thead th {\n",
       "        text-align: right;\n",
       "    }\n",
       "</style>\n",
       "<table border=\"1\" class=\"dataframe\">\n",
       "  <thead>\n",
       "    <tr style=\"text-align: right;\">\n",
       "      <th></th>\n",
       "      <th>LOCATION</th>\n",
       "      <th>SUBJECT</th>\n",
       "      <th>TIME</th>\n",
       "      <th>Value</th>\n",
       "      <th>MEASURE</th>\n",
       "    </tr>\n",
       "  </thead>\n",
       "  <tbody>\n",
       "    <tr>\n",
       "      <th>280</th>\n",
       "      <td>USA</td>\n",
       "      <td>WHEAT</td>\n",
       "      <td>1990</td>\n",
       "      <td>2.657</td>\n",
       "      <td>TONNE_HA</td>\n",
       "    </tr>\n",
       "    <tr>\n",
       "      <th>281</th>\n",
       "      <td>USA</td>\n",
       "      <td>WHEAT</td>\n",
       "      <td>1991</td>\n",
       "      <td>2.304</td>\n",
       "      <td>TONNE_HA</td>\n",
       "    </tr>\n",
       "    <tr>\n",
       "      <th>282</th>\n",
       "      <td>USA</td>\n",
       "      <td>WHEAT</td>\n",
       "      <td>1992</td>\n",
       "      <td>2.642</td>\n",
       "      <td>TONNE_HA</td>\n",
       "    </tr>\n",
       "    <tr>\n",
       "      <th>283</th>\n",
       "      <td>USA</td>\n",
       "      <td>WHEAT</td>\n",
       "      <td>1993</td>\n",
       "      <td>2.570</td>\n",
       "      <td>TONNE_HA</td>\n",
       "    </tr>\n",
       "    <tr>\n",
       "      <th>284</th>\n",
       "      <td>USA</td>\n",
       "      <td>WHEAT</td>\n",
       "      <td>1994</td>\n",
       "      <td>2.526</td>\n",
       "      <td>TONNE_HA</td>\n",
       "    </tr>\n",
       "  </tbody>\n",
       "</table>\n",
       "</div>"
      ],
      "text/plain": [
       "    LOCATION SUBJECT  TIME  Value   MEASURE\n",
       "280      USA   WHEAT  1990  2.657  TONNE_HA\n",
       "281      USA   WHEAT  1991  2.304  TONNE_HA\n",
       "282      USA   WHEAT  1992  2.642  TONNE_HA\n",
       "283      USA   WHEAT  1993  2.570  TONNE_HA\n",
       "284      USA   WHEAT  1994  2.526  TONNE_HA"
      ]
     },
     "execution_count": 19,
     "metadata": {},
     "output_type": "execute_result"
    }
   ],
   "source": [
    "df_usa.head()"
   ]
  },
  {
   "cell_type": "code",
   "execution_count": 70,
   "metadata": {},
   "outputs": [
    {
     "data": {
      "image/png": "[encoded data removed]",
      "text/plain": [
       "<Figure size 1080x360 with 1 Axes>"
      ]
     },
     "metadata": {
      "needs_background": "light"
     },
     "output_type": "display_data"
    }
   ],
   "source": [
    "x_usa = df_usa['TIME']\n",
    "y_usa = df_usa['Value']\n",
    "\n",
    "plt.figure(figsize=(15,5))\n",
    "plt.scatter(x_usa,y_usa)\n",
    "\n",
    "plt.show()"
   ]
  },
  {
   "cell_type": "markdown",
   "metadata": {},
   "source": [
    "## Brazil Yearly Data Analysis"
   ]
  },
  {
   "cell_type": "code",
   "execution_count": 36,
   "metadata": {},
   "outputs": [],
   "source": [
    "df_brazil = df_temp[(df_temp['LOCATION'] == 'BRA')]"
   ]
  },
  {
   "cell_type": "code",
   "execution_count": 22,
   "metadata": {},
   "outputs": [
    {
     "data": {
      "text/html": [
       "<div>\n",
       "<style scoped>\n",
       "    .dataframe tbody tr th:only-of-type {\n",
       "        vertical-align: middle;\n",
       "    }\n",
       "\n",
       "    .dataframe tbody tr th {\n",
       "        vertical-align: top;\n",
       "    }\n",
       "\n",
       "    .dataframe thead th {\n",
       "        text-align: right;\n",
       "    }\n",
       "</style>\n",
       "<table border=\"1\" class=\"dataframe\">\n",
       "  <thead>\n",
       "    <tr style=\"text-align: right;\">\n",
       "      <th></th>\n",
       "      <th>LOCATION</th>\n",
       "      <th>SUBJECT</th>\n",
       "      <th>TIME</th>\n",
       "      <th>Value</th>\n",
       "      <th>MEASURE</th>\n",
       "    </tr>\n",
       "  </thead>\n",
       "  <tbody>\n",
       "    <tr>\n",
       "      <th>360</th>\n",
       "      <td>BRA</td>\n",
       "      <td>WHEAT</td>\n",
       "      <td>1990</td>\n",
       "      <td>1.434</td>\n",
       "      <td>TONNE_HA</td>\n",
       "    </tr>\n",
       "    <tr>\n",
       "      <th>361</th>\n",
       "      <td>BRA</td>\n",
       "      <td>WHEAT</td>\n",
       "      <td>1991</td>\n",
       "      <td>1.371</td>\n",
       "      <td>TONNE_HA</td>\n",
       "    </tr>\n",
       "    <tr>\n",
       "      <th>362</th>\n",
       "      <td>BRA</td>\n",
       "      <td>WHEAT</td>\n",
       "      <td>1992</td>\n",
       "      <td>1.250</td>\n",
       "      <td>TONNE_HA</td>\n",
       "    </tr>\n",
       "    <tr>\n",
       "      <th>363</th>\n",
       "      <td>BRA</td>\n",
       "      <td>WHEAT</td>\n",
       "      <td>1993</td>\n",
       "      <td>1.478</td>\n",
       "      <td>TONNE_HA</td>\n",
       "    </tr>\n",
       "    <tr>\n",
       "      <th>364</th>\n",
       "      <td>BRA</td>\n",
       "      <td>WHEAT</td>\n",
       "      <td>1994</td>\n",
       "      <td>1.475</td>\n",
       "      <td>TONNE_HA</td>\n",
       "    </tr>\n",
       "  </tbody>\n",
       "</table>\n",
       "</div>"
      ],
      "text/plain": [
       "    LOCATION SUBJECT  TIME  Value   MEASURE\n",
       "360      BRA   WHEAT  1990  1.434  TONNE_HA\n",
       "361      BRA   WHEAT  1991  1.371  TONNE_HA\n",
       "362      BRA   WHEAT  1992  1.250  TONNE_HA\n",
       "363      BRA   WHEAT  1993  1.478  TONNE_HA\n",
       "364      BRA   WHEAT  1994  1.475  TONNE_HA"
      ]
     },
     "execution_count": 22,
     "metadata": {},
     "output_type": "execute_result"
    }
   ],
   "source": [
    "df_brazil.head()"
   ]
  },
  {
   "cell_type": "code",
   "execution_count": 71,
   "metadata": {},
   "outputs": [
    {
     "data": {
      "image/png": "[encoded data removed]",
      "text/plain": [
       "<Figure size 1080x360 with 1 Axes>"
      ]
     },
     "metadata": {
      "needs_background": "light"
     },
     "output_type": "display_data"
    }
   ],
   "source": [
    "x_brazil = df_brazil['TIME']\n",
    "y_brazil = df_brazil['Value']\n",
    "\n",
    "plt.figure(figsize=(15,5))\n",
    "plt.scatter(x_brazil,y_brazil)\n",
    "\n",
    "plt.show()"
   ]
  },
  {
   "cell_type": "markdown",
   "metadata": {},
   "source": [
    "## China Yearly Data Analysis"
   ]
  },
  {
   "cell_type": "code",
   "execution_count": 24,
   "metadata": {},
   "outputs": [],
   "source": [
    "df_china = df_temp[(df_temp['LOCATION'] == 'CHN')]"
   ]
  },
  {
   "cell_type": "code",
   "execution_count": 25,
   "metadata": {},
   "outputs": [
    {
     "data": {
      "text/html": [
       "<div>\n",
       "<style scoped>\n",
       "    .dataframe tbody tr th:only-of-type {\n",
       "        vertical-align: middle;\n",
       "    }\n",
       "\n",
       "    .dataframe tbody tr th {\n",
       "        vertical-align: top;\n",
       "    }\n",
       "\n",
       "    .dataframe thead th {\n",
       "        text-align: right;\n",
       "    }\n",
       "</style>\n",
       "<table border=\"1\" class=\"dataframe\">\n",
       "  <thead>\n",
       "    <tr style=\"text-align: right;\">\n",
       "      <th></th>\n",
       "      <th>LOCATION</th>\n",
       "      <th>SUBJECT</th>\n",
       "      <th>TIME</th>\n",
       "      <th>Value</th>\n",
       "      <th>MEASURE</th>\n",
       "    </tr>\n",
       "  </thead>\n",
       "  <tbody>\n",
       "    <tr>\n",
       "      <th>440</th>\n",
       "      <td>CHN</td>\n",
       "      <td>WHEAT</td>\n",
       "      <td>1990</td>\n",
       "      <td>3.194</td>\n",
       "      <td>TONNE_HA</td>\n",
       "    </tr>\n",
       "    <tr>\n",
       "      <th>441</th>\n",
       "      <td>CHN</td>\n",
       "      <td>WHEAT</td>\n",
       "      <td>1991</td>\n",
       "      <td>3.100</td>\n",
       "      <td>TONNE_HA</td>\n",
       "    </tr>\n",
       "    <tr>\n",
       "      <th>442</th>\n",
       "      <td>CHN</td>\n",
       "      <td>WHEAT</td>\n",
       "      <td>1992</td>\n",
       "      <td>3.331</td>\n",
       "      <td>TONNE_HA</td>\n",
       "    </tr>\n",
       "    <tr>\n",
       "      <th>443</th>\n",
       "      <td>CHN</td>\n",
       "      <td>WHEAT</td>\n",
       "      <td>1993</td>\n",
       "      <td>3.519</td>\n",
       "      <td>TONNE_HA</td>\n",
       "    </tr>\n",
       "    <tr>\n",
       "      <th>444</th>\n",
       "      <td>CHN</td>\n",
       "      <td>WHEAT</td>\n",
       "      <td>1994</td>\n",
       "      <td>3.426</td>\n",
       "      <td>TONNE_HA</td>\n",
       "    </tr>\n",
       "  </tbody>\n",
       "</table>\n",
       "</div>"
      ],
      "text/plain": [
       "    LOCATION SUBJECT  TIME  Value   MEASURE\n",
       "440      CHN   WHEAT  1990  3.194  TONNE_HA\n",
       "441      CHN   WHEAT  1991  3.100  TONNE_HA\n",
       "442      CHN   WHEAT  1992  3.331  TONNE_HA\n",
       "443      CHN   WHEAT  1993  3.519  TONNE_HA\n",
       "444      CHN   WHEAT  1994  3.426  TONNE_HA"
      ]
     },
     "execution_count": 25,
     "metadata": {},
     "output_type": "execute_result"
    }
   ],
   "source": [
    "df_china.head()"
   ]
  },
  {
   "cell_type": "code",
   "execution_count": 72,
   "metadata": {},
   "outputs": [
    {
     "data": {
      "image/png": "[encoded data removed]",
      "text/plain": [
       "<Figure size 1080x360 with 1 Axes>"
      ]
     },
     "metadata": {
      "needs_background": "light"
     },
     "output_type": "display_data"
    }
   ],
   "source": [
    "x_china = df_china['TIME']\n",
    "y_china = df_china['Value']\n",
    "\n",
    "plt.figure(figsize=(15,5))\n",
    "plt.scatter(x_china,y_china)\n",
    "\n",
    "plt.show()"
   ]
  },
  {
   "cell_type": "markdown",
   "metadata": {},
   "source": [
    "## India Yearly Data Analysis"
   ]
  },
  {
   "cell_type": "code",
   "execution_count": 27,
   "metadata": {},
   "outputs": [],
   "source": [
    "df_india = df_temp[(df_temp['LOCATION'] == 'IND')]"
   ]
  },
  {
   "cell_type": "code",
   "execution_count": 28,
   "metadata": {},
   "outputs": [
    {
     "data": {
      "text/html": [
       "<div>\n",
       "<style scoped>\n",
       "    .dataframe tbody tr th:only-of-type {\n",
       "        vertical-align: middle;\n",
       "    }\n",
       "\n",
       "    .dataframe tbody tr th {\n",
       "        vertical-align: top;\n",
       "    }\n",
       "\n",
       "    .dataframe thead th {\n",
       "        text-align: right;\n",
       "    }\n",
       "</style>\n",
       "<table border=\"1\" class=\"dataframe\">\n",
       "  <thead>\n",
       "    <tr style=\"text-align: right;\">\n",
       "      <th></th>\n",
       "      <th>LOCATION</th>\n",
       "      <th>SUBJECT</th>\n",
       "      <th>TIME</th>\n",
       "      <th>Value</th>\n",
       "      <th>MEASURE</th>\n",
       "    </tr>\n",
       "  </thead>\n",
       "  <tbody>\n",
       "    <tr>\n",
       "      <th>600</th>\n",
       "      <td>IND</td>\n",
       "      <td>WHEAT</td>\n",
       "      <td>1990</td>\n",
       "      <td>2.121</td>\n",
       "      <td>TONNE_HA</td>\n",
       "    </tr>\n",
       "    <tr>\n",
       "      <th>601</th>\n",
       "      <td>IND</td>\n",
       "      <td>WHEAT</td>\n",
       "      <td>1991</td>\n",
       "      <td>2.281</td>\n",
       "      <td>TONNE_HA</td>\n",
       "    </tr>\n",
       "    <tr>\n",
       "      <th>602</th>\n",
       "      <td>IND</td>\n",
       "      <td>WHEAT</td>\n",
       "      <td>1992</td>\n",
       "      <td>2.394</td>\n",
       "      <td>TONNE_HA</td>\n",
       "    </tr>\n",
       "    <tr>\n",
       "      <th>603</th>\n",
       "      <td>IND</td>\n",
       "      <td>WHEAT</td>\n",
       "      <td>1993</td>\n",
       "      <td>2.327</td>\n",
       "      <td>TONNE_HA</td>\n",
       "    </tr>\n",
       "    <tr>\n",
       "      <th>604</th>\n",
       "      <td>IND</td>\n",
       "      <td>WHEAT</td>\n",
       "      <td>1994</td>\n",
       "      <td>2.380</td>\n",
       "      <td>TONNE_HA</td>\n",
       "    </tr>\n",
       "  </tbody>\n",
       "</table>\n",
       "</div>"
      ],
      "text/plain": [
       "    LOCATION SUBJECT  TIME  Value   MEASURE\n",
       "600      IND   WHEAT  1990  2.121  TONNE_HA\n",
       "601      IND   WHEAT  1991  2.281  TONNE_HA\n",
       "602      IND   WHEAT  1992  2.394  TONNE_HA\n",
       "603      IND   WHEAT  1993  2.327  TONNE_HA\n",
       "604      IND   WHEAT  1994  2.380  TONNE_HA"
      ]
     },
     "execution_count": 28,
     "metadata": {},
     "output_type": "execute_result"
    }
   ],
   "source": [
    "df_india.head()"
   ]
  },
  {
   "cell_type": "code",
   "execution_count": 73,
   "metadata": {},
   "outputs": [
    {
     "data": {
      "image/png": "[encoded data removed]",
      "text/plain": [
       "<Figure size 1080x360 with 1 Axes>"
      ]
     },
     "metadata": {
      "needs_background": "light"
     },
     "output_type": "display_data"
    }
   ],
   "source": [
    "x_india = df_india['TIME']\n",
    "y_india = df_india['Value']\n",
    "\n",
    "plt.figure(figsize=(15,5))\n",
    "plt.scatter(x_india,y_india)\n",
    "\n",
    "plt.show()"
   ]
  },
  {
   "cell_type": "code",
   "execution_count": 31,
   "metadata": {},
   "outputs": [],
   "source": [
    "import numpy as np"
   ]
  },
  {
   "cell_type": "code",
   "execution_count": 69,
   "metadata": {},
   "outputs": [
    {
     "data": {
      "text/plain": [
       "[<matplotlib.lines.Line2D at 0x25933c3bcd0>]"
      ]
     },
     "execution_count": 69,
     "metadata": {},
     "output_type": "execute_result"
    },
    {
     "data": {
      "image/png": "[encoded data removed]",
      "text/plain": [
       "<Figure size 432x288 with 4 Axes>"
      ]
     },
     "metadata": {
      "needs_background": "light"
     },
     "output_type": "display_data"
    }
   ],
   "source": [
    "fig, axs = plt.subplots(4)\n",
    "fig.suptitle('Crop Production Comparison')\n",
    "plt.subplots_adjust(bottom=0.1)\n",
    "axs[0].set_title('United States')\n",
    "axs[0].plot(x_usa, y_usa)\n",
    "axs[1].set_title('Brazil')\n",
    "axs[1].plot(x_brazil, y_brazil, 'tab:orange')\n",
    "axs[2].set_title('China')\n",
    "axs[2].plot(x_china, y_china, 'tab:green')\n",
    "axs[3].set_title('India')\n",
    "axs[3].plot(x_india, y_india, 'tab:red')"
   ]
  },
  {
   "cell_type": "code",
   "execution_count": null,
   "metadata": {},
   "outputs": [],
   "source": []
  }
 ],
 "metadata": {
  "kernelspec": {
   "display_name": "Python 3",
   "language": "python",
   "name": "python3"
  },
  "language_info": {
   "codemirror_mode": {
    "name": "ipython",
    "version": 3
   },
   "file_extension": ".py",
   "mimetype": "text/x-python",
   "name": "python",
   "nbconvert_exporter": "python",
   "pygments_lexer": "ipython3",
   "version": "3.8.5"
  }
 },
 "nbformat": 4,
 "nbformat_minor": 4
}
